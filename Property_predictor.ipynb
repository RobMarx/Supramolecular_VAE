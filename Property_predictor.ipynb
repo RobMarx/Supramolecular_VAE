{
 "cells": [
  {
   "cell_type": "code",
   "execution_count": 1,
   "metadata": {
    "ExecuteTime": {
     "end_time": "2020-02-20T07:06:23.724906Z",
     "start_time": "2020-02-20T07:06:23.696137Z"
    }
   },
   "outputs": [],
   "source": [
    "%load_ext autoreload\n",
    "%autoreload 2"
   ]
  },
  {
   "cell_type": "code",
   "execution_count": 2,
   "metadata": {
    "ExecuteTime": {
     "end_time": "2020-02-20T07:06:25.978496Z",
     "start_time": "2020-02-20T07:06:23.904487Z"
    }
   },
   "outputs": [
    {
     "name": "stderr",
     "output_type": "stream",
     "text": [
      "RDKit WARNING: [02:06:24] Enabling RDKit 2019.09.3 jupyter extensions\n",
      "/home/beangoben/anaconda3/lib/python3.7/site-packages/tqdm/std.py:658: FutureWarning: The Panel class is removed from pandas. Accessing it from the top-level namespace will also be removed in the next version\n",
      "  from pandas import Panel\n"
     ]
    }
   ],
   "source": [
    "import vaemof\n",
    "from vaemof import experiments\n",
    "from vaemof import utils\n",
    "from vaemof.vocabs import SELFIESVocab, MOFVocab, PropVocab\n",
    "from vaemof import modules\n",
    "from vaemof import training\n",
    "from vaemof.model import VAEMOF\n",
    "from vaemof import configs\n",
    "\n",
    "from vaemof.utils import header_str\n",
    "vaemof.experiments.plot_settings()"
   ]
  },
  {
   "cell_type": "code",
   "execution_count": 3,
   "metadata": {
    "ExecuteTime": {
     "end_time": "2020-02-20T07:06:26.035526Z",
     "start_time": "2020-02-20T07:06:25.981095Z"
    }
   },
   "outputs": [
    {
     "name": "stdout",
     "output_type": "stream",
     "text": [
      "rdkit : 2019.09.3\n",
      "torch : 1.4.0\n",
      "cuda? False\n"
     ]
    }
   ],
   "source": [
    "import os\n",
    "from tqdm.auto import tqdm\n",
    "import numpy as np\n",
    "import torch\n",
    "import rdkit\n",
    "import pandas as pd\n",
    "import matplotlib.pyplot as plt\n",
    "import seaborn as sns\n",
    "from collections import OrderedDict\n",
    "\n",
    "print(f'rdkit : {rdkit.__version__}')\n",
    "print(f'torch : {torch.__version__}')\n",
    "print(f'cuda? {torch.cuda.is_available()}')\n",
    "tqdm.pandas()\n",
    "utils.disable_rdkit_log()"
   ]
  },
  {
   "cell_type": "markdown",
   "metadata": {},
   "source": [
    "## Hparams"
   ]
  },
  {
   "cell_type": "code",
   "execution_count": 4,
   "metadata": {
    "ExecuteTime": {
     "end_time": "2020-02-20T07:06:26.078507Z",
     "start_time": "2020-02-20T07:06:26.042716Z"
    },
    "scrolled": true
   },
   "outputs": [
    {
     "name": "stdout",
     "output_type": "stream",
     "text": [
      "==================================== mof_y =====================================\n",
      "==================================== config ====================================\n",
      "== train == :\n",
      "        train_device:                 cpu\n",
      "          train_seed:                  42\n",
      "    train_batch_size:                  64\n",
      "        train_epochs:                  20\n",
      "            train_lr:               0.005\n",
      "     train_clip_grad:                  20\n",
      "== vae == :\n",
      "      vae_latent_dim:                 256\n",
      "           vae_y_dec:                True\n",
      "     vae_selfies_dec:               False\n",
      "         vae_mof_enc:                True\n",
      "         vae_mof_dec:               False\n",
      "vae_duplicate_smiles:                True\n",
      "== mof == :\n",
      "        mof_encoding:                 all\n",
      "   mof_weighted_loss:                True\n",
      "         mof_w_start:                 0.0\n",
      "           mof_w_end:                 1.0\n",
      "           mof_start:                  15\n",
      "    mof_const_length:                  10\n",
      "== y == :\n",
      "            y_labels:['lcd', 'pld', 'density', 'avf', 'avsa', 'agsa', 'co2n2_co2_mol_kg', 'co2n2_n2_mol_kg', 'co2n2_selectivity', 'co2n2_heat_avg', 'co2n2_heat_co2', 'co2n2_heat_n2', 'co2n2_heat_molfrac', 'co2ch4_co2_mol_kg', 'co2ch4_ch4_mol_kg', 'co2ch4_selectivity', 'co2ch4_heat_avg', 'co2ch4_heat_co2', 'co2ch4_heat_ch4', 'co2ch4_heat_molfrac', 'scscore']\n",
      "           y_weights:[1, 1, 1, 1, 1, 1, 1, 1, 1, 1, 1, 1, 1, 1, 1, 1, 1, 1, 1, 1, 1]\n",
      "           y_w_start:                 1.0\n",
      "             y_w_end:                 1.0\n",
      "             y_start:                   0\n",
      "      y_const_length:                  10\n",
      "== files == :\n",
      "          files_data:data/MOF_gen_train.csv.gz\n",
      "          files_prop:data/MOF_properties_train.csv.gz\n",
      "       files_results:        results/test\n",
      "        files_config:         config.json\n",
      "           files_log:             log.csv\n",
      "== kl == :\n",
      "     kl_cycle_length:                  15\n",
      "   kl_cycle_constant:                   3\n",
      "     kl_weight_start:               1e-05\n",
      "       kl_weight_end:                0.77\n",
      "== enc == :\n",
      "      enc_hidden_dim:                 256\n",
      "        enc_n_layers:                   1\n",
      "         enc_dropout:                0.25\n",
      "== dec == :\n",
      "      dec_hidden_dim:                 512\n",
      "        dec_n_layers:                   1\n",
      "         dec_dropout:                 0.0\n"
     ]
    }
   ],
   "source": [
    "preset = 'mof_y'\n",
    "WORK_DIR = 'results/test'\n",
    "hparams = configs.get_model_config(WORK_DIR, preset)\n",
    "print(utils.header_str(preset))\n",
    "hparams['train_device'] = 'cuda' if torch.cuda.is_available() else 'cpu'\n",
    "\n",
    "testing = configs.testing_config(hparams)\n",
    "configs.print_config(hparams)\n",
    "utils.set_seed(hparams['train_seed'])\n",
    "device = torch.device(hparams['train_device'])"
   ]
  },
  {
   "cell_type": "markdown",
   "metadata": {},
   "source": [
    "## Load MOF data\n",
    "\n",
    "Assemble smiles formula: [organic core][metal_node][topology][branch_smiles]"
   ]
  },
  {
   "cell_type": "code",
   "execution_count": 5,
   "metadata": {
    "ExecuteTime": {
     "end_time": "2020-02-20T07:06:30.627505Z",
     "start_time": "2020-02-20T07:06:27.150723Z"
    }
   },
   "outputs": [
    {
     "name": "stdout",
     "output_type": "stream",
     "text": [
      "=================================== Testing ====================================\n",
      "df shape: (713, 9)\n",
      "df columns: ['index', 'branch_smiles', 'id2mof', 'metal_node', 'mof_index', 'organic_core', 'randomized', 'topology', 'train/test']\n",
      "Found 713 unique mofs\n"
     ]
    },
    {
     "data": {
      "text/html": [
       "<div>\n",
       "<style scoped>\n",
       "    .dataframe tbody tr th:only-of-type {\n",
       "        vertical-align: middle;\n",
       "    }\n",
       "\n",
       "    .dataframe tbody tr th {\n",
       "        vertical-align: top;\n",
       "    }\n",
       "\n",
       "    .dataframe thead th {\n",
       "        text-align: right;\n",
       "    }\n",
       "</style>\n",
       "<table border=\"1\" class=\"dataframe\">\n",
       "  <thead>\n",
       "    <tr style=\"text-align: right;\">\n",
       "      <th></th>\n",
       "      <th>index</th>\n",
       "      <th>branch_smiles</th>\n",
       "      <th>id2mof</th>\n",
       "      <th>metal_node</th>\n",
       "      <th>mof_index</th>\n",
       "      <th>organic_core</th>\n",
       "      <th>randomized</th>\n",
       "      <th>topology</th>\n",
       "      <th>train/test</th>\n",
       "    </tr>\n",
       "  </thead>\n",
       "  <tbody>\n",
       "    <tr>\n",
       "      <th>0</th>\n",
       "      <td>0</td>\n",
       "      <td>CC(c1cc(O)cc(O)c1)(C(Sc1cc(O)cc(O)c1)c1cc(O)cc...</td>\n",
       "      <td>0</td>\n",
       "      <td>sym_7_mc_4</td>\n",
       "      <td>4.0</td>\n",
       "      <td>None</td>\n",
       "      <td>False</td>\n",
       "      <td>acs</td>\n",
       "      <td>1</td>\n",
       "    </tr>\n",
       "    <tr>\n",
       "      <th>1</th>\n",
       "      <td>2140</td>\n",
       "      <td>O=C1OC2C3(CC([Lr])C2(S(=O)(=O)O)S(=O)(=O)O)C(C...</td>\n",
       "      <td>1</td>\n",
       "      <td>sym_8_mc_7</td>\n",
       "      <td>30198.0</td>\n",
       "      <td>None</td>\n",
       "      <td>False</td>\n",
       "      <td>bcu</td>\n",
       "      <td>1</td>\n",
       "    </tr>\n",
       "    <tr>\n",
       "      <th>2</th>\n",
       "      <td>4280</td>\n",
       "      <td>CP(C)c1cc2c(c(P(C)C)c1)N=C(Nc1cc(P(C)C)c([Lr])...</td>\n",
       "      <td>2</td>\n",
       "      <td>sym_8_mc_8</td>\n",
       "      <td>60377.0</td>\n",
       "      <td>None</td>\n",
       "      <td>False</td>\n",
       "      <td>bcu</td>\n",
       "      <td>1</td>\n",
       "    </tr>\n",
       "    <tr>\n",
       "      <th>3</th>\n",
       "      <td>6420</td>\n",
       "      <td>CC(c1cc(O)cc(O)c1)(C(Sc1cc(O)cc(O)c1)c1cc(O)cc...</td>\n",
       "      <td>3</td>\n",
       "      <td>sym_8_mc_9</td>\n",
       "      <td>90517.0</td>\n",
       "      <td>None</td>\n",
       "      <td>False</td>\n",
       "      <td>bcu</td>\n",
       "      <td>1</td>\n",
       "    </tr>\n",
       "    <tr>\n",
       "      <th>4</th>\n",
       "      <td>8560</td>\n",
       "      <td>O=C1c2cc(-c3cc(O)cc(O)c3)c([Lr])cc2C(c2cc(O)cc...</td>\n",
       "      <td>4</td>\n",
       "      <td>sym_16_mc_6</td>\n",
       "      <td>120699.0</td>\n",
       "      <td>None</td>\n",
       "      <td>False</td>\n",
       "      <td>bcs</td>\n",
       "      <td>1</td>\n",
       "    </tr>\n",
       "  </tbody>\n",
       "</table>\n",
       "</div>"
      ],
      "text/plain": [
       "   index                                      branch_smiles  id2mof  \\\n",
       "0      0  CC(c1cc(O)cc(O)c1)(C(Sc1cc(O)cc(O)c1)c1cc(O)cc...       0   \n",
       "1   2140  O=C1OC2C3(CC([Lr])C2(S(=O)(=O)O)S(=O)(=O)O)C(C...       1   \n",
       "2   4280  CP(C)c1cc2c(c(P(C)C)c1)N=C(Nc1cc(P(C)C)c([Lr])...       2   \n",
       "3   6420  CC(c1cc(O)cc(O)c1)(C(Sc1cc(O)cc(O)c1)c1cc(O)cc...       3   \n",
       "4   8560  O=C1c2cc(-c3cc(O)cc(O)c3)c([Lr])cc2C(c2cc(O)cc...       4   \n",
       "\n",
       "    metal_node  mof_index organic_core  randomized topology  train/test  \n",
       "0   sym_7_mc_4        4.0         None       False      acs           1  \n",
       "1   sym_8_mc_7    30198.0         None       False      bcu           1  \n",
       "2   sym_8_mc_8    60377.0         None       False      bcu           1  \n",
       "3   sym_8_mc_9    90517.0         None       False      bcu           1  \n",
       "4  sym_16_mc_6   120699.0         None       False      bcs           1  "
      ]
     },
     "execution_count": 5,
     "metadata": {},
     "output_type": "execute_result"
    }
   ],
   "source": [
    "smiles_column = 'branch_smiles'\n",
    "testtrain_column = 'train/test'\n",
    "df = experiments.get_generator_df(csv_file=hparams['files_data'],\n",
    "                                  smiles_column=smiles_column,\n",
    "                                  use_duplicates=hparams['vae_duplicate_smiles'],\n",
    "                                  testing=testing)\n",
    "ids2mofs, mof2ids, mof_columns = experiments.get_mofdict(\n",
    "    df, hparams['mof_encoding'])\n",
    "df.head()"
   ]
  },
  {
   "cell_type": "markdown",
   "metadata": {},
   "source": [
    "## Load property data"
   ]
  },
  {
   "cell_type": "code",
   "execution_count": 6,
   "metadata": {
    "ExecuteTime": {
     "end_time": "2020-02-20T07:06:32.813209Z",
     "start_time": "2020-02-20T07:06:30.629110Z"
    },
    "scrolled": true
   },
   "outputs": [
    {
     "name": "stdout",
     "output_type": "stream",
     "text": [
      "=================================== Testing ====================================\n",
      "Restored variables from data/scscore_1024uint8_model.ckpt-10654.as_numpy.json.gz\n"
     ]
    },
    {
     "data": {
      "application/vnd.jupyter.widget-view+json": {
       "model_id": "d396972a2e114c5eaa0a119f6b310905",
       "version_major": 2,
       "version_minor": 0
      },
      "text/plain": [
       "HBox(children=(FloatProgress(value=0.0, max=1000.0), HTML(value='')))"
      ]
     },
     "metadata": {},
     "output_type": "display_data"
    },
    {
     "name": "stdout",
     "output_type": "stream",
     "text": [
      "\n",
      "Removed 68 datapoints due to mask.\n",
      "Removed 40 datapoints due non-valid mof (mof2ids).\n",
      "Removed 4 datapoints due to high selectivity.\n"
     ]
    },
    {
     "data": {
      "text/html": [
       "<div>\n",
       "<style scoped>\n",
       "    .dataframe tbody tr th:only-of-type {\n",
       "        vertical-align: middle;\n",
       "    }\n",
       "\n",
       "    .dataframe tbody tr th {\n",
       "        vertical-align: top;\n",
       "    }\n",
       "\n",
       "    .dataframe thead th {\n",
       "        text-align: right;\n",
       "    }\n",
       "</style>\n",
       "<table border=\"1\" class=\"dataframe\">\n",
       "  <thead>\n",
       "    <tr style=\"text-align: right;\">\n",
       "      <th></th>\n",
       "      <th>organic_core</th>\n",
       "      <th>metal_node</th>\n",
       "      <th>topology</th>\n",
       "      <th>branch_smiles</th>\n",
       "      <th>lcd</th>\n",
       "      <th>pld</th>\n",
       "      <th>density</th>\n",
       "      <th>avf</th>\n",
       "      <th>avsa</th>\n",
       "      <th>agsa</th>\n",
       "      <th>...</th>\n",
       "      <th>co2ch4_selectivity</th>\n",
       "      <th>co2ch4_heat_avg</th>\n",
       "      <th>co2ch4_heat_co2</th>\n",
       "      <th>co2ch4_heat_ch4</th>\n",
       "      <th>co2ch4_heat_molfrac</th>\n",
       "      <th>selfies_safe</th>\n",
       "      <th>mask</th>\n",
       "      <th>train/test</th>\n",
       "      <th>scscore</th>\n",
       "      <th>id2mof</th>\n",
       "    </tr>\n",
       "  </thead>\n",
       "  <tbody>\n",
       "    <tr>\n",
       "      <th>0</th>\n",
       "      <td>sym_5_vae_70</td>\n",
       "      <td>sym_8_mc_7</td>\n",
       "      <td>scu</td>\n",
       "      <td>[Lr]c1ccc(o1)[Lr]</td>\n",
       "      <td>6.92684</td>\n",
       "      <td>3.03360</td>\n",
       "      <td>1.143760</td>\n",
       "      <td>0.00000</td>\n",
       "      <td>0.000</td>\n",
       "      <td>0.00</td>\n",
       "      <td>...</td>\n",
       "      <td>0.000000</td>\n",
       "      <td>0.00000</td>\n",
       "      <td>0.00000</td>\n",
       "      <td>0.00000</td>\n",
       "      <td>0.00000</td>\n",
       "      <td>True</td>\n",
       "      <td>True</td>\n",
       "      <td>1</td>\n",
       "      <td>1.466316</td>\n",
       "      <td>451</td>\n",
       "    </tr>\n",
       "    <tr>\n",
       "      <th>1</th>\n",
       "      <td>sym_5_vae_1038</td>\n",
       "      <td>sym_5_mc_2</td>\n",
       "      <td>ssa</td>\n",
       "      <td>[Lr]c1sc(c2c1OCCO2)[Lr]</td>\n",
       "      <td>22.43124</td>\n",
       "      <td>20.60178</td>\n",
       "      <td>0.421659</td>\n",
       "      <td>0.56582</td>\n",
       "      <td>1624.620</td>\n",
       "      <td>3852.92</td>\n",
       "      <td>...</td>\n",
       "      <td>3.036957</td>\n",
       "      <td>-12.71150</td>\n",
       "      <td>-18.03664</td>\n",
       "      <td>-11.03007</td>\n",
       "      <td>-12.79457</td>\n",
       "      <td>True</td>\n",
       "      <td>True</td>\n",
       "      <td>0</td>\n",
       "      <td>2.445184</td>\n",
       "      <td>405</td>\n",
       "    </tr>\n",
       "    <tr>\n",
       "      <th>2</th>\n",
       "      <td>sym_4_vae_153</td>\n",
       "      <td>sym_9_mc_5</td>\n",
       "      <td>iac</td>\n",
       "      <td>[Lr]c1ccc(cc1)C#C[Lr]</td>\n",
       "      <td>14.39486</td>\n",
       "      <td>12.29328</td>\n",
       "      <td>0.468486</td>\n",
       "      <td>0.54877</td>\n",
       "      <td>1846.740</td>\n",
       "      <td>3941.94</td>\n",
       "      <td>...</td>\n",
       "      <td>2.246914</td>\n",
       "      <td>-10.97052</td>\n",
       "      <td>-14.84627</td>\n",
       "      <td>-9.85140</td>\n",
       "      <td>-10.84985</td>\n",
       "      <td>True</td>\n",
       "      <td>True</td>\n",
       "      <td>1</td>\n",
       "      <td>1.743814</td>\n",
       "      <td>186</td>\n",
       "    </tr>\n",
       "    <tr>\n",
       "      <th>3</th>\n",
       "      <td>sym_5_vae_BR3264</td>\n",
       "      <td>sym_9_mc_5</td>\n",
       "      <td>soc</td>\n",
       "      <td>[Lr]c1c(C)nn([Lr])c1C</td>\n",
       "      <td>13.94895</td>\n",
       "      <td>10.49463</td>\n",
       "      <td>0.659699</td>\n",
       "      <td>0.41073</td>\n",
       "      <td>1831.680</td>\n",
       "      <td>2776.53</td>\n",
       "      <td>...</td>\n",
       "      <td>4.668019</td>\n",
       "      <td>-16.33142</td>\n",
       "      <td>-22.63069</td>\n",
       "      <td>-13.42098</td>\n",
       "      <td>-16.57039</td>\n",
       "      <td>True</td>\n",
       "      <td>True</td>\n",
       "      <td>1</td>\n",
       "      <td>2.306571</td>\n",
       "      <td>509</td>\n",
       "    </tr>\n",
       "    <tr>\n",
       "      <th>4</th>\n",
       "      <td>sym_5_vae_795</td>\n",
       "      <td>sym_4_mc_1</td>\n",
       "      <td>pth</td>\n",
       "      <td>O=C1c2c(c3ccc([Lr])cc31)ccc([Lr])c2</td>\n",
       "      <td>23.45655</td>\n",
       "      <td>21.13022</td>\n",
       "      <td>0.146984</td>\n",
       "      <td>0.78696</td>\n",
       "      <td>967.072</td>\n",
       "      <td>6579.45</td>\n",
       "      <td>...</td>\n",
       "      <td>1.855461</td>\n",
       "      <td>-8.26031</td>\n",
       "      <td>-11.89364</td>\n",
       "      <td>-7.56506</td>\n",
       "      <td>-8.30322</td>\n",
       "      <td>True</td>\n",
       "      <td>True</td>\n",
       "      <td>1</td>\n",
       "      <td>3.012280</td>\n",
       "      <td>257</td>\n",
       "    </tr>\n",
       "  </tbody>\n",
       "</table>\n",
       "<p>5 rows × 29 columns</p>\n",
       "</div>"
      ],
      "text/plain": [
       "       organic_core  metal_node topology                        branch_smiles  \\\n",
       "0      sym_5_vae_70  sym_8_mc_7      scu                    [Lr]c1ccc(o1)[Lr]   \n",
       "1    sym_5_vae_1038  sym_5_mc_2      ssa              [Lr]c1sc(c2c1OCCO2)[Lr]   \n",
       "2     sym_4_vae_153  sym_9_mc_5      iac                [Lr]c1ccc(cc1)C#C[Lr]   \n",
       "3  sym_5_vae_BR3264  sym_9_mc_5      soc                [Lr]c1c(C)nn([Lr])c1C   \n",
       "4     sym_5_vae_795  sym_4_mc_1      pth  O=C1c2c(c3ccc([Lr])cc31)ccc([Lr])c2   \n",
       "\n",
       "        lcd       pld   density      avf      avsa     agsa  ...  \\\n",
       "0   6.92684   3.03360  1.143760  0.00000     0.000     0.00  ...   \n",
       "1  22.43124  20.60178  0.421659  0.56582  1624.620  3852.92  ...   \n",
       "2  14.39486  12.29328  0.468486  0.54877  1846.740  3941.94  ...   \n",
       "3  13.94895  10.49463  0.659699  0.41073  1831.680  2776.53  ...   \n",
       "4  23.45655  21.13022  0.146984  0.78696   967.072  6579.45  ...   \n",
       "\n",
       "   co2ch4_selectivity  co2ch4_heat_avg  co2ch4_heat_co2  co2ch4_heat_ch4  \\\n",
       "0            0.000000          0.00000          0.00000          0.00000   \n",
       "1            3.036957        -12.71150        -18.03664        -11.03007   \n",
       "2            2.246914        -10.97052        -14.84627         -9.85140   \n",
       "3            4.668019        -16.33142        -22.63069        -13.42098   \n",
       "4            1.855461         -8.26031        -11.89364         -7.56506   \n",
       "\n",
       "   co2ch4_heat_molfrac  selfies_safe  mask  train/test   scscore  id2mof  \n",
       "0              0.00000          True  True           1  1.466316     451  \n",
       "1            -12.79457          True  True           0  2.445184     405  \n",
       "2            -10.84985          True  True           1  1.743814     186  \n",
       "3            -16.57039          True  True           1  2.306571     509  \n",
       "4             -8.30322          True  True           1  3.012280     257  \n",
       "\n",
       "[5 rows x 29 columns]"
      ]
     },
     "execution_count": 6,
     "metadata": {},
     "output_type": "execute_result"
    }
   ],
   "source": [
    "prop_df = experiments.get_prop_df(csv_file=hparams['files_prop'],\n",
    "                                  targets=hparams['y_labels'],\n",
    "                                  mof2ids=mof2ids,\n",
    "                                  testing=testing,\n",
    "                                  smiles_column=smiles_column,\n",
    "                                  compute_scscore=True)\n",
    "prop_df.head()"
   ]
  },
  {
   "cell_type": "markdown",
   "metadata": {
    "ExecuteTime": {
     "end_time": "2019-09-26T22:30:17.885911Z",
     "start_time": "2019-09-26T22:30:17.854869Z"
    }
   },
   "source": [
    "## Train/test splits and hparams"
   ]
  },
  {
   "cell_type": "code",
   "execution_count": 7,
   "metadata": {
    "ExecuteTime": {
     "end_time": "2020-02-20T07:06:32.835701Z",
     "start_time": "2020-02-20T07:06:32.814575Z"
    },
    "scrolled": false
   },
   "outputs": [
    {
     "name": "stdout",
     "output_type": "stream",
     "text": [
      "Train sizes:     657 and     802\n",
      "Test  sizes:      56 and      86\n"
     ]
    }
   ],
   "source": [
    "train_index = np.array(df[df[testtrain_column] == 1].index.tolist())\n",
    "test_index = np.array(df[df[testtrain_column] == 0].index.tolist())\n",
    "prop_train_index = np.array(\n",
    "    prop_df[prop_df[testtrain_column] == 1].index.tolist())\n",
    "prop_test_index = np.array(\n",
    "    prop_df[prop_df[testtrain_column] == 0].index.tolist())\n",
    "print(f'Train sizes: {len(train_index):7d} and {len(prop_train_index):7d}')\n",
    "print(f'Test  sizes: {len(test_index):7d} and {len(prop_test_index):7d}')"
   ]
  },
  {
   "cell_type": "markdown",
   "metadata": {},
   "source": [
    "# Vocabulary and preprocessors"
   ]
  },
  {
   "cell_type": "code",
   "execution_count": 8,
   "metadata": {
    "ExecuteTime": {
     "end_time": "2020-02-20T07:06:36.279741Z",
     "start_time": "2020-02-20T07:06:32.836921Z"
    },
    "scrolled": true
   },
   "outputs": [
    {
     "data": {
      "application/vnd.jupyter.widget-view+json": {
       "model_id": "ac01fa643c4b4ee1a42bc8005c57769c",
       "version_major": 2,
       "version_minor": 0
      },
      "text/plain": [
       "HBox(children=(FloatProgress(value=0.0, max=1601.0), HTML(value='')))"
      ]
     },
     "metadata": {},
     "output_type": "display_data"
    },
    {
     "name": "stdout",
     "output_type": "stream",
     "text": [
      "\n",
      "Alphabet size is 44\n",
      "Max seq length is 106 with 5 extra padding\n",
      "Used columns =['metal_node', 'organic_core', 'topology', 'id2mof'] with frequency weighting=True\n",
      "metal_node   has 15 classes\n",
      "organic_core has 52 classes\n",
      "topology     has 41 classes\n",
      "id2mof       has 713 classes\n"
     ]
    },
    {
     "data": {
      "text/plain": [
       "(<vaemof.vocabs.SELFIESVocab at 0x7fc7861f8990>,\n",
       " <vaemof.vocabs.MOFVocab at 0x7fc7859e0650>,\n",
       " <vaemof.vocabs.PropVocab at 0x7fc7859f4550>)"
      ]
     },
     "execution_count": 8,
     "metadata": {},
     "output_type": "execute_result"
    }
   ],
   "source": [
    "smiles_list = df[smiles_column].tolist()+prop_df[smiles_column].tolist()\n",
    "vocab = SELFIESVocab.from_data(smiles_list)\n",
    "vocab_mof = MOFVocab.from_data(df.append(\n",
    "    prop_df, sort=False), mof_columns, weighting=hparams['mof_weighted_loss'])\n",
    "vocab_y = PropVocab.from_data(\n",
    "    prop_df, hparams['y_labels'], hparams['y_weights'])\n",
    "vocab, vocab_mof, vocab_y"
   ]
  },
  {
   "cell_type": "markdown",
   "metadata": {},
   "source": [
    "# Instanciate Model\n",
    "\n",
    "## Careful! (it saves and will overwrite any model previously saved)"
   ]
  },
  {
   "cell_type": "code",
   "execution_count": 17,
   "metadata": {
    "ExecuteTime": {
     "end_time": "2020-02-20T07:08:19.059192Z",
     "start_time": "2020-02-20T07:08:18.816690Z"
    },
    "scrolled": true
   },
   "outputs": [
    {
     "data": {
      "text/html": [
       "<h1>VAEMOF</h1>"
      ],
      "text/plain": [
       "<IPython.core.display.HTML object>"
      ]
     },
     "metadata": {},
     "output_type": "display_data"
    },
    {
     "data": {
      "text/html": [
       "<div>\n",
       "<style scoped>\n",
       "    .dataframe tbody tr th:only-of-type {\n",
       "        vertical-align: middle;\n",
       "    }\n",
       "\n",
       "    .dataframe tbody tr th {\n",
       "        vertical-align: top;\n",
       "    }\n",
       "\n",
       "    .dataframe thead th {\n",
       "        text-align: right;\n",
       "    }\n",
       "</style>\n",
       "<table border=\"1\" class=\"dataframe\">\n",
       "  <thead>\n",
       "    <tr style=\"text-align: right;\">\n",
       "      <th></th>\n",
       "      <th>Name</th>\n",
       "      <th>Module</th>\n",
       "      <th>Extra</th>\n",
       "      <th>submodule</th>\n",
       "      <th>trainable</th>\n",
       "      <th>n_params</th>\n",
       "      <th>trainable_params</th>\n",
       "    </tr>\n",
       "  </thead>\n",
       "  <tbody>\n",
       "    <tr>\n",
       "      <th>0</th>\n",
       "      <td>z_mu</td>\n",
       "      <td>Linear</td>\n",
       "      <td>in_features=512, out_features=256, bias=True</td>\n",
       "      <td>False</td>\n",
       "      <td>True</td>\n",
       "      <td>131328</td>\n",
       "      <td>131328</td>\n",
       "    </tr>\n",
       "    <tr>\n",
       "      <th>1</th>\n",
       "      <td>z_logvar</td>\n",
       "      <td>Linear</td>\n",
       "      <td>in_features=512, out_features=256, bias=True</td>\n",
       "      <td>False</td>\n",
       "      <td>True</td>\n",
       "      <td>131328</td>\n",
       "      <td>131328</td>\n",
       "    </tr>\n",
       "    <tr>\n",
       "      <th>2</th>\n",
       "      <td>enc_x</td>\n",
       "      <td>CharEncoder</td>\n",
       "      <td></td>\n",
       "      <td>False</td>\n",
       "      <td>True</td>\n",
       "      <td>364601</td>\n",
       "      <td>364601</td>\n",
       "    </tr>\n",
       "    <tr>\n",
       "      <th>3</th>\n",
       "      <td>enc_mof</td>\n",
       "      <td>MOFEncoder</td>\n",
       "      <td></td>\n",
       "      <td>False</td>\n",
       "      <td>True</td>\n",
       "      <td>407552</td>\n",
       "      <td>407552</td>\n",
       "    </tr>\n",
       "    <tr>\n",
       "      <th>4</th>\n",
       "      <td>dec_y</td>\n",
       "      <td>PropDecoder</td>\n",
       "      <td></td>\n",
       "      <td>False</td>\n",
       "      <td>True</td>\n",
       "      <td>5418</td>\n",
       "      <td>5397</td>\n",
       "    </tr>\n",
       "  </tbody>\n",
       "</table>\n",
       "</div>"
      ],
      "text/plain": [
       "       Name       Module                                         Extra  \\\n",
       "0      z_mu       Linear  in_features=512, out_features=256, bias=True   \n",
       "1  z_logvar       Linear  in_features=512, out_features=256, bias=True   \n",
       "2     enc_x  CharEncoder                                                 \n",
       "3   enc_mof   MOFEncoder                                                 \n",
       "4     dec_y  PropDecoder                                                 \n",
       "\n",
       "   submodule  trainable  n_params  trainable_params  \n",
       "0      False       True    131328            131328  \n",
       "1      False       True    131328            131328  \n",
       "2      False       True    364601            364601  \n",
       "3      False       True    407552            407552  \n",
       "4      False       True      5418              5397  "
      ]
     },
     "metadata": {},
     "output_type": "display_data"
    },
    {
     "name": "stdout",
     "output_type": "stream",
     "text": [
      "Trainable params: 1040206 out of 1040227 total (100.00%)\n"
     ]
    }
   ],
   "source": [
    "try:\n",
    "    utils.clear_torch(model)\n",
    "except:\n",
    "    utils.clear_torch(model=None)\n",
    "\n",
    "model = VAEMOF(hparams, vocab, vocab_mof, vocab_y).to(device)\n",
    "model.save()\n",
    "modules.model_summary(model, include_children=False)"
   ]
  },
  {
   "cell_type": "markdown",
   "metadata": {
    "ExecuteTime": {
     "end_time": "2020-02-16T03:37:06.457591Z",
     "start_time": "2020-02-16T03:37:06.438876Z"
    }
   },
   "source": [
    "## Prepare train/test "
   ]
  },
  {
   "cell_type": "code",
   "execution_count": 10,
   "metadata": {
    "ExecuteTime": {
     "end_time": "2020-02-20T07:06:37.168630Z",
     "start_time": "2020-02-20T07:06:36.363217Z"
    },
    "scrolled": true
   },
   "outputs": [],
   "source": [
    "train_mof = model.df_to_tuples(df.loc[train_index], smiles_column)\n",
    "test_mof = model.df_to_tuples(df.loc[test_index], smiles_column)\n",
    "prop_train = model.df_to_tuples(prop_df.loc[prop_train_index], smiles_column)\n",
    "prop_test = model.df_to_tuples(prop_df.loc[prop_test_index], smiles_column)\n",
    "train_data = train_mof + prop_train\n",
    "test_data = test_mof + prop_test"
   ]
  },
  {
   "cell_type": "markdown",
   "metadata": {},
   "source": [
    "## Train"
   ]
  },
  {
   "cell_type": "code",
   "execution_count": 18,
   "metadata": {
    "ExecuteTime": {
     "end_time": "2020-02-20T07:11:51.487241Z",
     "start_time": "2020-02-20T07:08:20.917830Z"
    },
    "scrolled": true
   },
   "outputs": [
    {
     "data": {
      "application/vnd.jupyter.widget-view+json": {
       "model_id": "bc1958c01b134d98bca4ab290c810d5e",
       "version_major": 2,
       "version_minor": 0
      },
      "text/plain": [
       "HBox(children=(FloatProgress(value=0.0, description='Epochs', max=20.0, style=ProgressStyle(description_width=…"
      ]
     },
     "metadata": {},
     "output_type": "display_data"
    },
    {
     "data": {
      "application/vnd.jupyter.widget-view+json": {
       "model_id": "",
       "version_major": 2,
       "version_minor": 0
      },
      "text/plain": [
       "HBox(children=(FloatProgress(value=0.0, description='Train', max=22.0, style=ProgressStyle(description_width='…"
      ]
     },
     "metadata": {},
     "output_type": "display_data"
    },
    {
     "data": {
      "application/vnd.jupyter.widget-view+json": {
       "model_id": "",
       "version_major": 2,
       "version_minor": 0
      },
      "text/plain": [
       "HBox(children=(FloatProgress(value=0.0, description='Test', max=3.0, style=ProgressStyle(description_width='in…"
      ]
     },
     "metadata": {},
     "output_type": "display_data"
    },
    {
     "data": {
      "application/vnd.jupyter.widget-view+json": {
       "model_id": "",
       "version_major": 2,
       "version_minor": 0
      },
      "text/plain": [
       "HBox(children=(FloatProgress(value=0.0, description='Train', max=22.0, style=ProgressStyle(description_width='…"
      ]
     },
     "metadata": {},
     "output_type": "display_data"
    },
    {
     "data": {
      "application/vnd.jupyter.widget-view+json": {
       "model_id": "",
       "version_major": 2,
       "version_minor": 0
      },
      "text/plain": [
       "HBox(children=(FloatProgress(value=0.0, description='Test', max=3.0, style=ProgressStyle(description_width='in…"
      ]
     },
     "metadata": {},
     "output_type": "display_data"
    },
    {
     "data": {
      "application/vnd.jupyter.widget-view+json": {
       "model_id": "",
       "version_major": 2,
       "version_minor": 0
      },
      "text/plain": [
       "HBox(children=(FloatProgress(value=0.0, description='Train', max=22.0, style=ProgressStyle(description_width='…"
      ]
     },
     "metadata": {},
     "output_type": "display_data"
    },
    {
     "data": {
      "application/vnd.jupyter.widget-view+json": {
       "model_id": "",
       "version_major": 2,
       "version_minor": 0
      },
      "text/plain": [
       "HBox(children=(FloatProgress(value=0.0, description='Test', max=3.0, style=ProgressStyle(description_width='in…"
      ]
     },
     "metadata": {},
     "output_type": "display_data"
    },
    {
     "data": {
      "application/vnd.jupyter.widget-view+json": {
       "model_id": "",
       "version_major": 2,
       "version_minor": 0
      },
      "text/plain": [
       "HBox(children=(FloatProgress(value=0.0, description='Train', max=22.0, style=ProgressStyle(description_width='…"
      ]
     },
     "metadata": {},
     "output_type": "display_data"
    },
    {
     "data": {
      "application/vnd.jupyter.widget-view+json": {
       "model_id": "",
       "version_major": 2,
       "version_minor": 0
      },
      "text/plain": [
       "HBox(children=(FloatProgress(value=0.0, description='Test', max=3.0, style=ProgressStyle(description_width='in…"
      ]
     },
     "metadata": {},
     "output_type": "display_data"
    },
    {
     "data": {
      "application/vnd.jupyter.widget-view+json": {
       "model_id": "",
       "version_major": 2,
       "version_minor": 0
      },
      "text/plain": [
       "HBox(children=(FloatProgress(value=0.0, description='Train', max=22.0, style=ProgressStyle(description_width='…"
      ]
     },
     "metadata": {},
     "output_type": "display_data"
    },
    {
     "data": {
      "application/vnd.jupyter.widget-view+json": {
       "model_id": "",
       "version_major": 2,
       "version_minor": 0
      },
      "text/plain": [
       "HBox(children=(FloatProgress(value=0.0, description='Test', max=3.0, style=ProgressStyle(description_width='in…"
      ]
     },
     "metadata": {},
     "output_type": "display_data"
    },
    {
     "data": {
      "application/vnd.jupyter.widget-view+json": {
       "model_id": "",
       "version_major": 2,
       "version_minor": 0
      },
      "text/plain": [
       "HBox(children=(FloatProgress(value=0.0, description='Train', max=22.0, style=ProgressStyle(description_width='…"
      ]
     },
     "metadata": {},
     "output_type": "display_data"
    },
    {
     "data": {
      "application/vnd.jupyter.widget-view+json": {
       "model_id": "",
       "version_major": 2,
       "version_minor": 0
      },
      "text/plain": [
       "HBox(children=(FloatProgress(value=0.0, description='Test', max=3.0, style=ProgressStyle(description_width='in…"
      ]
     },
     "metadata": {},
     "output_type": "display_data"
    },
    {
     "data": {
      "application/vnd.jupyter.widget-view+json": {
       "model_id": "",
       "version_major": 2,
       "version_minor": 0
      },
      "text/plain": [
       "HBox(children=(FloatProgress(value=0.0, description='Train', max=22.0, style=ProgressStyle(description_width='…"
      ]
     },
     "metadata": {},
     "output_type": "display_data"
    },
    {
     "data": {
      "application/vnd.jupyter.widget-view+json": {
       "model_id": "",
       "version_major": 2,
       "version_minor": 0
      },
      "text/plain": [
       "HBox(children=(FloatProgress(value=0.0, description='Test', max=3.0, style=ProgressStyle(description_width='in…"
      ]
     },
     "metadata": {},
     "output_type": "display_data"
    },
    {
     "data": {
      "application/vnd.jupyter.widget-view+json": {
       "model_id": "",
       "version_major": 2,
       "version_minor": 0
      },
      "text/plain": [
       "HBox(children=(FloatProgress(value=0.0, description='Train', max=22.0, style=ProgressStyle(description_width='…"
      ]
     },
     "metadata": {},
     "output_type": "display_data"
    },
    {
     "data": {
      "application/vnd.jupyter.widget-view+json": {
       "model_id": "",
       "version_major": 2,
       "version_minor": 0
      },
      "text/plain": [
       "HBox(children=(FloatProgress(value=0.0, description='Test', max=3.0, style=ProgressStyle(description_width='in…"
      ]
     },
     "metadata": {},
     "output_type": "display_data"
    },
    {
     "data": {
      "application/vnd.jupyter.widget-view+json": {
       "model_id": "",
       "version_major": 2,
       "version_minor": 0
      },
      "text/plain": [
       "HBox(children=(FloatProgress(value=0.0, description='Train', max=22.0, style=ProgressStyle(description_width='…"
      ]
     },
     "metadata": {},
     "output_type": "display_data"
    },
    {
     "data": {
      "application/vnd.jupyter.widget-view+json": {
       "model_id": "",
       "version_major": 2,
       "version_minor": 0
      },
      "text/plain": [
       "HBox(children=(FloatProgress(value=0.0, description='Test', max=3.0, style=ProgressStyle(description_width='in…"
      ]
     },
     "metadata": {},
     "output_type": "display_data"
    },
    {
     "data": {
      "application/vnd.jupyter.widget-view+json": {
       "model_id": "",
       "version_major": 2,
       "version_minor": 0
      },
      "text/plain": [
       "HBox(children=(FloatProgress(value=0.0, description='Train', max=22.0, style=ProgressStyle(description_width='…"
      ]
     },
     "metadata": {},
     "output_type": "display_data"
    },
    {
     "data": {
      "application/vnd.jupyter.widget-view+json": {
       "model_id": "",
       "version_major": 2,
       "version_minor": 0
      },
      "text/plain": [
       "HBox(children=(FloatProgress(value=0.0, description='Test', max=3.0, style=ProgressStyle(description_width='in…"
      ]
     },
     "metadata": {},
     "output_type": "display_data"
    },
    {
     "data": {
      "application/vnd.jupyter.widget-view+json": {
       "model_id": "",
       "version_major": 2,
       "version_minor": 0
      },
      "text/plain": [
       "HBox(children=(FloatProgress(value=0.0, description='Train', max=22.0, style=ProgressStyle(description_width='…"
      ]
     },
     "metadata": {},
     "output_type": "display_data"
    },
    {
     "data": {
      "application/vnd.jupyter.widget-view+json": {
       "model_id": "",
       "version_major": 2,
       "version_minor": 0
      },
      "text/plain": [
       "HBox(children=(FloatProgress(value=0.0, description='Test', max=3.0, style=ProgressStyle(description_width='in…"
      ]
     },
     "metadata": {},
     "output_type": "display_data"
    },
    {
     "data": {
      "application/vnd.jupyter.widget-view+json": {
       "model_id": "",
       "version_major": 2,
       "version_minor": 0
      },
      "text/plain": [
       "HBox(children=(FloatProgress(value=0.0, description='Train', max=22.0, style=ProgressStyle(description_width='…"
      ]
     },
     "metadata": {},
     "output_type": "display_data"
    },
    {
     "data": {
      "application/vnd.jupyter.widget-view+json": {
       "model_id": "",
       "version_major": 2,
       "version_minor": 0
      },
      "text/plain": [
       "HBox(children=(FloatProgress(value=0.0, description='Test', max=3.0, style=ProgressStyle(description_width='in…"
      ]
     },
     "metadata": {},
     "output_type": "display_data"
    },
    {
     "data": {
      "application/vnd.jupyter.widget-view+json": {
       "model_id": "",
       "version_major": 2,
       "version_minor": 0
      },
      "text/plain": [
       "HBox(children=(FloatProgress(value=0.0, description='Train', max=22.0, style=ProgressStyle(description_width='…"
      ]
     },
     "metadata": {},
     "output_type": "display_data"
    },
    {
     "data": {
      "application/vnd.jupyter.widget-view+json": {
       "model_id": "",
       "version_major": 2,
       "version_minor": 0
      },
      "text/plain": [
       "HBox(children=(FloatProgress(value=0.0, description='Test', max=3.0, style=ProgressStyle(description_width='in…"
      ]
     },
     "metadata": {},
     "output_type": "display_data"
    },
    {
     "data": {
      "application/vnd.jupyter.widget-view+json": {
       "model_id": "",
       "version_major": 2,
       "version_minor": 0
      },
      "text/plain": [
       "HBox(children=(FloatProgress(value=0.0, description='Train', max=22.0, style=ProgressStyle(description_width='…"
      ]
     },
     "metadata": {},
     "output_type": "display_data"
    },
    {
     "data": {
      "application/vnd.jupyter.widget-view+json": {
       "model_id": "",
       "version_major": 2,
       "version_minor": 0
      },
      "text/plain": [
       "HBox(children=(FloatProgress(value=0.0, description='Test', max=3.0, style=ProgressStyle(description_width='in…"
      ]
     },
     "metadata": {},
     "output_type": "display_data"
    },
    {
     "data": {
      "application/vnd.jupyter.widget-view+json": {
       "model_id": "",
       "version_major": 2,
       "version_minor": 0
      },
      "text/plain": [
       "HBox(children=(FloatProgress(value=0.0, description='Train', max=22.0, style=ProgressStyle(description_width='…"
      ]
     },
     "metadata": {},
     "output_type": "display_data"
    },
    {
     "data": {
      "application/vnd.jupyter.widget-view+json": {
       "model_id": "",
       "version_major": 2,
       "version_minor": 0
      },
      "text/plain": [
       "HBox(children=(FloatProgress(value=0.0, description='Test', max=3.0, style=ProgressStyle(description_width='in…"
      ]
     },
     "metadata": {},
     "output_type": "display_data"
    },
    {
     "data": {
      "application/vnd.jupyter.widget-view+json": {
       "model_id": "",
       "version_major": 2,
       "version_minor": 0
      },
      "text/plain": [
       "HBox(children=(FloatProgress(value=0.0, description='Train', max=22.0, style=ProgressStyle(description_width='…"
      ]
     },
     "metadata": {},
     "output_type": "display_data"
    },
    {
     "data": {
      "application/vnd.jupyter.widget-view+json": {
       "model_id": "",
       "version_major": 2,
       "version_minor": 0
      },
      "text/plain": [
       "HBox(children=(FloatProgress(value=0.0, description='Test', max=3.0, style=ProgressStyle(description_width='in…"
      ]
     },
     "metadata": {},
     "output_type": "display_data"
    },
    {
     "data": {
      "application/vnd.jupyter.widget-view+json": {
       "model_id": "",
       "version_major": 2,
       "version_minor": 0
      },
      "text/plain": [
       "HBox(children=(FloatProgress(value=0.0, description='Train', max=22.0, style=ProgressStyle(description_width='…"
      ]
     },
     "metadata": {},
     "output_type": "display_data"
    },
    {
     "data": {
      "application/vnd.jupyter.widget-view+json": {
       "model_id": "",
       "version_major": 2,
       "version_minor": 0
      },
      "text/plain": [
       "HBox(children=(FloatProgress(value=0.0, description='Test', max=3.0, style=ProgressStyle(description_width='in…"
      ]
     },
     "metadata": {},
     "output_type": "display_data"
    },
    {
     "data": {
      "application/vnd.jupyter.widget-view+json": {
       "model_id": "",
       "version_major": 2,
       "version_minor": 0
      },
      "text/plain": [
       "HBox(children=(FloatProgress(value=0.0, description='Train', max=22.0, style=ProgressStyle(description_width='…"
      ]
     },
     "metadata": {},
     "output_type": "display_data"
    },
    {
     "data": {
      "application/vnd.jupyter.widget-view+json": {
       "model_id": "",
       "version_major": 2,
       "version_minor": 0
      },
      "text/plain": [
       "HBox(children=(FloatProgress(value=0.0, description='Test', max=3.0, style=ProgressStyle(description_width='in…"
      ]
     },
     "metadata": {},
     "output_type": "display_data"
    },
    {
     "data": {
      "application/vnd.jupyter.widget-view+json": {
       "model_id": "",
       "version_major": 2,
       "version_minor": 0
      },
      "text/plain": [
       "HBox(children=(FloatProgress(value=0.0, description='Train', max=22.0, style=ProgressStyle(description_width='…"
      ]
     },
     "metadata": {},
     "output_type": "display_data"
    },
    {
     "data": {
      "application/vnd.jupyter.widget-view+json": {
       "model_id": "",
       "version_major": 2,
       "version_minor": 0
      },
      "text/plain": [
       "HBox(children=(FloatProgress(value=0.0, description='Test', max=3.0, style=ProgressStyle(description_width='in…"
      ]
     },
     "metadata": {},
     "output_type": "display_data"
    },
    {
     "data": {
      "application/vnd.jupyter.widget-view+json": {
       "model_id": "",
       "version_major": 2,
       "version_minor": 0
      },
      "text/plain": [
       "HBox(children=(FloatProgress(value=0.0, description='Train', max=22.0, style=ProgressStyle(description_width='…"
      ]
     },
     "metadata": {},
     "output_type": "display_data"
    },
    {
     "data": {
      "application/vnd.jupyter.widget-view+json": {
       "model_id": "",
       "version_major": 2,
       "version_minor": 0
      },
      "text/plain": [
       "HBox(children=(FloatProgress(value=0.0, description='Test', max=3.0, style=ProgressStyle(description_width='in…"
      ]
     },
     "metadata": {},
     "output_type": "display_data"
    },
    {
     "name": "stdout",
     "output_type": "stream",
     "text": [
      "\n"
     ]
    }
   ],
   "source": [
    "trainer = training.Trainer(hparams)\n",
    "trainer.train(model, train_data, test_data)"
   ]
  },
  {
   "cell_type": "markdown",
   "metadata": {},
   "source": [
    "# Results\n",
    "## Load saved model"
   ]
  },
  {
   "cell_type": "code",
   "execution_count": 19,
   "metadata": {
    "ExecuteTime": {
     "end_time": "2020-02-20T07:12:39.006050Z",
     "start_time": "2020-02-20T07:12:38.965770Z"
    }
   },
   "outputs": [],
   "source": [
    "hparams_file = os.path.join(WORK_DIR,'config.json')\n",
    "hparams = configs.AttributeDict.from_jsonfile(hparams_file)\n",
    "model = VAEMOF.load(hparams)"
   ]
  },
  {
   "cell_type": "markdown",
   "metadata": {},
   "source": [
    "## Training stats"
   ]
  },
  {
   "cell_type": "code",
   "execution_count": 26,
   "metadata": {
    "ExecuteTime": {
     "end_time": "2020-02-20T07:16:26.626291Z",
     "start_time": "2020-02-20T07:16:26.562665Z"
    }
   },
   "outputs": [
    {
     "name": "stdout",
     "output_type": "stream",
     "text": [
      "(20, 50)\n",
      "Index(['epoch', 'test_y', 'test_loss', 'lcd-r2', 'lcd-MAE', 'pld-r2',\n",
      "       'pld-MAE', 'density-r2', 'density-MAE', 'avf-r2', 'avf-MAE', 'avsa-r2',\n",
      "       'avsa-MAE', 'agsa-r2', 'agsa-MAE', 'co2n2_co2_mol_kg-r2',\n",
      "       'co2n2_co2_mol_kg-MAE', 'co2n2_n2_mol_kg-r2', 'co2n2_n2_mol_kg-MAE',\n",
      "       'co2n2_selectivity-r2', 'co2n2_selectivity-MAE', 'co2n2_heat_avg-r2',\n",
      "       'co2n2_heat_avg-MAE', 'co2n2_heat_co2-r2', 'co2n2_heat_co2-MAE',\n",
      "       'co2n2_heat_n2-r2', 'co2n2_heat_n2-MAE', 'co2n2_heat_molfrac-r2',\n",
      "       'co2n2_heat_molfrac-MAE', 'co2ch4_co2_mol_kg-r2',\n",
      "       'co2ch4_co2_mol_kg-MAE', 'co2ch4_ch4_mol_kg-r2',\n",
      "       'co2ch4_ch4_mol_kg-MAE', 'co2ch4_selectivity-r2',\n",
      "       'co2ch4_selectivity-MAE', 'co2ch4_heat_avg-r2', 'co2ch4_heat_avg-MAE',\n",
      "       'co2ch4_heat_co2-r2', 'co2ch4_heat_co2-MAE', 'co2ch4_heat_ch4-r2',\n",
      "       'co2ch4_heat_ch4-MAE', 'co2ch4_heat_molfrac-r2',\n",
      "       'co2ch4_heat_molfrac-MAE', 'scscore-r2', 'scscore-MAE', 'lr', 'λ_y',\n",
      "       'train_y', 'train_loss', 'mean_r2'],\n",
      "      dtype='object')\n"
     ]
    },
    {
     "data": {
      "text/html": [
       "<div>\n",
       "<style scoped>\n",
       "    .dataframe tbody tr th:only-of-type {\n",
       "        vertical-align: middle;\n",
       "    }\n",
       "\n",
       "    .dataframe tbody tr th {\n",
       "        vertical-align: top;\n",
       "    }\n",
       "\n",
       "    .dataframe thead th {\n",
       "        text-align: right;\n",
       "    }\n",
       "</style>\n",
       "<table border=\"1\" class=\"dataframe\">\n",
       "  <thead>\n",
       "    <tr style=\"text-align: right;\">\n",
       "      <th></th>\n",
       "      <th>epoch</th>\n",
       "      <th>test_y</th>\n",
       "      <th>test_loss</th>\n",
       "      <th>lcd-r2</th>\n",
       "      <th>lcd-MAE</th>\n",
       "      <th>pld-r2</th>\n",
       "      <th>pld-MAE</th>\n",
       "      <th>density-r2</th>\n",
       "      <th>density-MAE</th>\n",
       "      <th>avf-r2</th>\n",
       "      <th>...</th>\n",
       "      <th>co2ch4_heat_ch4-MAE</th>\n",
       "      <th>co2ch4_heat_molfrac-r2</th>\n",
       "      <th>co2ch4_heat_molfrac-MAE</th>\n",
       "      <th>scscore-r2</th>\n",
       "      <th>scscore-MAE</th>\n",
       "      <th>lr</th>\n",
       "      <th>λ_y</th>\n",
       "      <th>train_y</th>\n",
       "      <th>train_loss</th>\n",
       "      <th>mean_r2</th>\n",
       "    </tr>\n",
       "  </thead>\n",
       "  <tbody>\n",
       "    <tr>\n",
       "      <th>0</th>\n",
       "      <td>0</td>\n",
       "      <td>9.545484</td>\n",
       "      <td>9.545484</td>\n",
       "      <td>0.991675</td>\n",
       "      <td>38.188606</td>\n",
       "      <td>0.753698</td>\n",
       "      <td>180.843719</td>\n",
       "      <td>0.975511</td>\n",
       "      <td>58.397797</td>\n",
       "      <td>0.999816</td>\n",
       "      <td>...</td>\n",
       "      <td>21.539017</td>\n",
       "      <td>0.960311</td>\n",
       "      <td>45.319965</td>\n",
       "      <td>0.848697</td>\n",
       "      <td>70.802002</td>\n",
       "      <td>0.005</td>\n",
       "      <td>1.0</td>\n",
       "      <td>24.347307</td>\n",
       "      <td>24.347307</td>\n",
       "      <td>0.945763</td>\n",
       "    </tr>\n",
       "    <tr>\n",
       "      <th>1</th>\n",
       "      <td>1</td>\n",
       "      <td>8.752435</td>\n",
       "      <td>8.752435</td>\n",
       "      <td>0.891332</td>\n",
       "      <td>101.486130</td>\n",
       "      <td>0.897277</td>\n",
       "      <td>113.828636</td>\n",
       "      <td>0.857138</td>\n",
       "      <td>101.464958</td>\n",
       "      <td>0.977589</td>\n",
       "      <td>...</td>\n",
       "      <td>57.500179</td>\n",
       "      <td>0.914056</td>\n",
       "      <td>64.310127</td>\n",
       "      <td>0.995727</td>\n",
       "      <td>13.850142</td>\n",
       "      <td>0.005</td>\n",
       "      <td>1.0</td>\n",
       "      <td>17.754093</td>\n",
       "      <td>17.754093</td>\n",
       "      <td>0.927297</td>\n",
       "    </tr>\n",
       "    <tr>\n",
       "      <th>2</th>\n",
       "      <td>2</td>\n",
       "      <td>7.937070</td>\n",
       "      <td>7.937070</td>\n",
       "      <td>0.995204</td>\n",
       "      <td>28.137308</td>\n",
       "      <td>0.897766</td>\n",
       "      <td>113.631630</td>\n",
       "      <td>0.999788</td>\n",
       "      <td>6.316831</td>\n",
       "      <td>0.916561</td>\n",
       "      <td>...</td>\n",
       "      <td>61.668423</td>\n",
       "      <td>0.999571</td>\n",
       "      <td>5.360663</td>\n",
       "      <td>0.962480</td>\n",
       "      <td>46.767902</td>\n",
       "      <td>0.005</td>\n",
       "      <td>1.0</td>\n",
       "      <td>16.027263</td>\n",
       "      <td>16.027263</td>\n",
       "      <td>0.949230</td>\n",
       "    </tr>\n",
       "    <tr>\n",
       "      <th>3</th>\n",
       "      <td>3</td>\n",
       "      <td>7.177501</td>\n",
       "      <td>7.177501</td>\n",
       "      <td>0.981366</td>\n",
       "      <td>56.081352</td>\n",
       "      <td>0.970608</td>\n",
       "      <td>58.935894</td>\n",
       "      <td>0.970664</td>\n",
       "      <td>58.744976</td>\n",
       "      <td>0.938899</td>\n",
       "      <td>...</td>\n",
       "      <td>27.900812</td>\n",
       "      <td>0.996695</td>\n",
       "      <td>11.716887</td>\n",
       "      <td>0.979041</td>\n",
       "      <td>34.394054</td>\n",
       "      <td>0.005</td>\n",
       "      <td>1.0</td>\n",
       "      <td>14.998045</td>\n",
       "      <td>14.998045</td>\n",
       "      <td>0.935671</td>\n",
       "    </tr>\n",
       "    <tr>\n",
       "      <th>4</th>\n",
       "      <td>4</td>\n",
       "      <td>8.207352</td>\n",
       "      <td>8.207352</td>\n",
       "      <td>0.966440</td>\n",
       "      <td>73.397911</td>\n",
       "      <td>0.886998</td>\n",
       "      <td>117.595543</td>\n",
       "      <td>0.978708</td>\n",
       "      <td>49.245129</td>\n",
       "      <td>0.834980</td>\n",
       "      <td>...</td>\n",
       "      <td>74.018646</td>\n",
       "      <td>0.919310</td>\n",
       "      <td>64.719223</td>\n",
       "      <td>0.942721</td>\n",
       "      <td>51.215454</td>\n",
       "      <td>0.005</td>\n",
       "      <td>1.0</td>\n",
       "      <td>13.095436</td>\n",
       "      <td>13.095436</td>\n",
       "      <td>0.925856</td>\n",
       "    </tr>\n",
       "  </tbody>\n",
       "</table>\n",
       "<p>5 rows × 50 columns</p>\n",
       "</div>"
      ],
      "text/plain": [
       "   epoch    test_y  test_loss    lcd-r2     lcd-MAE    pld-r2     pld-MAE  \\\n",
       "0      0  9.545484   9.545484  0.991675   38.188606  0.753698  180.843719   \n",
       "1      1  8.752435   8.752435  0.891332  101.486130  0.897277  113.828636   \n",
       "2      2  7.937070   7.937070  0.995204   28.137308  0.897766  113.631630   \n",
       "3      3  7.177501   7.177501  0.981366   56.081352  0.970608   58.935894   \n",
       "4      4  8.207352   8.207352  0.966440   73.397911  0.886998  117.595543   \n",
       "\n",
       "   density-r2  density-MAE    avf-r2  ...  co2ch4_heat_ch4-MAE  \\\n",
       "0    0.975511    58.397797  0.999816  ...            21.539017   \n",
       "1    0.857138   101.464958  0.977589  ...            57.500179   \n",
       "2    0.999788     6.316831  0.916561  ...            61.668423   \n",
       "3    0.970664    58.744976  0.938899  ...            27.900812   \n",
       "4    0.978708    49.245129  0.834980  ...            74.018646   \n",
       "\n",
       "   co2ch4_heat_molfrac-r2  co2ch4_heat_molfrac-MAE  scscore-r2  scscore-MAE  \\\n",
       "0                0.960311                45.319965    0.848697    70.802002   \n",
       "1                0.914056                64.310127    0.995727    13.850142   \n",
       "2                0.999571                 5.360663    0.962480    46.767902   \n",
       "3                0.996695                11.716887    0.979041    34.394054   \n",
       "4                0.919310                64.719223    0.942721    51.215454   \n",
       "\n",
       "      lr  λ_y    train_y  train_loss   mean_r2  \n",
       "0  0.005  1.0  24.347307   24.347307  0.945763  \n",
       "1  0.005  1.0  17.754093   17.754093  0.927297  \n",
       "2  0.005  1.0  16.027263   16.027263  0.949230  \n",
       "3  0.005  1.0  14.998045   14.998045  0.935671  \n",
       "4  0.005  1.0  13.095436   13.095436  0.925856  \n",
       "\n",
       "[5 rows x 50 columns]"
      ]
     },
     "execution_count": 26,
     "metadata": {},
     "output_type": "execute_result"
    }
   ],
   "source": [
    "log_df = pd.read_csv(configs.at_results_dir(hparams,'files_log'))\n",
    "log_df = log_df.drop(columns=[c for c in log_df.columns if any(l in c for l in ['mof','x', 'kl','ratio'])])\n",
    "print(log_df.shape)\n",
    "print(log_df.columns)\n",
    "log_df.head()"
   ]
  },
  {
   "cell_type": "code",
   "execution_count": 27,
   "metadata": {
    "ExecuteTime": {
     "end_time": "2020-02-20T07:16:38.842126Z",
     "start_time": "2020-02-20T07:16:37.816387Z"
    },
    "scrolled": false
   },
   "outputs": [
    {
     "data": {
      "image/png": "[encoded data removed]",
      "text/plain": [
       "<Figure size 864x432 with 1 Axes>"
      ]
     },
     "metadata": {
      "needs_background": "light"
     },
     "output_type": "display_data"
    },
    {
     "data": {
      "image/png": "[encoded data removed]",
      "text/plain": [
       "<Figure size 864x432 with 1 Axes>"
      ]
     },
     "metadata": {
      "needs_background": "light"
     },
     "output_type": "display_data"
    }
   ],
   "source": [
    "COMPONENTS = training.COMPONENTS\n",
    "epochs = log_df['epoch'].values\n",
    "\n",
    "plt.plot(epochs, log_df[f'train_y'], label='Train')\n",
    "plt.plot(epochs, log_df[f'test_y'], label='Test')\n",
    "plt.title(f'Loss')\n",
    "plt.yscale(\"log\")\n",
    "plt.legend()\n",
    "plt.show()\n",
    "\n",
    "results=[]\n",
    "for label in hparams['y_labels']:\n",
    "    metric = f'{label}-r2'\n",
    "    results.extend([{'epoch':epoch,'r2':value,\"prop\":label} for epoch, value in log_df[['epoch',metric]].values ]  )\n",
    "prop_df = pd.DataFrame(results)\n",
    "sns.lineplot(x='epoch',y='r2', data=prop_df)\n",
    "plt.show()"
   ]
  }
 ],
 "metadata": {
  "kernelspec": {
   "display_name": "Python 3",
   "language": "python",
   "name": "python3"
  },
  "language_info": {
   "codemirror_mode": {
    "name": "ipython",
    "version": 3
   },
   "file_extension": ".py",
   "mimetype": "text/x-python",
   "name": "python",
   "nbconvert_exporter": "python",
   "pygments_lexer": "ipython3",
   "version": "3.7.6"
  },
  "toc": {
   "base_numbering": 1,
   "nav_menu": {},
   "number_sections": true,
   "sideBar": true,
   "skip_h1_title": false,
   "title_cell": "Table of Contents",
   "title_sidebar": "Contents",
   "toc_cell": false,
   "toc_position": {},
   "toc_section_display": true,
   "toc_window_display": false
  }
 },
 "nbformat": 4,
 "nbformat_minor": 2
}
