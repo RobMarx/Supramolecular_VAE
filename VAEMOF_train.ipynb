{
 "cells": [
  {
   "cell_type": "code",
   "execution_count": 5,
   "metadata": {
    "ExecuteTime": {
     "end_time": "2020-02-19T06:15:10.333555Z",
     "start_time": "2020-02-19T06:15:10.302926Z"
    }
   },
   "outputs": [
    {
     "name": "stdout",
     "output_type": "stream",
     "text": [
      "The autoreload extension is already loaded. To reload it, use:\n",
      "  %reload_ext autoreload\n"
     ]
    }
   ],
   "source": [
    "%load_ext autoreload\n",
    "%autoreload 2"
   ]
  },
  {
   "cell_type": "code",
   "execution_count": 6,
   "metadata": {
    "ExecuteTime": {
     "end_time": "2020-02-19T06:15:10.953410Z",
     "start_time": "2020-02-19T06:15:10.920350Z"
    }
   },
   "outputs": [],
   "source": [
    "import vaemof\n",
    "from vaemof import experiments\n",
    "from vaemof import utils\n",
    "from vaemof.vocabs import SELFIESVocab, MOFVocab, PropVocab\n",
    "from vaemof import modules\n",
    "from vaemof import training\n",
    "from vaemof.model import VAEMOF\n",
    "from vaemof import configs\n",
    "\n",
    "from vaemof.utils import header_str\n",
    "vaemof.experiments.plot_settings()"
   ]
  },
  {
   "cell_type": "code",
   "execution_count": 7,
   "metadata": {
    "ExecuteTime": {
     "end_time": "2020-02-19T06:15:11.563603Z",
     "start_time": "2020-02-19T06:15:11.522757Z"
    }
   },
   "outputs": [
    {
     "name": "stdout",
     "output_type": "stream",
     "text": [
      "rdkit : 2019.09.3\n",
      "torch : 1.4.0\n"
     ]
    }
   ],
   "source": [
    "import os\n",
    "from tqdm.auto import tqdm\n",
    "import numpy as np\n",
    "import torch\n",
    "import rdkit\n",
    "import pandas as pd\n",
    "import matplotlib.pyplot as plt\n",
    "\n",
    "from itertools import product\n",
    "from collections import OrderedDict, Counter\n",
    "\n",
    "print(f'rdkit : {rdkit.__version__}')\n",
    "print(f'torch : {torch.__version__}')\n",
    "tqdm.pandas()\n",
    "utils.disable_rdkit_log()"
   ]
  },
  {
   "cell_type": "markdown",
   "metadata": {},
   "source": [
    "## Hparams"
   ]
  },
  {
   "cell_type": "code",
   "execution_count": 8,
   "metadata": {
    "ExecuteTime": {
     "end_time": "2020-02-19T06:15:13.391300Z",
     "start_time": "2020-02-19T06:15:13.257343Z"
    }
   },
   "outputs": [
    {
     "name": "stdout",
     "output_type": "stream",
     "text": [
      "===================================== full =====================================\n",
      "==================================== config ====================================\n",
      "== train == :\n",
      "        train_device:                 cpu\n",
      "          train_seed:                  42\n",
      "    train_batch_size:                  64\n",
      "        train_epochs:                  20\n",
      "            train_lr:               0.004\n",
      "     train_clip_grad:                  50\n",
      "== vae == :\n",
      "      vae_latent_dim:                 287\n",
      "           vae_y_dec:                True\n",
      "     vae_selfies_dec:                True\n",
      "         vae_mof_enc:                True\n",
      "         vae_mof_dec:                True\n",
      "vae_duplicate_smiles:                True\n",
      "== mof == :\n",
      "        mof_encoding:                 all\n",
      "   mof_weighted_loss:                True\n",
      "         mof_w_start:                 0.0\n",
      "           mof_w_end:                 1.0\n",
      "           mof_start:                   0\n",
      "    mof_const_length:                  10\n",
      "== y == :\n",
      "            y_labels:['lcd', 'pld', 'density', 'avf', 'avsa', 'agsa', 'co2n2_co2_mol_kg', 'co2n2_n2_mol_kg', 'co2n2_selectivity', 'co2n2_heat_avg', 'co2n2_heat_co2', 'co2n2_heat_n2', 'co2n2_heat_molfrac', 'co2ch4_co2_mol_kg', 'co2ch4_ch4_mol_kg', 'co2ch4_selectivity', 'co2ch4_heat_avg', 'co2ch4_heat_co2', 'co2ch4_heat_ch4', 'co2ch4_heat_molfrac', 'scscore']\n",
      "           y_weights:[1, 1, 1, 1, 1, 1, 1, 1, 1, 1, 1, 1, 1, 1, 1, 1, 1, 1, 1, 1, 1]\n",
      "           y_w_start:                 0.0\n",
      "             y_w_end:                 1.0\n",
      "             y_start:                   0\n",
      "      y_const_length:                  10\n",
      "== files == :\n",
      "          files_data:data/MOF_gen_train.csv.gz\n",
      "          files_prop:data/MOF_properties_train.csv\n",
      "       files_results:        results/test\n",
      "        files_config:         config.json\n",
      "           files_log:             log.csv\n",
      "== kl == :\n",
      "     kl_cycle_length:                  15\n",
      "   kl_cycle_constant:                   3\n",
      "     kl_weight_start:                 0.0\n",
      "       kl_weight_end:                0.77\n",
      "== enc == :\n",
      "      enc_hidden_dim:                 256\n",
      "        enc_n_layers:                   1\n",
      "         enc_dropout:                0.25\n",
      "== dec == :\n",
      "      dec_hidden_dim:                 512\n",
      "        dec_n_layers:                   3\n",
      "         dec_dropout:                 0.0\n"
     ]
    }
   ],
   "source": [
    "preset = 'full'\n",
    "WORK_DIR = 'results/test'\n",
    "hparams = configs.get_model_config(WORK_DIR, preset)\n",
    "print(utils.header_str(preset))\n",
    "hparams['train_device'] = 'cuda' if torch.cuda.is_available() else 'cpu'\n",
    "                \n",
    "testing = configs.testing_config(hparams)\n",
    "configs.print_config(hparams)\n",
    "utils.set_seed(hparams['train_seed'])\n",
    "device = torch.device(hparams['train_device'])"
   ]
  },
  {
   "cell_type": "markdown",
   "metadata": {},
   "source": [
    "## Load MOF data\n",
    "\n",
    "Assemble smiles formula: [organic core][metal_node][topology][branch_smiles]"
   ]
  },
  {
   "cell_type": "code",
   "execution_count": 9,
   "metadata": {
    "ExecuteTime": {
     "end_time": "2020-02-19T06:15:26.889963Z",
     "start_time": "2020-02-19T06:15:22.987463Z"
    }
   },
   "outputs": [
    {
     "name": "stdout",
     "output_type": "stream",
     "text": [
      "=================================== Testing ====================================\n",
      "df shape: (713, 9)\n",
      "df columns: ['index', 'branch_smiles', 'id2mof', 'metal_node', 'mof_index', 'organic_core', 'randomized', 'topology', 'train/test']\n",
      "Found 713 unique mofs\n"
     ]
    },
    {
     "data": {
      "text/html": [
       "<div>\n",
       "<style scoped>\n",
       "    .dataframe tbody tr th:only-of-type {\n",
       "        vertical-align: middle;\n",
       "    }\n",
       "\n",
       "    .dataframe tbody tr th {\n",
       "        vertical-align: top;\n",
       "    }\n",
       "\n",
       "    .dataframe thead th {\n",
       "        text-align: right;\n",
       "    }\n",
       "</style>\n",
       "<table border=\"1\" class=\"dataframe\">\n",
       "  <thead>\n",
       "    <tr style=\"text-align: right;\">\n",
       "      <th></th>\n",
       "      <th>index</th>\n",
       "      <th>branch_smiles</th>\n",
       "      <th>id2mof</th>\n",
       "      <th>metal_node</th>\n",
       "      <th>mof_index</th>\n",
       "      <th>organic_core</th>\n",
       "      <th>randomized</th>\n",
       "      <th>topology</th>\n",
       "      <th>train/test</th>\n",
       "    </tr>\n",
       "  </thead>\n",
       "  <tbody>\n",
       "    <tr>\n",
       "      <th>0</th>\n",
       "      <td>0</td>\n",
       "      <td>CC(c1cc(O)cc(O)c1)(C(Sc1cc(O)cc(O)c1)c1cc(O)cc...</td>\n",
       "      <td>0</td>\n",
       "      <td>sym_7_mc_4</td>\n",
       "      <td>4.0</td>\n",
       "      <td>None</td>\n",
       "      <td>False</td>\n",
       "      <td>acs</td>\n",
       "      <td>1</td>\n",
       "    </tr>\n",
       "    <tr>\n",
       "      <th>1</th>\n",
       "      <td>2140</td>\n",
       "      <td>O=C1OC2C3(CC([Lr])C2(S(=O)(=O)O)S(=O)(=O)O)C(C...</td>\n",
       "      <td>1</td>\n",
       "      <td>sym_8_mc_7</td>\n",
       "      <td>30198.0</td>\n",
       "      <td>None</td>\n",
       "      <td>False</td>\n",
       "      <td>bcu</td>\n",
       "      <td>1</td>\n",
       "    </tr>\n",
       "    <tr>\n",
       "      <th>2</th>\n",
       "      <td>4280</td>\n",
       "      <td>CP(C)c1cc2c(c(P(C)C)c1)N=C(Nc1cc(P(C)C)c([Lr])...</td>\n",
       "      <td>2</td>\n",
       "      <td>sym_8_mc_8</td>\n",
       "      <td>60377.0</td>\n",
       "      <td>None</td>\n",
       "      <td>False</td>\n",
       "      <td>bcu</td>\n",
       "      <td>1</td>\n",
       "    </tr>\n",
       "    <tr>\n",
       "      <th>3</th>\n",
       "      <td>6420</td>\n",
       "      <td>CC(c1cc(O)cc(O)c1)(C(Sc1cc(O)cc(O)c1)c1cc(O)cc...</td>\n",
       "      <td>3</td>\n",
       "      <td>sym_8_mc_9</td>\n",
       "      <td>90517.0</td>\n",
       "      <td>None</td>\n",
       "      <td>False</td>\n",
       "      <td>bcu</td>\n",
       "      <td>1</td>\n",
       "    </tr>\n",
       "    <tr>\n",
       "      <th>4</th>\n",
       "      <td>8560</td>\n",
       "      <td>O=C1c2cc(-c3cc(O)cc(O)c3)c([Lr])cc2C(c2cc(O)cc...</td>\n",
       "      <td>4</td>\n",
       "      <td>sym_16_mc_6</td>\n",
       "      <td>120699.0</td>\n",
       "      <td>None</td>\n",
       "      <td>False</td>\n",
       "      <td>bcs</td>\n",
       "      <td>1</td>\n",
       "    </tr>\n",
       "  </tbody>\n",
       "</table>\n",
       "</div>"
      ],
      "text/plain": [
       "   index                                      branch_smiles  id2mof  \\\n",
       "0      0  CC(c1cc(O)cc(O)c1)(C(Sc1cc(O)cc(O)c1)c1cc(O)cc...       0   \n",
       "1   2140  O=C1OC2C3(CC([Lr])C2(S(=O)(=O)O)S(=O)(=O)O)C(C...       1   \n",
       "2   4280  CP(C)c1cc2c(c(P(C)C)c1)N=C(Nc1cc(P(C)C)c([Lr])...       2   \n",
       "3   6420  CC(c1cc(O)cc(O)c1)(C(Sc1cc(O)cc(O)c1)c1cc(O)cc...       3   \n",
       "4   8560  O=C1c2cc(-c3cc(O)cc(O)c3)c([Lr])cc2C(c2cc(O)cc...       4   \n",
       "\n",
       "    metal_node  mof_index organic_core  randomized topology  train/test  \n",
       "0   sym_7_mc_4        4.0         None       False      acs           1  \n",
       "1   sym_8_mc_7    30198.0         None       False      bcu           1  \n",
       "2   sym_8_mc_8    60377.0         None       False      bcu           1  \n",
       "3   sym_8_mc_9    90517.0         None       False      bcu           1  \n",
       "4  sym_16_mc_6   120699.0         None       False      bcs           1  "
      ]
     },
     "execution_count": 9,
     "metadata": {},
     "output_type": "execute_result"
    }
   ],
   "source": [
    "smiles_column='branch_smiles'\n",
    "testtrain_column='train/test'\n",
    "df = experiments.get_generator_df(csv_file=hparams['files_data'], \n",
    "                              smiles_column=smiles_column, \n",
    "                              use_duplicates=hparams['vae_duplicate_smiles'],\n",
    "                              testing=testing)\n",
    "ids2mofs,mof2ids, mof_columns = experiments.get_mofdict(df,hparams['mof_encoding'])\n",
    "df.head()"
   ]
  },
  {
   "cell_type": "markdown",
   "metadata": {},
   "source": [
    "## Load property data"
   ]
  },
  {
   "cell_type": "code",
   "execution_count": 14,
   "metadata": {
    "ExecuteTime": {
     "end_time": "2020-02-19T06:27:50.579779Z",
     "start_time": "2020-02-19T06:27:48.425871Z"
    },
    "scrolled": true
   },
   "outputs": [
    {
     "name": "stdout",
     "output_type": "stream",
     "text": [
      "=================================== Testing ====================================\n",
      "Restored variables from data/scscore_1024uint8_model.ckpt-10654.as_numpy.json.gz\n"
     ]
    },
    {
     "data": {
      "application/vnd.jupyter.widget-view+json": {
       "model_id": "d1a369e0a990460092d71d7b24ca9059",
       "version_major": 2,
       "version_minor": 0
      },
      "text/plain": [
       "HBox(children=(FloatProgress(value=0.0, max=1000.0), HTML(value='')))"
      ]
     },
     "metadata": {},
     "output_type": "display_data"
    },
    {
     "name": "stdout",
     "output_type": "stream",
     "text": [
      "\n",
      "Removed 59 datapoints due to mask.\n",
      "Removed 51 datapoints due non-valid mof (mof2ids).\n",
      "Removed 4 datapoints due to high selectivity.\n"
     ]
    },
    {
     "data": {
      "text/html": [
       "<div>\n",
       "<style scoped>\n",
       "    .dataframe tbody tr th:only-of-type {\n",
       "        vertical-align: middle;\n",
       "    }\n",
       "\n",
       "    .dataframe tbody tr th {\n",
       "        vertical-align: top;\n",
       "    }\n",
       "\n",
       "    .dataframe thead th {\n",
       "        text-align: right;\n",
       "    }\n",
       "</style>\n",
       "<table border=\"1\" class=\"dataframe\">\n",
       "  <thead>\n",
       "    <tr style=\"text-align: right;\">\n",
       "      <th></th>\n",
       "      <th>organic_core</th>\n",
       "      <th>metal_node</th>\n",
       "      <th>topology</th>\n",
       "      <th>branch_smiles</th>\n",
       "      <th>lcd</th>\n",
       "      <th>pld</th>\n",
       "      <th>density</th>\n",
       "      <th>avf</th>\n",
       "      <th>avsa</th>\n",
       "      <th>agsa</th>\n",
       "      <th>...</th>\n",
       "      <th>co2ch4_selectivity</th>\n",
       "      <th>co2ch4_heat_avg</th>\n",
       "      <th>co2ch4_heat_co2</th>\n",
       "      <th>co2ch4_heat_ch4</th>\n",
       "      <th>co2ch4_heat_molfrac</th>\n",
       "      <th>selfies_safe</th>\n",
       "      <th>mask</th>\n",
       "      <th>train/test</th>\n",
       "      <th>scscore</th>\n",
       "      <th>id2mof</th>\n",
       "    </tr>\n",
       "  </thead>\n",
       "  <tbody>\n",
       "    <tr>\n",
       "      <th>0</th>\n",
       "      <td>sym_5_vae_317</td>\n",
       "      <td>sym_5_mc_2</td>\n",
       "      <td>ssb</td>\n",
       "      <td>[Lr]CN1C=CC(C=C1)[Lr]</td>\n",
       "      <td>14.85666</td>\n",
       "      <td>12.35820</td>\n",
       "      <td>0.547993</td>\n",
       "      <td>0.36595</td>\n",
       "      <td>1879.810</td>\n",
       "      <td>3430.36</td>\n",
       "      <td>...</td>\n",
       "      <td>2.459401</td>\n",
       "      <td>-14.06105</td>\n",
       "      <td>-19.23944</td>\n",
       "      <td>-12.45450</td>\n",
       "      <td>-13.91325</td>\n",
       "      <td>True</td>\n",
       "      <td>True</td>\n",
       "      <td>1</td>\n",
       "      <td>1.810341</td>\n",
       "      <td>430</td>\n",
       "    </tr>\n",
       "    <tr>\n",
       "      <th>1</th>\n",
       "      <td>sym_4_on_6</td>\n",
       "      <td>sym_9_mc_5</td>\n",
       "      <td>iac</td>\n",
       "      <td>[Lr]c1ccc(cc1)c1nnc(nn1)c1ccc(cc1)[Lr]</td>\n",
       "      <td>25.40998</td>\n",
       "      <td>20.59218</td>\n",
       "      <td>0.228249</td>\n",
       "      <td>0.74805</td>\n",
       "      <td>1068.150</td>\n",
       "      <td>4679.77</td>\n",
       "      <td>...</td>\n",
       "      <td>1.786462</td>\n",
       "      <td>-8.28537</td>\n",
       "      <td>-11.41256</td>\n",
       "      <td>-7.66297</td>\n",
       "      <td>-8.28442</td>\n",
       "      <td>True</td>\n",
       "      <td>True</td>\n",
       "      <td>1</td>\n",
       "      <td>2.841385</td>\n",
       "      <td>182</td>\n",
       "    </tr>\n",
       "    <tr>\n",
       "      <th>2</th>\n",
       "      <td>sym_3_on_1</td>\n",
       "      <td>sym_4_mc_1</td>\n",
       "      <td>bor</td>\n",
       "      <td>[Lr]c1ccc(C#Cc2ccc(C#Cc3ccc([Lr])cc3)cc2)cc1</td>\n",
       "      <td>59.72890</td>\n",
       "      <td>44.66190</td>\n",
       "      <td>0.033858</td>\n",
       "      <td>0.94221</td>\n",
       "      <td>301.287</td>\n",
       "      <td>8898.49</td>\n",
       "      <td>...</td>\n",
       "      <td>1.226919</td>\n",
       "      <td>-4.45465</td>\n",
       "      <td>-6.29257</td>\n",
       "      <td>-4.20648</td>\n",
       "      <td>-4.45664</td>\n",
       "      <td>True</td>\n",
       "      <td>True</td>\n",
       "      <td>1</td>\n",
       "      <td>3.273988</td>\n",
       "      <td>15</td>\n",
       "    </tr>\n",
       "    <tr>\n",
       "      <th>3</th>\n",
       "      <td>sym_4_on_8</td>\n",
       "      <td>sym_3_mc_0</td>\n",
       "      <td>bor</td>\n",
       "      <td>[Lr]c1cc(C(c2cc([Lr])ccc2C3=O)=O)c3cc1</td>\n",
       "      <td>40.38086</td>\n",
       "      <td>27.66716</td>\n",
       "      <td>0.103757</td>\n",
       "      <td>0.86097</td>\n",
       "      <td>665.363</td>\n",
       "      <td>6412.71</td>\n",
       "      <td>...</td>\n",
       "      <td>1.572181</td>\n",
       "      <td>-6.54100</td>\n",
       "      <td>-9.46598</td>\n",
       "      <td>-6.06977</td>\n",
       "      <td>-6.57509</td>\n",
       "      <td>True</td>\n",
       "      <td>True</td>\n",
       "      <td>0</td>\n",
       "      <td>2.903207</td>\n",
       "      <td>9</td>\n",
       "    </tr>\n",
       "    <tr>\n",
       "      <th>4</th>\n",
       "      <td>sym_5_vae_BR911</td>\n",
       "      <td>sym_7_mc_4</td>\n",
       "      <td>stp</td>\n",
       "      <td>[Lr]c1[nH]c2c(n1)cc1c(c2)[nH]c(n1)[Lr]</td>\n",
       "      <td>22.97753</td>\n",
       "      <td>18.75747</td>\n",
       "      <td>0.405356</td>\n",
       "      <td>0.53756</td>\n",
       "      <td>1446.400</td>\n",
       "      <td>3568.22</td>\n",
       "      <td>...</td>\n",
       "      <td>2.118090</td>\n",
       "      <td>-8.86976</td>\n",
       "      <td>-13.58480</td>\n",
       "      <td>-7.83311</td>\n",
       "      <td>-8.93193</td>\n",
       "      <td>True</td>\n",
       "      <td>True</td>\n",
       "      <td>1</td>\n",
       "      <td>3.500213</td>\n",
       "      <td>581</td>\n",
       "    </tr>\n",
       "  </tbody>\n",
       "</table>\n",
       "<p>5 rows × 29 columns</p>\n",
       "</div>"
      ],
      "text/plain": [
       "      organic_core  metal_node topology  \\\n",
       "0    sym_5_vae_317  sym_5_mc_2      ssb   \n",
       "1       sym_4_on_6  sym_9_mc_5      iac   \n",
       "2       sym_3_on_1  sym_4_mc_1      bor   \n",
       "3       sym_4_on_8  sym_3_mc_0      bor   \n",
       "4  sym_5_vae_BR911  sym_7_mc_4      stp   \n",
       "\n",
       "                                  branch_smiles       lcd       pld   density  \\\n",
       "0                         [Lr]CN1C=CC(C=C1)[Lr]  14.85666  12.35820  0.547993   \n",
       "1        [Lr]c1ccc(cc1)c1nnc(nn1)c1ccc(cc1)[Lr]  25.40998  20.59218  0.228249   \n",
       "2  [Lr]c1ccc(C#Cc2ccc(C#Cc3ccc([Lr])cc3)cc2)cc1  59.72890  44.66190  0.033858   \n",
       "3        [Lr]c1cc(C(c2cc([Lr])ccc2C3=O)=O)c3cc1  40.38086  27.66716  0.103757   \n",
       "4        [Lr]c1[nH]c2c(n1)cc1c(c2)[nH]c(n1)[Lr]  22.97753  18.75747  0.405356   \n",
       "\n",
       "       avf      avsa     agsa  ...  co2ch4_selectivity  co2ch4_heat_avg  \\\n",
       "0  0.36595  1879.810  3430.36  ...            2.459401        -14.06105   \n",
       "1  0.74805  1068.150  4679.77  ...            1.786462         -8.28537   \n",
       "2  0.94221   301.287  8898.49  ...            1.226919         -4.45465   \n",
       "3  0.86097   665.363  6412.71  ...            1.572181         -6.54100   \n",
       "4  0.53756  1446.400  3568.22  ...            2.118090         -8.86976   \n",
       "\n",
       "   co2ch4_heat_co2  co2ch4_heat_ch4  co2ch4_heat_molfrac  selfies_safe  mask  \\\n",
       "0        -19.23944        -12.45450            -13.91325          True  True   \n",
       "1        -11.41256         -7.66297             -8.28442          True  True   \n",
       "2         -6.29257         -4.20648             -4.45664          True  True   \n",
       "3         -9.46598         -6.06977             -6.57509          True  True   \n",
       "4        -13.58480         -7.83311             -8.93193          True  True   \n",
       "\n",
       "   train/test   scscore  id2mof  \n",
       "0           1  1.810341     430  \n",
       "1           1  2.841385     182  \n",
       "2           1  3.273988      15  \n",
       "3           0  2.903207       9  \n",
       "4           1  3.500213     581  \n",
       "\n",
       "[5 rows x 29 columns]"
      ]
     },
     "execution_count": 14,
     "metadata": {},
     "output_type": "execute_result"
    }
   ],
   "source": [
    "prop_df = experiments.get_prop_df(csv_file=hparams['files_prop'], \n",
    "                              targets = hparams['y_labels'],\n",
    "                              mof2ids=mof2ids, \n",
    "                              testing=testing,\n",
    "                              smiles_column=smiles_column,\n",
    "                              compute_scscore=True)\n",
    "prop_df.head()"
   ]
  },
  {
   "cell_type": "markdown",
   "metadata": {
    "ExecuteTime": {
     "end_time": "2019-09-26T22:30:17.885911Z",
     "start_time": "2019-09-26T22:30:17.854869Z"
    }
   },
   "source": [
    "## Train/test splits and hparams"
   ]
  },
  {
   "cell_type": "code",
   "execution_count": 11,
   "metadata": {
    "ExecuteTime": {
     "end_time": "2020-02-19T06:15:44.199824Z",
     "start_time": "2020-02-19T06:15:44.159873Z"
    },
    "scrolled": false
   },
   "outputs": [
    {
     "name": "stdout",
     "output_type": "stream",
     "text": [
      "Train sizes:     657 and     802\n",
      "Test  sizes:      56 and      86\n"
     ]
    }
   ],
   "source": [
    "train_index  = np.array(df[df[testtrain_column]==1].index.tolist())\n",
    "test_index  = np.array(df[df[testtrain_column]==0].index.tolist())\n",
    "prop_train_index  = np.array(prop_df[prop_df[testtrain_column]==1].index.tolist())\n",
    "prop_test_index  = np.array(prop_df[prop_df[testtrain_column]==0].index.tolist())\n",
    "print(f'Train sizes: {len(train_index):7d} and {len(prop_train_index):7d}')\n",
    "print(f'Test  sizes: {len(test_index):7d} and {len(prop_test_index):7d}')"
   ]
  },
  {
   "cell_type": "markdown",
   "metadata": {},
   "source": [
    "# Vocabulary and preprocessors"
   ]
  },
  {
   "cell_type": "code",
   "execution_count": 12,
   "metadata": {
    "ExecuteTime": {
     "end_time": "2020-02-19T06:15:52.946054Z",
     "start_time": "2020-02-19T06:15:47.592865Z"
    },
    "scrolled": true
   },
   "outputs": [
    {
     "data": {
      "application/vnd.jupyter.widget-view+json": {
       "model_id": "b04a54d2e349436684c915a8b13a2b80",
       "version_major": 2,
       "version_minor": 0
      },
      "text/plain": [
       "HBox(children=(FloatProgress(value=0.0, max=1601.0), HTML(value='')))"
      ]
     },
     "metadata": {},
     "output_type": "display_data"
    },
    {
     "name": "stdout",
     "output_type": "stream",
     "text": [
      "\n",
      "Alphabet size is 44\n",
      "Max seq length is 106 with 5 extra padding\n",
      "Used columns =['metal_node', 'organic_core', 'topology', 'id2mof'] with frequency weighting=True\n",
      "metal_node   has 15 classes\n",
      "organic_core has 52 classes\n",
      "topology     has 41 classes\n",
      "id2mof       has 713 classes\n"
     ]
    },
    {
     "data": {
      "text/plain": [
       "(<vaemof.vocabs.SELFIESVocab at 0x7f89affcae50>,\n",
       " <vaemof.vocabs.MOFVocab at 0x7f89ae3f9210>,\n",
       " <vaemof.vocabs.PropVocab at 0x7f89affd4790>)"
      ]
     },
     "execution_count": 12,
     "metadata": {},
     "output_type": "execute_result"
    }
   ],
   "source": [
    "smiles_list = df[smiles_column].tolist()+prop_df[smiles_column].tolist()\n",
    "vocab = SELFIESVocab.from_data(smiles_list)\n",
    "vocab_mof = MOFVocab.from_data(df.append(prop_df,sort=False),mof_columns,weighting=hparams['mof_weighted_loss'])\n",
    "vocab_y = PropVocab.from_data(prop_df,hparams['y_labels'], hparams['y_weights'])\n",
    "vocab, vocab_mof, vocab_y"
   ]
  },
  {
   "cell_type": "markdown",
   "metadata": {},
   "source": [
    "# Instanciate Model\n",
    "\n",
    "## Careful! (it saves and will overwrite any model previously saved)"
   ]
  },
  {
   "cell_type": "code",
   "execution_count": 17,
   "metadata": {
    "ExecuteTime": {
     "end_time": "2020-02-18T20:56:30.591344Z",
     "start_time": "2020-02-18T20:56:30.269429Z"
    }
   },
   "outputs": [
    {
     "data": {
      "text/html": [
       "<h1>VAEMOF</h1>"
      ],
      "text/plain": [
       "<IPython.core.display.HTML object>"
      ]
     },
     "metadata": {},
     "output_type": "display_data"
    },
    {
     "data": {
      "text/html": [
       "<div>\n",
       "<style scoped>\n",
       "    .dataframe tbody tr th:only-of-type {\n",
       "        vertical-align: middle;\n",
       "    }\n",
       "\n",
       "    .dataframe tbody tr th {\n",
       "        vertical-align: top;\n",
       "    }\n",
       "\n",
       "    .dataframe thead th {\n",
       "        text-align: right;\n",
       "    }\n",
       "</style>\n",
       "<table border=\"1\" class=\"dataframe\">\n",
       "  <thead>\n",
       "    <tr style=\"text-align: right;\">\n",
       "      <th></th>\n",
       "      <th>Name</th>\n",
       "      <th>Module</th>\n",
       "      <th>Extra</th>\n",
       "      <th>submodule</th>\n",
       "      <th>trainable</th>\n",
       "      <th>n_params</th>\n",
       "      <th>trainable_params</th>\n",
       "    </tr>\n",
       "  </thead>\n",
       "  <tbody>\n",
       "    <tr>\n",
       "      <th>0</th>\n",
       "      <td>z_mu</td>\n",
       "      <td>Linear</td>\n",
       "      <td>in_features=574, out_features=287, bias=True</td>\n",
       "      <td>False</td>\n",
       "      <td>True</td>\n",
       "      <td>165025</td>\n",
       "      <td>165025</td>\n",
       "    </tr>\n",
       "    <tr>\n",
       "      <th>1</th>\n",
       "      <td>z_logvar</td>\n",
       "      <td>Linear</td>\n",
       "      <td>in_features=574, out_features=287, bias=True</td>\n",
       "      <td>False</td>\n",
       "      <td>True</td>\n",
       "      <td>165025</td>\n",
       "      <td>165025</td>\n",
       "    </tr>\n",
       "    <tr>\n",
       "      <th>2</th>\n",
       "      <td>enc_x</td>\n",
       "      <td>CharEncoder</td>\n",
       "      <td></td>\n",
       "      <td>False</td>\n",
       "      <td>True</td>\n",
       "      <td>380535</td>\n",
       "      <td>380535</td>\n",
       "    </tr>\n",
       "    <tr>\n",
       "      <th>3</th>\n",
       "      <td>dec_x</td>\n",
       "      <td>CharDecoder</td>\n",
       "      <td></td>\n",
       "      <td>False</td>\n",
       "      <td>True</td>\n",
       "      <td>4619620</td>\n",
       "      <td>4619620</td>\n",
       "    </tr>\n",
       "    <tr>\n",
       "      <th>4</th>\n",
       "      <td>enc_mof</td>\n",
       "      <td>MOFEncoder</td>\n",
       "      <td></td>\n",
       "      <td>False</td>\n",
       "      <td>True</td>\n",
       "      <td>483595</td>\n",
       "      <td>483595</td>\n",
       "    </tr>\n",
       "    <tr>\n",
       "      <th>5</th>\n",
       "      <td>dec_mof</td>\n",
       "      <td>MOFDecoder</td>\n",
       "      <td></td>\n",
       "      <td>False</td>\n",
       "      <td>True</td>\n",
       "      <td>319104</td>\n",
       "      <td>319104</td>\n",
       "    </tr>\n",
       "    <tr>\n",
       "      <th>6</th>\n",
       "      <td>dec_y</td>\n",
       "      <td>PropDecoder</td>\n",
       "      <td></td>\n",
       "      <td>False</td>\n",
       "      <td>True</td>\n",
       "      <td>6048</td>\n",
       "      <td>6048</td>\n",
       "    </tr>\n",
       "  </tbody>\n",
       "</table>\n",
       "</div>"
      ],
      "text/plain": [
       "       Name       Module                                         Extra  \\\n",
       "0      z_mu       Linear  in_features=574, out_features=287, bias=True   \n",
       "1  z_logvar       Linear  in_features=574, out_features=287, bias=True   \n",
       "2     enc_x  CharEncoder                                                 \n",
       "3     dec_x  CharDecoder                                                 \n",
       "4   enc_mof   MOFEncoder                                                 \n",
       "5   dec_mof   MOFDecoder                                                 \n",
       "6     dec_y  PropDecoder                                                 \n",
       "\n",
       "   submodule  trainable  n_params  trainable_params  \n",
       "0      False       True    165025            165025  \n",
       "1      False       True    165025            165025  \n",
       "2      False       True    380535            380535  \n",
       "3      False       True   4619620           4619620  \n",
       "4      False       True    483595            483595  \n",
       "5      False       True    319104            319104  \n",
       "6      False       True      6048              6048  "
      ]
     },
     "metadata": {},
     "output_type": "display_data"
    },
    {
     "name": "stdout",
     "output_type": "stream",
     "text": [
      "Trainable params: 6137103 out of 6137103 total (100.0%)\n"
     ]
    }
   ],
   "source": [
    "utils.clear_torch(model=None)\n",
    "model = VAEMOF(hparams, vocab, vocab_mof, vocab_y).to(device)\n",
    "model.save()\n",
    "modules.model_summary(model, include_children=False)"
   ]
  },
  {
   "cell_type": "markdown",
   "metadata": {
    "ExecuteTime": {
     "end_time": "2020-02-16T03:37:06.457591Z",
     "start_time": "2020-02-16T03:37:06.438876Z"
    }
   },
   "source": [
    "## Prepare train/test "
   ]
  },
  {
   "cell_type": "code",
   "execution_count": 18,
   "metadata": {
    "ExecuteTime": {
     "end_time": "2020-02-18T20:56:37.755802Z",
     "start_time": "2020-02-18T20:56:32.522043Z"
    },
    "scrolled": true
   },
   "outputs": [],
   "source": [
    "train_mof = model.df_to_tuples(df.loc[train_index],smiles_column)\n",
    "test_mof =  model.df_to_tuples(df.loc[test_index],smiles_column)\n",
    "prop_train = model.df_to_tuples(prop_df.loc[prop_train_index],smiles_column)\n",
    "prop_test = model.df_to_tuples(prop_df.loc[prop_test_index],smiles_column)\n",
    "train_data = train_mof + prop_train\n",
    "test_data = test_mof + prop_test"
   ]
  },
  {
   "cell_type": "markdown",
   "metadata": {},
   "source": [
    "## Train"
   ]
  },
  {
   "cell_type": "code",
   "execution_count": 20,
   "metadata": {
    "ExecuteTime": {
     "end_time": "2020-02-18T21:18:48.441757Z",
     "start_time": "2020-02-18T21:18:38.198538Z"
    },
    "scrolled": true
   },
   "outputs": [
    {
     "data": {
      "application/vnd.jupyter.widget-view+json": {
       "model_id": "d4dd8db3aff24f88a6987033c0f5d65d",
       "version_major": 2,
       "version_minor": 0
      },
      "text/plain": [
       "HBox(children=(FloatProgress(value=0.0, description='Epochs', max=20.0, style=ProgressStyle(description_width=…"
      ]
     },
     "metadata": {},
     "output_type": "display_data"
    },
    {
     "data": {
      "application/vnd.jupyter.widget-view+json": {
       "model_id": "f2491c63f31f41edac426ad700313804",
       "version_major": 2,
       "version_minor": 0
      },
      "text/plain": [
       "HBox(children=(FloatProgress(value=0.0, description='Train', max=22.0, style=ProgressStyle(description_width='…"
      ]
     },
     "metadata": {},
     "output_type": "display_data"
    },
    {
     "ename": "KeyboardInterrupt",
     "evalue": "",
     "output_type": "error",
     "traceback": [
      "\u001b[0;31m---------------------------------------------------------------------------\u001b[0m",
      "\u001b[0;31mKeyboardInterrupt\u001b[0m                         Traceback (most recent call last)",
      "\u001b[0;32m<ipython-input-20-03ba4eb079c1>\u001b[0m in \u001b[0;36m<module>\u001b[0;34m\u001b[0m\n\u001b[1;32m      1\u001b[0m \u001b[0mtrainer\u001b[0m \u001b[0;34m=\u001b[0m \u001b[0mtraining\u001b[0m\u001b[0;34m.\u001b[0m\u001b[0mTrainer\u001b[0m\u001b[0;34m(\u001b[0m\u001b[0mhparams\u001b[0m\u001b[0;34m)\u001b[0m\u001b[0;34m\u001b[0m\u001b[0;34m\u001b[0m\u001b[0m\n\u001b[0;32m----> 2\u001b[0;31m \u001b[0mtrainer\u001b[0m\u001b[0;34m.\u001b[0m\u001b[0mtrain\u001b[0m\u001b[0;34m(\u001b[0m\u001b[0mmodel\u001b[0m\u001b[0;34m,\u001b[0m \u001b[0mtrain_data\u001b[0m\u001b[0;34m,\u001b[0m \u001b[0mtest_data\u001b[0m\u001b[0;34m)\u001b[0m\u001b[0;34m\u001b[0m\u001b[0;34m\u001b[0m\u001b[0m\n\u001b[0m",
      "\u001b[0;32m~/final_project/vaemof/training.py\u001b[0m in \u001b[0;36mtrain\u001b[0;34m(self, model, train_data, test_data)\u001b[0m\n\u001b[1;32m    198\u001b[0m             \u001b[0mweights\u001b[0m \u001b[0;34m=\u001b[0m \u001b[0;34m{\u001b[0m\u001b[0mkey\u001b[0m\u001b[0;34m:\u001b[0m \u001b[0msch\u001b[0m\u001b[0;34m(\u001b[0m\u001b[0mepoch\u001b[0m\u001b[0;34m)\u001b[0m \u001b[0;32mfor\u001b[0m \u001b[0mkey\u001b[0m\u001b[0;34m,\u001b[0m \u001b[0msch\u001b[0m \u001b[0;32min\u001b[0m \u001b[0mself\u001b[0m\u001b[0;34m.\u001b[0m\u001b[0mschedulers\u001b[0m\u001b[0;34m.\u001b[0m\u001b[0mitems\u001b[0m\u001b[0;34m(\u001b[0m\u001b[0;34m)\u001b[0m\u001b[0;34m}\u001b[0m\u001b[0;34m\u001b[0m\u001b[0;34m\u001b[0m\u001b[0m\n\u001b[1;32m    199\u001b[0m             \u001b[0mself\u001b[0m\u001b[0;34m.\u001b[0m\u001b[0mstats\u001b[0m\u001b[0;34m.\u001b[0m\u001b[0mstart_epoch\u001b[0m\u001b[0;34m(\u001b[0m\u001b[0mepoch\u001b[0m\u001b[0;34m,\u001b[0m \u001b[0mlr\u001b[0m\u001b[0;34m,\u001b[0m \u001b[0mweights\u001b[0m\u001b[0;34m)\u001b[0m\u001b[0;34m\u001b[0m\u001b[0;34m\u001b[0m\u001b[0m\n\u001b[0;32m--> 200\u001b[0;31m             \u001b[0mself\u001b[0m\u001b[0;34m.\u001b[0m\u001b[0mtrain_step\u001b[0m\u001b[0;34m(\u001b[0m\u001b[0mmodel\u001b[0m\u001b[0;34m,\u001b[0m \u001b[0mtrain_loader\u001b[0m\u001b[0;34m,\u001b[0m \u001b[0moptimizer\u001b[0m\u001b[0;34m,\u001b[0m \u001b[0mweights\u001b[0m\u001b[0;34m)\u001b[0m\u001b[0;34m\u001b[0m\u001b[0;34m\u001b[0m\u001b[0m\n\u001b[0m\u001b[1;32m    201\u001b[0m             \u001b[0mself\u001b[0m\u001b[0;34m.\u001b[0m\u001b[0mtest_step\u001b[0m\u001b[0;34m(\u001b[0m\u001b[0mmodel\u001b[0m\u001b[0;34m,\u001b[0m \u001b[0mtest_loader\u001b[0m\u001b[0;34m,\u001b[0m \u001b[0mweights\u001b[0m\u001b[0;34m)\u001b[0m\u001b[0;34m\u001b[0m\u001b[0;34m\u001b[0m\u001b[0m\n\u001b[1;32m    202\u001b[0m             \u001b[0mpbar\u001b[0m\u001b[0;34m.\u001b[0m\u001b[0mset_postfix\u001b[0m\u001b[0;34m(\u001b[0m\u001b[0mself\u001b[0m\u001b[0;34m.\u001b[0m\u001b[0mstats\u001b[0m\u001b[0;34m.\u001b[0m\u001b[0mreport\u001b[0m\u001b[0;34m)\u001b[0m\u001b[0;34m\u001b[0m\u001b[0;34m\u001b[0m\u001b[0m\n",
      "\u001b[0;32m~/final_project/vaemof/training.py\u001b[0m in \u001b[0;36mtrain_step\u001b[0;34m(self, model, data_loader, optimizer, weights)\u001b[0m\n\u001b[1;32m    209\u001b[0m         \u001b[0mpbar\u001b[0m \u001b[0;34m=\u001b[0m \u001b[0mtqdm\u001b[0m\u001b[0;34m(\u001b[0m\u001b[0mdata_loader\u001b[0m\u001b[0;34m,\u001b[0m \u001b[0mleave\u001b[0m\u001b[0;34m=\u001b[0m\u001b[0;32mFalse\u001b[0m\u001b[0;34m,\u001b[0m \u001b[0mdesc\u001b[0m\u001b[0;34m=\u001b[0m\u001b[0;34m'Train'\u001b[0m\u001b[0;34m)\u001b[0m\u001b[0;34m\u001b[0m\u001b[0;34m\u001b[0m\u001b[0m\n\u001b[1;32m    210\u001b[0m         \u001b[0;32mfor\u001b[0m \u001b[0mbatch\u001b[0m \u001b[0;32min\u001b[0m \u001b[0mpbar\u001b[0m\u001b[0;34m:\u001b[0m\u001b[0;34m\u001b[0m\u001b[0;34m\u001b[0m\u001b[0m\n\u001b[0;32m--> 211\u001b[0;31m             \u001b[0mlosses\u001b[0m\u001b[0;34m,\u001b[0m \u001b[0m_\u001b[0m \u001b[0;34m=\u001b[0m \u001b[0mmodel\u001b[0m\u001b[0;34m(\u001b[0m\u001b[0mbatch\u001b[0m\u001b[0;34m[\u001b[0m\u001b[0;34m'x'\u001b[0m\u001b[0;34m]\u001b[0m\u001b[0;34m,\u001b[0m \u001b[0mbatch\u001b[0m\u001b[0;34m[\u001b[0m\u001b[0;34m'mof'\u001b[0m\u001b[0;34m]\u001b[0m\u001b[0;34m,\u001b[0m \u001b[0mbatch\u001b[0m\u001b[0;34m[\u001b[0m\u001b[0;34m'y'\u001b[0m\u001b[0;34m]\u001b[0m\u001b[0;34m,\u001b[0m \u001b[0mbatch\u001b[0m\u001b[0;34m[\u001b[0m\u001b[0;34m'y_mask'\u001b[0m\u001b[0;34m]\u001b[0m\u001b[0;34m)\u001b[0m\u001b[0;34m\u001b[0m\u001b[0;34m\u001b[0m\u001b[0m\n\u001b[0m\u001b[1;32m    212\u001b[0m             \u001b[0mw_loss\u001b[0m \u001b[0;34m=\u001b[0m \u001b[0;34m{\u001b[0m\u001b[0mk\u001b[0m\u001b[0;34m:\u001b[0m \u001b[0mweights\u001b[0m\u001b[0;34m[\u001b[0m\u001b[0mk\u001b[0m\u001b[0;34m]\u001b[0m \u001b[0;34m*\u001b[0m \u001b[0mlosses\u001b[0m\u001b[0;34m[\u001b[0m\u001b[0mk\u001b[0m\u001b[0;34m]\u001b[0m \u001b[0;32mfor\u001b[0m \u001b[0mk\u001b[0m \u001b[0;32min\u001b[0m \u001b[0mCOMPONENTS\u001b[0m\u001b[0;34m}\u001b[0m\u001b[0;34m\u001b[0m\u001b[0;34m\u001b[0m\u001b[0m\n\u001b[1;32m    213\u001b[0m             \u001b[0mloss\u001b[0m \u001b[0;34m=\u001b[0m \u001b[0mw_loss\u001b[0m\u001b[0;34m[\u001b[0m\u001b[0;34m'x'\u001b[0m\u001b[0;34m]\u001b[0m \u001b[0;34m+\u001b[0m \u001b[0mw_loss\u001b[0m\u001b[0;34m[\u001b[0m\u001b[0;34m'kl'\u001b[0m\u001b[0;34m]\u001b[0m \u001b[0;34m+\u001b[0m \u001b[0mw_loss\u001b[0m\u001b[0;34m[\u001b[0m\u001b[0;34m'mof'\u001b[0m\u001b[0;34m]\u001b[0m \u001b[0;34m+\u001b[0m \u001b[0mw_loss\u001b[0m\u001b[0;34m[\u001b[0m\u001b[0;34m'y'\u001b[0m\u001b[0;34m]\u001b[0m\u001b[0;34m\u001b[0m\u001b[0;34m\u001b[0m\u001b[0m\n",
      "\u001b[0;32m~/anaconda3/lib/python3.7/site-packages/torch/nn/modules/module.py\u001b[0m in \u001b[0;36m__call__\u001b[0;34m(self, *input, **kwargs)\u001b[0m\n\u001b[1;32m    530\u001b[0m             \u001b[0mresult\u001b[0m \u001b[0;34m=\u001b[0m \u001b[0mself\u001b[0m\u001b[0;34m.\u001b[0m\u001b[0m_slow_forward\u001b[0m\u001b[0;34m(\u001b[0m\u001b[0;34m*\u001b[0m\u001b[0minput\u001b[0m\u001b[0;34m,\u001b[0m \u001b[0;34m**\u001b[0m\u001b[0mkwargs\u001b[0m\u001b[0;34m)\u001b[0m\u001b[0;34m\u001b[0m\u001b[0;34m\u001b[0m\u001b[0m\n\u001b[1;32m    531\u001b[0m         \u001b[0;32melse\u001b[0m\u001b[0;34m:\u001b[0m\u001b[0;34m\u001b[0m\u001b[0;34m\u001b[0m\u001b[0m\n\u001b[0;32m--> 532\u001b[0;31m             \u001b[0mresult\u001b[0m \u001b[0;34m=\u001b[0m \u001b[0mself\u001b[0m\u001b[0;34m.\u001b[0m\u001b[0mforward\u001b[0m\u001b[0;34m(\u001b[0m\u001b[0;34m*\u001b[0m\u001b[0minput\u001b[0m\u001b[0;34m,\u001b[0m \u001b[0;34m**\u001b[0m\u001b[0mkwargs\u001b[0m\u001b[0;34m)\u001b[0m\u001b[0;34m\u001b[0m\u001b[0;34m\u001b[0m\u001b[0m\n\u001b[0m\u001b[1;32m    533\u001b[0m         \u001b[0;32mfor\u001b[0m \u001b[0mhook\u001b[0m \u001b[0;32min\u001b[0m \u001b[0mself\u001b[0m\u001b[0;34m.\u001b[0m\u001b[0m_forward_hooks\u001b[0m\u001b[0;34m.\u001b[0m\u001b[0mvalues\u001b[0m\u001b[0;34m(\u001b[0m\u001b[0;34m)\u001b[0m\u001b[0;34m:\u001b[0m\u001b[0;34m\u001b[0m\u001b[0;34m\u001b[0m\u001b[0m\n\u001b[1;32m    534\u001b[0m             \u001b[0mhook_result\u001b[0m \u001b[0;34m=\u001b[0m \u001b[0mhook\u001b[0m\u001b[0;34m(\u001b[0m\u001b[0mself\u001b[0m\u001b[0;34m,\u001b[0m \u001b[0minput\u001b[0m\u001b[0;34m,\u001b[0m \u001b[0mresult\u001b[0m\u001b[0;34m)\u001b[0m\u001b[0;34m\u001b[0m\u001b[0;34m\u001b[0m\u001b[0m\n",
      "\u001b[0;32m~/final_project/vaemof/model.py\u001b[0m in \u001b[0;36mforward\u001b[0;34m(self, x, mof, y, y_mask)\u001b[0m\n\u001b[1;32m    359\u001b[0m         \u001b[0mlosses\u001b[0m\u001b[0;34m[\u001b[0m\u001b[0;34m'kl'\u001b[0m\u001b[0;34m]\u001b[0m \u001b[0;34m=\u001b[0m \u001b[0mkl\u001b[0m \u001b[0;32mif\u001b[0m \u001b[0mself\u001b[0m\u001b[0;34m.\u001b[0m\u001b[0muse_kl\u001b[0m \u001b[0;32melse\u001b[0m \u001b[0;36m0.0\u001b[0m\u001b[0;34m\u001b[0m\u001b[0;34m\u001b[0m\u001b[0m\n\u001b[1;32m    360\u001b[0m         \u001b[0;32mif\u001b[0m \u001b[0mself\u001b[0m\u001b[0;34m.\u001b[0m\u001b[0muse_decoder\u001b[0m\u001b[0;34m:\u001b[0m\u001b[0;34m\u001b[0m\u001b[0;34m\u001b[0m\u001b[0m\n\u001b[0;32m--> 361\u001b[0;31m             \u001b[0mlosses\u001b[0m\u001b[0;34m[\u001b[0m\u001b[0;34m'x'\u001b[0m\u001b[0;34m]\u001b[0m\u001b[0;34m,\u001b[0m \u001b[0mouts\u001b[0m\u001b[0;34m[\u001b[0m\u001b[0;34m'x'\u001b[0m\u001b[0;34m]\u001b[0m \u001b[0;34m=\u001b[0m \u001b[0mself\u001b[0m\u001b[0;34m.\u001b[0m\u001b[0mdec_x\u001b[0m\u001b[0;34m(\u001b[0m\u001b[0mx\u001b[0m\u001b[0;34m,\u001b[0m \u001b[0mz\u001b[0m\u001b[0;34m)\u001b[0m\u001b[0;34m\u001b[0m\u001b[0;34m\u001b[0m\u001b[0m\n\u001b[0m\u001b[1;32m    362\u001b[0m \u001b[0;34m\u001b[0m\u001b[0m\n\u001b[1;32m    363\u001b[0m         \u001b[0;32mif\u001b[0m \u001b[0mself\u001b[0m\u001b[0;34m.\u001b[0m\u001b[0muse_mof_decoder\u001b[0m\u001b[0;34m:\u001b[0m\u001b[0;34m\u001b[0m\u001b[0;34m\u001b[0m\u001b[0m\n",
      "\u001b[0;32m~/anaconda3/lib/python3.7/site-packages/torch/nn/modules/module.py\u001b[0m in \u001b[0;36m__call__\u001b[0;34m(self, *input, **kwargs)\u001b[0m\n\u001b[1;32m    530\u001b[0m             \u001b[0mresult\u001b[0m \u001b[0;34m=\u001b[0m \u001b[0mself\u001b[0m\u001b[0;34m.\u001b[0m\u001b[0m_slow_forward\u001b[0m\u001b[0;34m(\u001b[0m\u001b[0;34m*\u001b[0m\u001b[0minput\u001b[0m\u001b[0;34m,\u001b[0m \u001b[0;34m**\u001b[0m\u001b[0mkwargs\u001b[0m\u001b[0;34m)\u001b[0m\u001b[0;34m\u001b[0m\u001b[0;34m\u001b[0m\u001b[0m\n\u001b[1;32m    531\u001b[0m         \u001b[0;32melse\u001b[0m\u001b[0;34m:\u001b[0m\u001b[0;34m\u001b[0m\u001b[0;34m\u001b[0m\u001b[0m\n\u001b[0;32m--> 532\u001b[0;31m             \u001b[0mresult\u001b[0m \u001b[0;34m=\u001b[0m \u001b[0mself\u001b[0m\u001b[0;34m.\u001b[0m\u001b[0mforward\u001b[0m\u001b[0;34m(\u001b[0m\u001b[0;34m*\u001b[0m\u001b[0minput\u001b[0m\u001b[0;34m,\u001b[0m \u001b[0;34m**\u001b[0m\u001b[0mkwargs\u001b[0m\u001b[0;34m)\u001b[0m\u001b[0;34m\u001b[0m\u001b[0;34m\u001b[0m\u001b[0m\n\u001b[0m\u001b[1;32m    533\u001b[0m         \u001b[0;32mfor\u001b[0m \u001b[0mhook\u001b[0m \u001b[0;32min\u001b[0m \u001b[0mself\u001b[0m\u001b[0;34m.\u001b[0m\u001b[0m_forward_hooks\u001b[0m\u001b[0;34m.\u001b[0m\u001b[0mvalues\u001b[0m\u001b[0;34m(\u001b[0m\u001b[0;34m)\u001b[0m\u001b[0;34m:\u001b[0m\u001b[0;34m\u001b[0m\u001b[0;34m\u001b[0m\u001b[0m\n\u001b[1;32m    534\u001b[0m             \u001b[0mhook_result\u001b[0m \u001b[0;34m=\u001b[0m \u001b[0mhook\u001b[0m\u001b[0;34m(\u001b[0m\u001b[0mself\u001b[0m\u001b[0;34m,\u001b[0m \u001b[0minput\u001b[0m\u001b[0;34m,\u001b[0m \u001b[0mresult\u001b[0m\u001b[0;34m)\u001b[0m\u001b[0;34m\u001b[0m\u001b[0;34m\u001b[0m\u001b[0m\n",
      "\u001b[0;32m~/final_project/vaemof/model.py\u001b[0m in \u001b[0;36mforward\u001b[0;34m(self, x, z)\u001b[0m\n\u001b[1;32m    175\u001b[0m         \u001b[0mh_0\u001b[0m \u001b[0;34m=\u001b[0m \u001b[0mh_0\u001b[0m\u001b[0;34m.\u001b[0m\u001b[0munsqueeze\u001b[0m\u001b[0;34m(\u001b[0m\u001b[0;36m0\u001b[0m\u001b[0;34m)\u001b[0m\u001b[0;34m.\u001b[0m\u001b[0mrepeat\u001b[0m\u001b[0;34m(\u001b[0m\u001b[0mself\u001b[0m\u001b[0;34m.\u001b[0m\u001b[0mrnn\u001b[0m\u001b[0;34m.\u001b[0m\u001b[0mnum_layers\u001b[0m\u001b[0;34m,\u001b[0m \u001b[0;36m1\u001b[0m\u001b[0;34m,\u001b[0m \u001b[0;36m1\u001b[0m\u001b[0;34m)\u001b[0m\u001b[0;34m\u001b[0m\u001b[0;34m\u001b[0m\u001b[0m\n\u001b[1;32m    176\u001b[0m \u001b[0;34m\u001b[0m\u001b[0m\n\u001b[0;32m--> 177\u001b[0;31m         \u001b[0moutput\u001b[0m\u001b[0;34m,\u001b[0m \u001b[0m_\u001b[0m \u001b[0;34m=\u001b[0m \u001b[0mself\u001b[0m\u001b[0;34m.\u001b[0m\u001b[0mrnn\u001b[0m\u001b[0;34m(\u001b[0m\u001b[0mx_input\u001b[0m\u001b[0;34m,\u001b[0m \u001b[0mh_0\u001b[0m\u001b[0;34m)\u001b[0m\u001b[0;34m\u001b[0m\u001b[0;34m\u001b[0m\u001b[0m\n\u001b[0m\u001b[1;32m    178\u001b[0m         \u001b[0moutput\u001b[0m\u001b[0;34m,\u001b[0m \u001b[0m_\u001b[0m \u001b[0;34m=\u001b[0m \u001b[0mnn\u001b[0m\u001b[0;34m.\u001b[0m\u001b[0mutils\u001b[0m\u001b[0;34m.\u001b[0m\u001b[0mrnn\u001b[0m\u001b[0;34m.\u001b[0m\u001b[0mpad_packed_sequence\u001b[0m\u001b[0;34m(\u001b[0m\u001b[0moutput\u001b[0m\u001b[0;34m,\u001b[0m \u001b[0mbatch_first\u001b[0m\u001b[0;34m=\u001b[0m\u001b[0;32mTrue\u001b[0m\u001b[0;34m)\u001b[0m\u001b[0;34m\u001b[0m\u001b[0;34m\u001b[0m\u001b[0m\n\u001b[1;32m    179\u001b[0m         \u001b[0my\u001b[0m \u001b[0;34m=\u001b[0m \u001b[0mself\u001b[0m\u001b[0;34m.\u001b[0m\u001b[0mh_to_char\u001b[0m\u001b[0;34m(\u001b[0m\u001b[0moutput\u001b[0m\u001b[0;34m)\u001b[0m\u001b[0;34m\u001b[0m\u001b[0;34m\u001b[0m\u001b[0m\n",
      "\u001b[0;32m~/anaconda3/lib/python3.7/site-packages/torch/nn/modules/module.py\u001b[0m in \u001b[0;36m__call__\u001b[0;34m(self, *input, **kwargs)\u001b[0m\n\u001b[1;32m    530\u001b[0m             \u001b[0mresult\u001b[0m \u001b[0;34m=\u001b[0m \u001b[0mself\u001b[0m\u001b[0;34m.\u001b[0m\u001b[0m_slow_forward\u001b[0m\u001b[0;34m(\u001b[0m\u001b[0;34m*\u001b[0m\u001b[0minput\u001b[0m\u001b[0;34m,\u001b[0m \u001b[0;34m**\u001b[0m\u001b[0mkwargs\u001b[0m\u001b[0;34m)\u001b[0m\u001b[0;34m\u001b[0m\u001b[0;34m\u001b[0m\u001b[0m\n\u001b[1;32m    531\u001b[0m         \u001b[0;32melse\u001b[0m\u001b[0;34m:\u001b[0m\u001b[0;34m\u001b[0m\u001b[0;34m\u001b[0m\u001b[0m\n\u001b[0;32m--> 532\u001b[0;31m             \u001b[0mresult\u001b[0m \u001b[0;34m=\u001b[0m \u001b[0mself\u001b[0m\u001b[0;34m.\u001b[0m\u001b[0mforward\u001b[0m\u001b[0;34m(\u001b[0m\u001b[0;34m*\u001b[0m\u001b[0minput\u001b[0m\u001b[0;34m,\u001b[0m \u001b[0;34m**\u001b[0m\u001b[0mkwargs\u001b[0m\u001b[0;34m)\u001b[0m\u001b[0;34m\u001b[0m\u001b[0;34m\u001b[0m\u001b[0m\n\u001b[0m\u001b[1;32m    533\u001b[0m         \u001b[0;32mfor\u001b[0m \u001b[0mhook\u001b[0m \u001b[0;32min\u001b[0m \u001b[0mself\u001b[0m\u001b[0;34m.\u001b[0m\u001b[0m_forward_hooks\u001b[0m\u001b[0;34m.\u001b[0m\u001b[0mvalues\u001b[0m\u001b[0;34m(\u001b[0m\u001b[0;34m)\u001b[0m\u001b[0;34m:\u001b[0m\u001b[0;34m\u001b[0m\u001b[0;34m\u001b[0m\u001b[0m\n\u001b[1;32m    534\u001b[0m             \u001b[0mhook_result\u001b[0m \u001b[0;34m=\u001b[0m \u001b[0mhook\u001b[0m\u001b[0;34m(\u001b[0m\u001b[0mself\u001b[0m\u001b[0;34m,\u001b[0m \u001b[0minput\u001b[0m\u001b[0;34m,\u001b[0m \u001b[0mresult\u001b[0m\u001b[0;34m)\u001b[0m\u001b[0;34m\u001b[0m\u001b[0;34m\u001b[0m\u001b[0m\n",
      "\u001b[0;32m~/anaconda3/lib/python3.7/site-packages/torch/nn/modules/rnn.py\u001b[0m in \u001b[0;36mforward\u001b[0;34m(self, input, hx)\u001b[0m\n\u001b[1;32m    717\u001b[0m         \u001b[0;32melse\u001b[0m\u001b[0;34m:\u001b[0m\u001b[0;34m\u001b[0m\u001b[0;34m\u001b[0m\u001b[0m\n\u001b[1;32m    718\u001b[0m             result = _VF.gru(input, batch_sizes, hx, self._flat_weights, self.bias,\n\u001b[0;32m--> 719\u001b[0;31m                              self.num_layers, self.dropout, self.training, self.bidirectional)\n\u001b[0m\u001b[1;32m    720\u001b[0m         \u001b[0moutput\u001b[0m \u001b[0;34m=\u001b[0m \u001b[0mresult\u001b[0m\u001b[0;34m[\u001b[0m\u001b[0;36m0\u001b[0m\u001b[0;34m]\u001b[0m\u001b[0;34m\u001b[0m\u001b[0;34m\u001b[0m\u001b[0m\n\u001b[1;32m    721\u001b[0m         \u001b[0mhidden\u001b[0m \u001b[0;34m=\u001b[0m \u001b[0mresult\u001b[0m\u001b[0;34m[\u001b[0m\u001b[0;36m1\u001b[0m\u001b[0;34m]\u001b[0m\u001b[0;34m\u001b[0m\u001b[0;34m\u001b[0m\u001b[0m\n",
      "\u001b[0;31mKeyboardInterrupt\u001b[0m: "
     ]
    }
   ],
   "source": [
    "trainer = training.Trainer(hparams)\n",
    "trainer.train(model, train_data, test_data)"
   ]
  },
  {
   "cell_type": "markdown",
   "metadata": {},
   "source": [
    "# Results\n",
    "## Load saved model"
   ]
  },
  {
   "cell_type": "code",
   "execution_count": 19,
   "metadata": {
    "ExecuteTime": {
     "end_time": "2020-02-18T18:07:43.386509Z",
     "start_time": "2020-02-18T18:07:42.830292Z"
    }
   },
   "outputs": [],
   "source": [
    "hparams_file = os.path.join(WORK_DIR,'config.json')\n",
    "hparams = configs.AttributeDict.from_jsonfile(hparams_file)\n",
    "model = VAEMOF.load(hparams)"
   ]
  },
  {
   "cell_type": "markdown",
   "metadata": {},
   "source": [
    "## Training stats"
   ]
  },
  {
   "cell_type": "code",
   "execution_count": 22,
   "metadata": {
    "ExecuteTime": {
     "end_time": "2020-02-18T18:11:02.654772Z",
     "start_time": "2020-02-18T18:11:02.560342Z"
    }
   },
   "outputs": [
    {
     "name": "stdout",
     "output_type": "stream",
     "text": [
      "(1, 40)\n",
      "Index(['epoch', 'test_kl', 'test_x', 'test_mof', 'test_y', 'test_loss', 'lcd',\n",
      "       'pld', 'density', 'avf', 'avsa', 'agsa', 'co2n2_co2_mol_kg',\n",
      "       'co2n2_n2_mol_kg', 'co2n2_selectivity', 'co2n2_heat_avg',\n",
      "       'co2n2_heat_co2', 'co2n2_heat_n2', 'co2n2_heat_molfrac',\n",
      "       'co2ch4_co2_mol_kg', 'co2ch4_ch4_mol_kg', 'co2ch4_selectivity',\n",
      "       'co2ch4_heat_avg', 'co2ch4_heat_co2', 'co2ch4_heat_ch4',\n",
      "       'co2ch4_heat_molfrac', 'scscore', 'lr', 'λ_x', 'λ_kl', 'λ_y', 'λ_mof',\n",
      "       'train_kl', 'train_x', 'train_mof', 'train_y', 'train_loss',\n",
      "       'valid_smiles', 'mof_acc', 'mean_r2'],\n",
      "      dtype='object')\n"
     ]
    },
    {
     "data": {
      "text/html": [
       "<div>\n",
       "<style scoped>\n",
       "    .dataframe tbody tr th:only-of-type {\n",
       "        vertical-align: middle;\n",
       "    }\n",
       "\n",
       "    .dataframe tbody tr th {\n",
       "        vertical-align: top;\n",
       "    }\n",
       "\n",
       "    .dataframe thead th {\n",
       "        text-align: right;\n",
       "    }\n",
       "</style>\n",
       "<table border=\"1\" class=\"dataframe\">\n",
       "  <thead>\n",
       "    <tr style=\"text-align: right;\">\n",
       "      <th></th>\n",
       "      <th>epoch</th>\n",
       "      <th>test_kl</th>\n",
       "      <th>test_x</th>\n",
       "      <th>test_mof</th>\n",
       "      <th>test_y</th>\n",
       "      <th>test_loss</th>\n",
       "      <th>lcd</th>\n",
       "      <th>pld</th>\n",
       "      <th>density</th>\n",
       "      <th>avf</th>\n",
       "      <th>...</th>\n",
       "      <th>λ_y</th>\n",
       "      <th>λ_mof</th>\n",
       "      <th>train_kl</th>\n",
       "      <th>train_x</th>\n",
       "      <th>train_mof</th>\n",
       "      <th>train_y</th>\n",
       "      <th>train_loss</th>\n",
       "      <th>valid_smiles</th>\n",
       "      <th>mof_acc</th>\n",
       "      <th>mean_r2</th>\n",
       "    </tr>\n",
       "  </thead>\n",
       "  <tbody>\n",
       "    <tr>\n",
       "      <th>0</th>\n",
       "      <td>0</td>\n",
       "      <td>63.596629</td>\n",
       "      <td>2.476707</td>\n",
       "      <td>17.034826</td>\n",
       "      <td>21.914249</td>\n",
       "      <td>2.476707</td>\n",
       "      <td>-0.401462</td>\n",
       "      <td>-0.569074</td>\n",
       "      <td>-0.538268</td>\n",
       "      <td>-0.649688</td>\n",
       "      <td>...</td>\n",
       "      <td>0.0</td>\n",
       "      <td>0.0</td>\n",
       "      <td>105.156191</td>\n",
       "      <td>2.90243</td>\n",
       "      <td>17.126038</td>\n",
       "      <td>34.18994</td>\n",
       "      <td>2.90243</td>\n",
       "      <td>0.0</td>\n",
       "      <td>3.34507</td>\n",
       "      <td>-1.033281</td>\n",
       "    </tr>\n",
       "  </tbody>\n",
       "</table>\n",
       "<p>1 rows × 40 columns</p>\n",
       "</div>"
      ],
      "text/plain": [
       "   epoch    test_kl    test_x   test_mof     test_y  test_loss       lcd  \\\n",
       "0      0  63.596629  2.476707  17.034826  21.914249   2.476707 -0.401462   \n",
       "\n",
       "        pld   density       avf  ...  λ_y  λ_mof    train_kl  train_x  \\\n",
       "0 -0.569074 -0.538268 -0.649688  ...  0.0    0.0  105.156191  2.90243   \n",
       "\n",
       "   train_mof   train_y  train_loss  valid_smiles  mof_acc   mean_r2  \n",
       "0  17.126038  34.18994     2.90243           0.0  3.34507 -1.033281  \n",
       "\n",
       "[1 rows x 40 columns]"
      ]
     },
     "execution_count": 22,
     "metadata": {},
     "output_type": "execute_result"
    }
   ],
   "source": [
    "log_df = pd.read_csv(configs.at_results_dir(hparams,'files_log'))\n",
    "print(log_df.shape)\n",
    "print(log_df.columns)\n",
    "log_df.head()"
   ]
  },
  {
   "cell_type": "code",
   "execution_count": null,
   "metadata": {},
   "outputs": [],
   "source": [
    "plt.plot()"
   ]
  },
  {
   "cell_type": "code",
   "execution_count": null,
   "metadata": {
    "ExecuteTime": {
     "end_time": "2020-02-16T00:19:38.434896Z",
     "start_time": "2020-02-16T00:19:31.697Z"
    },
    "scrolled": true
   },
   "outputs": [],
   "source": [
    "log_file = os.path.join(config['results_dir'],config['log_file'])\n",
    "log_df = pd.read_csv(log_file)\n",
    "log_df['recon_weight']=1.0\n",
    "prefixes = ['kl_','recon_','mof_','y_']\n",
    "print(log_df.columns)\n",
    "display(log_df.head(2))\n",
    "eval_df = log_df.query('mode==\"Eval\"').set_index('epoch')\n",
    "train_df = log_df.query('mode==\"Train\"').set_index('epoch')\n",
    "plt.plot(train_df['lr'])\n",
    "plt.title('Learning Rate')\n",
    "plt.show()\n",
    "plt.plot(eval_df['valid'])\n",
    "plt.title('Valid smiles on validation set')\n",
    "plt.show()\n",
    "\n",
    "plt.fill_between(eval_df.index, eval_df['y_r2_min'], eval_df['y_r2_max'],alpha=0.25)\n",
    "plt.plot(eval_df['y_r2_med'],c='g',label='valid')\n",
    "plt.ylabel('r^2')\n",
    "plt.show()\n",
    "\n",
    "for label in prefixes:\n",
    "    plt.plot(train_df[label+'weight'])\n",
    "    plt.title(label+' annealer')\n",
    "    plt.show()\n",
    "\n",
    "for label in prefixes+['']:\n",
    "    plt.plot(train_df[label+'loss'],label='Train')\n",
    "    plt.plot(eval_df[label+'loss'],label='Valid')\n",
    "    plt.title(label+'Loss')\n",
    "    plt.yscale(\"log\")\n",
    "    plt.legend()\n",
    "    plt.show()\n",
    "\n",
    "for label in prefixes:\n",
    "    plt.plot((train_df[label+'weight']*train_df[label+'loss'])/train_df['loss'],label=label)\n",
    "plt.title('Loss Ratios (Train)')\n",
    "plt.legend()\n",
    "plt.show()\n",
    "for label in prefixes:\n",
    "    plt.plot((eval_df[label+'weight']*eval_df[label+'loss'])/train_df['loss'],label=label)\n",
    "plt.title('Loss Ratios (Eval)')\n",
    "plt.legend()\n",
    "plt.show()"
   ]
  },
  {
   "cell_type": "markdown",
   "metadata": {},
   "source": [
    "## Load saved model"
   ]
  },
  {
   "cell_type": "code",
   "execution_count": null,
   "metadata": {
    "ExecuteTime": {
     "end_time": "2020-02-16T00:19:38.435991Z",
     "start_time": "2020-02-16T00:19:31.701Z"
    }
   },
   "outputs": [],
   "source": [
    "with open(os.path.join(train_dict['results_dir'],config.config_save),'r') as afile:\n",
    "    config = json.load(afile, object_pairs_hook=models.utils.AttributeDict)\n",
    "\n",
    "vocab = torch.load(os.path.join(train_dict['results_dir'],config.vocab_save))\n",
    "vocab_mof = torch.load(os.path.join(train_dict['results_dir'],'mof'))\n",
    "y_scaler = torch.load(os.path.join(train_dict['results_dir'],'y_scaler'))\n",
    "model_state = torch.load(os.path.join(train_dict['results_dir'],config.model_save))\n",
    "\n",
    "model = VAEMOF(vocab, mof_vocab,y_scaler,config).to(device)\n",
    "model.load_state_dict(model_state)\n",
    "model = model.to(device)\n",
    "model.eval()"
   ]
  },
  {
   "cell_type": "code",
   "execution_count": null,
   "metadata": {
    "ExecuteTime": {
     "end_time": "2020-02-16T00:19:38.436912Z",
     "start_time": "2020-02-16T00:19:31.704Z"
    }
   },
   "outputs": [],
   "source": [
    "print(header_str('Losses'))\n",
    "log_file = os.path.join(config['results_dir'],config['log_file'])\n",
    "log_df = pd.read_csv(log_file)\n",
    "eval_row = log_df.query('mode==\"Eval\"').iloc[-1]\n",
    "train_row = log_df.query('mode==\"Train\"').iloc[-1]\n",
    "for label in ['kl_','recon_','mof_','y_']+['']:\n",
    "    min_train = np.min(train_row[label+'loss'])\n",
    "    min_valid = np.max(eval_row[label+'loss'])\n",
    "    print('{:6s}loss = {:.3e} / {:.3e}'.format(label,min_train,min_valid))"
   ]
  },
  {
   "cell_type": "code",
   "execution_count": null,
   "metadata": {
    "ExecuteTime": {
     "end_time": "2020-02-16T00:19:38.437949Z",
     "start_time": "2020-02-16T00:19:31.708Z"
    }
   },
   "outputs": [],
   "source": [
    "sub_sample = 10000\n",
    "src_data = prop_test\n",
    "#src_data = random.sample(src_data,min(len(src_data),sub_sample))\n",
    "\n",
    "predict_properties\n",
    "\n",
    "n = len(src_data)\n",
    "batch_size=64\n",
    "n_loops = int(np.ceil(n/batch_size))\n",
    "z=[]\n",
    "y_true=[]\n",
    "y_pred=[]\n",
    "with torch.no_grad():\n",
    "    for chunk in  tqdm(models.utils.chunks(src_data,batch_size),total=n_loops, desc='Generating predictions'):\n",
    "        x_tensor,mof_tensor,y_tensor,y_mask = trainer.get_collate_fn(model)(chunk)\n",
    "        _, z_tensor = model.forward_encoder(x_tensor,mof_tensor)\n",
    "        y_pred_tensor = model.z_to_y(z_tensor)\n",
    "        z.extend(z_tensor.cpu().numpy())\n",
    "        y_pred.extend(y_pred_tensor.cpu().numpy())\n",
    "        y_true.extend(y_tensor.cpu().numpy())\n",
    "        \n",
    "z = np.stack(z)\n",
    "y_true = np.stack(y_true)\n",
    "y_pred = np.stack(y_pred)\n",
    "z_pca = PCA(2).fit_transform(z)\n",
    "z_df = pd.DataFrame()\n",
    "for index,col in enumerate(targets):\n",
    "    z_df[col]=y_true[:,index]\n",
    "    z_df[col+'_pred']=y_pred[:,index]\n",
    "    r2 = sklearn.metrics.r2_score(y_true[:,index],y_pred[:,index])\n",
    "    mae = sklearn.metrics.mean_absolute_error(y_true[:,index],y_pred[:,index])\n",
    "    print('{:20} -> r^2= {:3f}, MAE= {:.3f}'.format(col,r2,mae))\n",
    "z_df['x']=z_pca[:,0]\n",
    "z_df['y']=z_pca[:,1]\n",
    "print(z.shape)"
   ]
  },
  {
   "cell_type": "markdown",
   "metadata": {},
   "source": [
    "## Prior check"
   ]
  },
  {
   "cell_type": "code",
   "execution_count": null,
   "metadata": {
    "ExecuteTime": {
     "end_time": "2020-02-16T00:19:38.438862Z",
     "start_time": "2020-02-16T00:19:31.712Z"
    },
    "scrolled": true
   },
   "outputs": [],
   "source": [
    "print(header_str('prior'))\n",
    "samples = []\n",
    "n = 1024\n",
    "batch_size=64\n",
    "n_loops = int(np.ceil(n/batch_size))\n",
    "for chunk in  tqdm(models.utils.chunks(list(range(n)),batch_size),total=n_loops, desc='Generating samples'):\n",
    "    n_batch = min(len(chunk), batch_size)\n",
    "    z = model.sample_z_prior(n_batch)\n",
    "    smiles_list = model.sample(n_batch, config.max_length,z=z)\n",
    "    mof_list = model.z_to_mof(z)\n",
    "    samples.extend([ [smi]+mof for smi,mof in zip(smiles_list,mof_list)])\n",
    "    \n",
    "gen_df = pd.DataFrame(samples,columns=[smiles_column]+mof_columns)\n",
    "gen_df['valid'] = gen_df[smiles_column].apply(models.utils.valid_smiles)\n",
    "print('valid smiles: {} out of {} ({}%)'.format(gen_df['valid'].sum(),n,gen_df['valid'].sum()/n*100.0))\n",
    "\n",
    "gen_df"
   ]
  },
  {
   "cell_type": "markdown",
   "metadata": {},
   "source": [
    "## Posterior check"
   ]
  },
  {
   "cell_type": "code",
   "execution_count": null,
   "metadata": {
    "ExecuteTime": {
     "end_time": "2020-02-16T00:19:38.439883Z",
     "start_time": "2020-02-16T00:19:31.716Z"
    }
   },
   "outputs": [],
   "source": [
    "print(header_str('Posterior check'))\n",
    "\n",
    "tries=2\n",
    "sub_sample =1000\n",
    "src_data = train_data\n",
    "src_data = random.sample(src_data,min(len(src_data),sub_sample))\n",
    "valid_smiles=[]\n",
    "recon_smiles=[]\n",
    "n = len(src_data)\n",
    "results=[]\n",
    "mof_results=[]\n",
    "print(n)\n",
    "with torch.no_grad():\n",
    "    for t in tqdm(src_data):\n",
    "        batch = [t]*tries\n",
    "        true_smiles = isosmiles(vocab.ids2string(t[0]))\n",
    "        true_mof = mof_vocab.ids2mof(t[1])\n",
    "        x_tensor,mof,y,y_mask = trainer.get_collate_fn(model)(batch)\n",
    "        _, z_tensor = model.forward_encoder(x_tensor,mof)\n",
    "        mof_list = np.array(model.z_to_mof(z_tensor))\n",
    "        pred_mof = [mof_list[:,i].tolist() for i in range(3)]\n",
    "        acc_mof = any([ all(i==true_mof) for i in mof_list])\n",
    "        _, x_recon_tensor = model.forward_x_decoder(x_tensor,z_tensor)\n",
    "        re_smiles = [model.tensor2string(x_i) for x_i in x_recon_tensor]\n",
    "        valid_smiles = [si for si in set(re_smiles) if models.utils.valid_smiles(si)]\n",
    "        valid_smiles = [isosmiles(si) for si in valid_smiles]\n",
    "        same_smiles = [si for si in valid_smiles if si==true_smiles]\n",
    "        results.append([true_smiles, re_smiles[0], len(same_smiles)>0,len(valid_smiles)>0])\n",
    "        mof_results.append(acc_mof)\n",
    "\n",
    "        \n",
    "post_df = pd.DataFrame(results,columns=['smiles','recon_smiles','same','valid'])\n",
    "print('valid: {} out of {} ({:.2f}%)'.format(post_df['valid'].sum(),n,post_df['valid'].sum()/n*100.0))\n",
    "print('same : {} out of {} ({:.2f}%)'.format(post_df['same'].sum(),n,post_df['same'].sum()/n*100.0))\n",
    "display(post_df.head(1))\n",
    "print('Mof recon acc: {}'.format(float(sum(mof_results))/float(len(mof_results))))"
   ]
  },
  {
   "cell_type": "code",
   "execution_count": null,
   "metadata": {
    "ExecuteTime": {
     "end_time": "2020-02-16T00:19:38.440761Z",
     "start_time": "2020-02-16T00:19:31.719Z"
    }
   },
   "outputs": [],
   "source": [
    "sub_sample = 10000\n",
    "src_data = train_data\n",
    "src_data = random.sample(src_data,min(len(src_data),sub_sample))\n",
    "n = len(src_data)\n",
    "batch_size=64\n",
    "n_loops = int(np.ceil(n/batch_size))\n",
    "z=[]\n",
    "mof=[]\n",
    "mof_ids=[]\n",
    "with torch.no_grad():\n",
    "    for chunk in  tqdm(models.utils.chunks(src_data,batch_size),total=n_loops, desc='Generating samples'):\n",
    "        mof.extend([mof_vocab.ids2mof(t[1]) for t in chunk])\n",
    "        x_tensor,mof_tensor,y, y_mask = trainer.get_collate_fn(model)(chunk)\n",
    "        _, z_tensor = model.forward_encoder(x_tensor,mof_tensor)\n",
    "        z.extend(z_tensor.cpu().numpy())\n",
    "        mof_ids.extend([mof_vocab.ids2mof(t) for t in mof_tensor.cpu().numpy()])\n",
    "        \n",
    "z = np.stack(z)\n",
    "z_pca = PCA(2).fit_transform(z)\n",
    "z_df = pd.DataFrame(mof,columns=mof_columns)\n",
    "z_df['x']=z_pca[:,0]\n",
    "z_df['y']=z_pca[:,1]\n",
    "mof_ids = np.stack(mof_ids)\n",
    "print(z.shape,mof_ids.shape)"
   ]
  },
  {
   "cell_type": "code",
   "execution_count": null,
   "metadata": {
    "ExecuteTime": {
     "end_time": "2020-02-16T00:19:38.441839Z",
     "start_time": "2020-02-16T00:19:31.722Z"
    }
   },
   "outputs": [],
   "source": [
    "top_k=8\n",
    "for index,col in enumerate(mof_columns):\n",
    "    print(models.utils.header_str(col))\n",
    "    plt.figure(figsize=(8,8))\n",
    "    top_cat = z_df[col].value_counts(sort=True).iloc[:top_k].index.tolist()\n",
    "    sns.scatterplot(x='x',y='y',hue=col,s=20,data=z_df[z_df[col].isin(top_cat)])\n",
    "    plt.legend(bbox_to_anchor=(1.0, .5))\n",
    "    plt.title(col)\n",
    "    plt.show()"
   ]
  },
  {
   "cell_type": "code",
   "execution_count": null,
   "metadata": {},
   "outputs": [],
   "source": []
  }
 ],
 "metadata": {
  "kernelspec": {
   "display_name": "Python 3",
   "language": "python",
   "name": "python3"
  },
  "language_info": {
   "codemirror_mode": {
    "name": "ipython",
    "version": 3
   },
   "file_extension": ".py",
   "mimetype": "text/x-python",
   "name": "python",
   "nbconvert_exporter": "python",
   "pygments_lexer": "ipython3",
   "version": "3.7.6"
  },
  "toc": {
   "base_numbering": 1,
   "nav_menu": {},
   "number_sections": true,
   "sideBar": true,
   "skip_h1_title": false,
   "title_cell": "Table of Contents",
   "title_sidebar": "Contents",
   "toc_cell": false,
   "toc_position": {},
   "toc_section_display": true,
   "toc_window_display": false
  }
 },
 "nbformat": 4,
 "nbformat_minor": 2
}
