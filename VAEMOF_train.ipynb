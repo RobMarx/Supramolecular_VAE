{
 "cells": [
  {
   "cell_type": "code",
   "execution_count": 1,
   "metadata": {
    "ExecuteTime": {
     "end_time": "2020-02-21T16:46:45.214125Z",
     "start_time": "2020-02-21T16:46:45.201042Z"
    }
   },
   "outputs": [],
   "source": [
    "%load_ext autoreload\n",
    "%autoreload 2"
   ]
  },
  {
   "cell_type": "code",
   "execution_count": 2,
   "metadata": {
    "ExecuteTime": {
     "end_time": "2020-02-21T16:46:47.536658Z",
     "start_time": "2020-02-21T16:46:45.709671Z"
    }
   },
   "outputs": [
    {
     "name": "stderr",
     "output_type": "stream",
     "text": [
      "RDKit WARNING: [11:46:46] Enabling RDKit 2019.09.3 jupyter extensions\n",
      "/home/beangoben/anaconda3/lib/python3.7/site-packages/tqdm/std.py:658: FutureWarning: The Panel class is removed from pandas. Accessing it from the top-level namespace will also be removed in the next version\n",
      "  from pandas import Panel\n"
     ]
    }
   ],
   "source": [
    "import vaemof\n",
    "from vaemof import experiments\n",
    "from vaemof import utils\n",
    "from vaemof.vocabs import SELFIESVocab, MOFVocab, PropVocab\n",
    "from vaemof import modules\n",
    "from vaemof import training\n",
    "from vaemof.model import VAEMOF\n",
    "from vaemof import configs\n",
    "\n",
    "from vaemof.utils import header_str\n",
    "vaemof.experiments.plot_settings()"
   ]
  },
  {
   "cell_type": "code",
   "execution_count": 3,
   "metadata": {
    "ExecuteTime": {
     "end_time": "2020-02-21T16:46:47.574753Z",
     "start_time": "2020-02-21T16:46:47.537747Z"
    }
   },
   "outputs": [
    {
     "name": "stdout",
     "output_type": "stream",
     "text": [
      "rdkit : 2019.09.3\n",
      "torch : 1.4.0\n",
      "cuda? True\n"
     ]
    }
   ],
   "source": [
    "import os\n",
    "from tqdm.auto import tqdm\n",
    "import numpy as np\n",
    "import torch\n",
    "import rdkit\n",
    "import pandas as pd\n",
    "import matplotlib.pyplot as plt\n",
    "import seaborn as sns\n",
    "\n",
    "from itertools import product\n",
    "from collections import OrderedDict\n",
    "\n",
    "print(f'rdkit : {rdkit.__version__}')\n",
    "print(f'torch : {torch.__version__}')\n",
    "print(f'cuda? {torch.cuda.is_available()}')\n",
    "tqdm.pandas()\n",
    "utils.disable_rdkit_log()"
   ]
  },
  {
   "cell_type": "markdown",
   "metadata": {},
   "source": [
    "## Hparams"
   ]
  },
  {
   "cell_type": "code",
   "execution_count": 4,
   "metadata": {
    "ExecuteTime": {
     "end_time": "2020-02-21T16:46:47.593334Z",
     "start_time": "2020-02-21T16:46:47.575896Z"
    },
    "scrolled": true
   },
   "outputs": [
    {
     "name": "stdout",
     "output_type": "stream",
     "text": [
      "===================================== full =====================================\n",
      "==================================== config ====================================\n",
      "== train == :\n",
      "        train_device:                cuda\n",
      "          train_seed:                  42\n",
      "    train_batch_size:                1536\n",
      "        train_epochs:                  60\n",
      "            train_lr:               0.005\n",
      "     train_clip_grad:                  20\n",
      "== vae == :\n",
      "      vae_latent_dim:                 256\n",
      "           vae_y_dec:                True\n",
      "     vae_selfies_dec:                True\n",
      "         vae_mof_enc:                True\n",
      "         vae_mof_dec:                True\n",
      "vae_duplicate_smiles:                True\n",
      "== mof == :\n",
      "        mof_encoding:                 all\n",
      "   mof_weighted_loss:                True\n",
      "         mof_w_start:                 0.0\n",
      "           mof_w_end:                 1.0\n",
      "           mof_start:                  15\n",
      "    mof_const_length:                  10\n",
      "== y == :\n",
      "            y_labels:['lcd', 'pld', 'density', 'avf', 'avsa', 'agsa', 'co2n2_co2_mol_kg', 'co2n2_n2_mol_kg', 'co2n2_selectivity', 'co2n2_heat_avg', 'co2n2_heat_co2', 'co2n2_heat_n2', 'co2n2_heat_molfrac', 'co2ch4_co2_mol_kg', 'co2ch4_ch4_mol_kg', 'co2ch4_selectivity', 'co2ch4_heat_avg', 'co2ch4_heat_co2', 'co2ch4_heat_ch4', 'co2ch4_heat_molfrac', 'scscore']\n",
      "           y_weights:[1, 1, 1, 1, 1, 1, 1, 1, 1, 1, 1, 1, 1, 1, 1, 1, 1, 1, 1, 1, 1]\n",
      "           y_w_start:                 0.0\n",
      "             y_w_end:                 1.0\n",
      "             y_start:                  15\n",
      "      y_const_length:                  10\n",
      "== files == :\n",
      "          files_data:data/MOF_gen_train.csv.gz\n",
      "          files_prop:data/MOF_properties_train.csv.gz\n",
      "       files_results:        results/test\n",
      "        files_config:         config.json\n",
      "           files_log:             log.csv\n",
      "== kl == :\n",
      "     kl_cycle_length:                  15\n",
      "   kl_cycle_constant:                   3\n",
      "     kl_weight_start:               1e-05\n",
      "       kl_weight_end:                0.77\n",
      "== enc == :\n",
      "      enc_hidden_dim:                 256\n",
      "        enc_n_layers:                   1\n",
      "         enc_dropout:                0.25\n",
      "== dec == :\n",
      "      dec_hidden_dim:                 512\n",
      "        dec_n_layers:                   1\n",
      "         dec_dropout:                 0.0\n"
     ]
    }
   ],
   "source": [
    "preset = 'full'\n",
    "WORK_DIR = 'results/test'\n",
    "hparams = configs.get_model_config(WORK_DIR, preset, rand=False)\n",
    "print(utils.header_str(preset))\n",
    "hparams['train_device'] = 'cuda' if torch.cuda.is_available() else 'cpu'\n",
    "\n",
    "testing = configs.testing_config(hparams)\n",
    "configs.print_config(hparams)\n",
    "utils.set_seed(hparams['train_seed'])\n",
    "device = torch.device(hparams['train_device'])"
   ]
  },
  {
   "cell_type": "markdown",
   "metadata": {},
   "source": [
    "## Load MOF data\n",
    "\n",
    "Assemble smiles formula: [organic core][metal_node][topology][branch_smiles]"
   ]
  },
  {
   "cell_type": "code",
   "execution_count": 5,
   "metadata": {
    "ExecuteTime": {
     "end_time": "2020-02-21T16:46:49.891613Z",
     "start_time": "2020-02-21T16:46:47.594390Z"
    }
   },
   "outputs": [
    {
     "name": "stdout",
     "output_type": "stream",
     "text": [
      "=================================== Real run ===================================\n",
      "df shape: (2049964, 8)\n",
      "df columns: ['branch_smiles', 'id2mof', 'metal_node', 'mof_index', 'organic_core', 'randomized', 'topology', 'train/test']\n",
      "Found 713 unique mofs\n"
     ]
    },
    {
     "data": {
      "text/html": [
       "<div>\n",
       "<style scoped>\n",
       "    .dataframe tbody tr th:only-of-type {\n",
       "        vertical-align: middle;\n",
       "    }\n",
       "\n",
       "    .dataframe tbody tr th {\n",
       "        vertical-align: top;\n",
       "    }\n",
       "\n",
       "    .dataframe thead th {\n",
       "        text-align: right;\n",
       "    }\n",
       "</style>\n",
       "<table border=\"1\" class=\"dataframe\">\n",
       "  <thead>\n",
       "    <tr style=\"text-align: right;\">\n",
       "      <th></th>\n",
       "      <th>branch_smiles</th>\n",
       "      <th>id2mof</th>\n",
       "      <th>metal_node</th>\n",
       "      <th>mof_index</th>\n",
       "      <th>organic_core</th>\n",
       "      <th>randomized</th>\n",
       "      <th>topology</th>\n",
       "      <th>train/test</th>\n",
       "    </tr>\n",
       "  </thead>\n",
       "  <tbody>\n",
       "    <tr>\n",
       "      <th>0</th>\n",
       "      <td>CC(c1cc(O)cc(O)c1)(C(Sc1cc(O)cc(O)c1)c1cc(O)cc...</td>\n",
       "      <td>0</td>\n",
       "      <td>sym_7_mc_4</td>\n",
       "      <td>4.0</td>\n",
       "      <td>None</td>\n",
       "      <td>False</td>\n",
       "      <td>acs</td>\n",
       "      <td>1</td>\n",
       "    </tr>\n",
       "    <tr>\n",
       "      <th>1</th>\n",
       "      <td>Oc1ccc(-c2cc(/C=C/c3c(-c4ccc(O)cc4)cc([Lr])c(-...</td>\n",
       "      <td>0</td>\n",
       "      <td>sym_7_mc_4</td>\n",
       "      <td>10.0</td>\n",
       "      <td>None</td>\n",
       "      <td>False</td>\n",
       "      <td>acs</td>\n",
       "      <td>1</td>\n",
       "    </tr>\n",
       "    <tr>\n",
       "      <th>2</th>\n",
       "      <td>O=S(=O)(O)Cc1nn([Lr])c(CS(=O)(=O)O)c1-c1c(CS(=...</td>\n",
       "      <td>0</td>\n",
       "      <td>sym_7_mc_4</td>\n",
       "      <td>18.0</td>\n",
       "      <td>None</td>\n",
       "      <td>False</td>\n",
       "      <td>acs</td>\n",
       "      <td>1</td>\n",
       "    </tr>\n",
       "    <tr>\n",
       "      <th>3</th>\n",
       "      <td>[Lr]c1ccc(-c2c(-c3ccccc3)cc([Lr])c(-c3ccccc3)c...</td>\n",
       "      <td>0</td>\n",
       "      <td>sym_7_mc_4</td>\n",
       "      <td>23.0</td>\n",
       "      <td>None</td>\n",
       "      <td>False</td>\n",
       "      <td>acs</td>\n",
       "      <td>1</td>\n",
       "    </tr>\n",
       "    <tr>\n",
       "      <th>4</th>\n",
       "      <td>[Lr]c1ccc(N2C=C(c3ccncc3)N(c3c(-c4ccncc4)cc([L...</td>\n",
       "      <td>0</td>\n",
       "      <td>sym_7_mc_4</td>\n",
       "      <td>29.0</td>\n",
       "      <td>None</td>\n",
       "      <td>False</td>\n",
       "      <td>acs</td>\n",
       "      <td>1</td>\n",
       "    </tr>\n",
       "  </tbody>\n",
       "</table>\n",
       "</div>"
      ],
      "text/plain": [
       "                                       branch_smiles  id2mof  metal_node  \\\n",
       "0  CC(c1cc(O)cc(O)c1)(C(Sc1cc(O)cc(O)c1)c1cc(O)cc...       0  sym_7_mc_4   \n",
       "1  Oc1ccc(-c2cc(/C=C/c3c(-c4ccc(O)cc4)cc([Lr])c(-...       0  sym_7_mc_4   \n",
       "2  O=S(=O)(O)Cc1nn([Lr])c(CS(=O)(=O)O)c1-c1c(CS(=...       0  sym_7_mc_4   \n",
       "3  [Lr]c1ccc(-c2c(-c3ccccc3)cc([Lr])c(-c3ccccc3)c...       0  sym_7_mc_4   \n",
       "4  [Lr]c1ccc(N2C=C(c3ccncc3)N(c3c(-c4ccncc4)cc([L...       0  sym_7_mc_4   \n",
       "\n",
       "   mof_index organic_core  randomized topology  train/test  \n",
       "0        4.0         None       False      acs           1  \n",
       "1       10.0         None       False      acs           1  \n",
       "2       18.0         None       False      acs           1  \n",
       "3       23.0         None       False      acs           1  \n",
       "4       29.0         None       False      acs           1  "
      ]
     },
     "execution_count": 5,
     "metadata": {},
     "output_type": "execute_result"
    }
   ],
   "source": [
    "smiles_column = 'branch_smiles'\n",
    "testtrain_column = 'train/test'\n",
    "df = experiments.get_generator_df(csv_file=hparams['files_data'],\n",
    "                                  smiles_column=smiles_column,\n",
    "                                  use_duplicates=hparams['vae_duplicate_smiles'],\n",
    "                                  testing=testing)\n",
    "ids2mofs, mof2ids, mof_columns = experiments.get_mofdict(\n",
    "    df, hparams['mof_encoding'])\n",
    "df.head()"
   ]
  },
  {
   "cell_type": "markdown",
   "metadata": {},
   "source": [
    "## Load property data"
   ]
  },
  {
   "cell_type": "code",
   "execution_count": 6,
   "metadata": {
    "ExecuteTime": {
     "end_time": "2020-02-21T16:47:22.957075Z",
     "start_time": "2020-02-21T16:46:49.893131Z"
    },
    "scrolled": true
   },
   "outputs": [
    {
     "name": "stdout",
     "output_type": "stream",
     "text": [
      "=================================== Real run ===================================\n",
      "Restored variables from data/scscore_1024uint8_model.ckpt-10654.as_numpy.json.gz\n"
     ]
    },
    {
     "data": {
      "application/vnd.jupyter.widget-view+json": {
       "model_id": "6c02a305079f44b9b7912b5c644aa58a",
       "version_major": 2,
       "version_minor": 0
      },
      "text/plain": [
       "HBox(children=(FloatProgress(value=0.0, max=45889.0), HTML(value='')))"
      ]
     },
     "metadata": {},
     "output_type": "display_data"
    },
    {
     "name": "stdout",
     "output_type": "stream",
     "text": [
      "\n",
      "Removed 2923 datapoints due to mask.\n",
      "Removed 1819 datapoints due non-valid mof (mof2ids).\n",
      "Removed 245 datapoints due to high selectivity.\n"
     ]
    },
    {
     "data": {
      "text/html": [
       "<div>\n",
       "<style scoped>\n",
       "    .dataframe tbody tr th:only-of-type {\n",
       "        vertical-align: middle;\n",
       "    }\n",
       "\n",
       "    .dataframe tbody tr th {\n",
       "        vertical-align: top;\n",
       "    }\n",
       "\n",
       "    .dataframe thead th {\n",
       "        text-align: right;\n",
       "    }\n",
       "</style>\n",
       "<table border=\"1\" class=\"dataframe\">\n",
       "  <thead>\n",
       "    <tr style=\"text-align: right;\">\n",
       "      <th></th>\n",
       "      <th>organic_core</th>\n",
       "      <th>metal_node</th>\n",
       "      <th>topology</th>\n",
       "      <th>branch_smiles</th>\n",
       "      <th>lcd</th>\n",
       "      <th>pld</th>\n",
       "      <th>density</th>\n",
       "      <th>avf</th>\n",
       "      <th>avsa</th>\n",
       "      <th>agsa</th>\n",
       "      <th>...</th>\n",
       "      <th>co2ch4_selectivity</th>\n",
       "      <th>co2ch4_heat_avg</th>\n",
       "      <th>co2ch4_heat_co2</th>\n",
       "      <th>co2ch4_heat_ch4</th>\n",
       "      <th>co2ch4_heat_molfrac</th>\n",
       "      <th>selfies_safe</th>\n",
       "      <th>mask</th>\n",
       "      <th>train/test</th>\n",
       "      <th>scscore</th>\n",
       "      <th>id2mof</th>\n",
       "    </tr>\n",
       "  </thead>\n",
       "  <tbody>\n",
       "    <tr>\n",
       "      <th>0</th>\n",
       "      <td>None</td>\n",
       "      <td>sym_7_mc_4</td>\n",
       "      <td>acs</td>\n",
       "      <td>COc1c(/C=C/c2ccc([Lr])cc2)cc(OC)c(/C=C/c3ccc([...</td>\n",
       "      <td>24.87798</td>\n",
       "      <td>19.29733</td>\n",
       "      <td>0.164554</td>\n",
       "      <td>0.75459</td>\n",
       "      <td>1159.130</td>\n",
       "      <td>7044.060</td>\n",
       "      <td>...</td>\n",
       "      <td>1.786937</td>\n",
       "      <td>-8.58733</td>\n",
       "      <td>-12.08169</td>\n",
       "      <td>-7.92879</td>\n",
       "      <td>-8.61737</td>\n",
       "      <td>True</td>\n",
       "      <td>True</td>\n",
       "      <td>1</td>\n",
       "      <td>3.384814</td>\n",
       "      <td>0</td>\n",
       "    </tr>\n",
       "    <tr>\n",
       "      <th>1</th>\n",
       "      <td>None</td>\n",
       "      <td>sym_7_mc_4</td>\n",
       "      <td>acs</td>\n",
       "      <td>CSC1=C2CCC(=C(C(=C2SC)[Lr])SC)C(=C1[Lr])SC</td>\n",
       "      <td>7.78281</td>\n",
       "      <td>5.18969</td>\n",
       "      <td>1.119280</td>\n",
       "      <td>0.07631</td>\n",
       "      <td>978.891</td>\n",
       "      <td>874.575</td>\n",
       "      <td>...</td>\n",
       "      <td>3.197185</td>\n",
       "      <td>-20.54264</td>\n",
       "      <td>-24.18495</td>\n",
       "      <td>-18.74239</td>\n",
       "      <td>-20.17205</td>\n",
       "      <td>True</td>\n",
       "      <td>True</td>\n",
       "      <td>0</td>\n",
       "      <td>3.176298</td>\n",
       "      <td>0</td>\n",
       "    </tr>\n",
       "    <tr>\n",
       "      <th>2</th>\n",
       "      <td>None</td>\n",
       "      <td>sym_7_mc_4</td>\n",
       "      <td>acs</td>\n",
       "      <td>O=C(c1cc(O)c(cc1O)[Lr])OOC(=O)c1cc(O)c(cc1O)[Lr]</td>\n",
       "      <td>17.01677</td>\n",
       "      <td>15.91720</td>\n",
       "      <td>0.320703</td>\n",
       "      <td>0.61736</td>\n",
       "      <td>1628.620</td>\n",
       "      <td>5078.290</td>\n",
       "      <td>...</td>\n",
       "      <td>3.004385</td>\n",
       "      <td>-11.22187</td>\n",
       "      <td>-16.39748</td>\n",
       "      <td>-9.43473</td>\n",
       "      <td>-11.17660</td>\n",
       "      <td>True</td>\n",
       "      <td>True</td>\n",
       "      <td>1</td>\n",
       "      <td>2.668208</td>\n",
       "      <td>0</td>\n",
       "    </tr>\n",
       "    <tr>\n",
       "      <th>3</th>\n",
       "      <td>None</td>\n",
       "      <td>sym_7_mc_4</td>\n",
       "      <td>acs</td>\n",
       "      <td>Oc1c(cc(c(c1O)[Lr])O)c1nnc(nn1)c1ccc(c(c1)O)[Lr]</td>\n",
       "      <td>19.50569</td>\n",
       "      <td>17.17410</td>\n",
       "      <td>0.291374</td>\n",
       "      <td>0.66206</td>\n",
       "      <td>1401.740</td>\n",
       "      <td>4810.800</td>\n",
       "      <td>...</td>\n",
       "      <td>2.250807</td>\n",
       "      <td>-9.49245</td>\n",
       "      <td>-13.39225</td>\n",
       "      <td>-8.37161</td>\n",
       "      <td>-9.37550</td>\n",
       "      <td>True</td>\n",
       "      <td>True</td>\n",
       "      <td>1</td>\n",
       "      <td>3.688210</td>\n",
       "      <td>0</td>\n",
       "    </tr>\n",
       "    <tr>\n",
       "      <th>4</th>\n",
       "      <td>None</td>\n",
       "      <td>sym_7_mc_4</td>\n",
       "      <td>acs</td>\n",
       "      <td>[Lr]C12C=CC(C=C1)(C=C2)[Lr]</td>\n",
       "      <td>9.58653</td>\n",
       "      <td>8.21739</td>\n",
       "      <td>0.799733</td>\n",
       "      <td>0.24196</td>\n",
       "      <td>2020.860</td>\n",
       "      <td>2526.910</td>\n",
       "      <td>...</td>\n",
       "      <td>2.167731</td>\n",
       "      <td>-15.36924</td>\n",
       "      <td>-18.34929</td>\n",
       "      <td>-14.67475</td>\n",
       "      <td>-15.38911</td>\n",
       "      <td>True</td>\n",
       "      <td>True</td>\n",
       "      <td>1</td>\n",
       "      <td>1.831772</td>\n",
       "      <td>0</td>\n",
       "    </tr>\n",
       "  </tbody>\n",
       "</table>\n",
       "<p>5 rows × 29 columns</p>\n",
       "</div>"
      ],
      "text/plain": [
       "  organic_core  metal_node topology  \\\n",
       "0         None  sym_7_mc_4      acs   \n",
       "1         None  sym_7_mc_4      acs   \n",
       "2         None  sym_7_mc_4      acs   \n",
       "3         None  sym_7_mc_4      acs   \n",
       "4         None  sym_7_mc_4      acs   \n",
       "\n",
       "                                       branch_smiles       lcd       pld  \\\n",
       "0  COc1c(/C=C/c2ccc([Lr])cc2)cc(OC)c(/C=C/c3ccc([...  24.87798  19.29733   \n",
       "1         CSC1=C2CCC(=C(C(=C2SC)[Lr])SC)C(=C1[Lr])SC   7.78281   5.18969   \n",
       "2   O=C(c1cc(O)c(cc1O)[Lr])OOC(=O)c1cc(O)c(cc1O)[Lr]  17.01677  15.91720   \n",
       "3   Oc1c(cc(c(c1O)[Lr])O)c1nnc(nn1)c1ccc(c(c1)O)[Lr]  19.50569  17.17410   \n",
       "4                        [Lr]C12C=CC(C=C1)(C=C2)[Lr]   9.58653   8.21739   \n",
       "\n",
       "    density      avf      avsa      agsa  ...  co2ch4_selectivity  \\\n",
       "0  0.164554  0.75459  1159.130  7044.060  ...            1.786937   \n",
       "1  1.119280  0.07631   978.891   874.575  ...            3.197185   \n",
       "2  0.320703  0.61736  1628.620  5078.290  ...            3.004385   \n",
       "3  0.291374  0.66206  1401.740  4810.800  ...            2.250807   \n",
       "4  0.799733  0.24196  2020.860  2526.910  ...            2.167731   \n",
       "\n",
       "   co2ch4_heat_avg  co2ch4_heat_co2  co2ch4_heat_ch4  co2ch4_heat_molfrac  \\\n",
       "0         -8.58733        -12.08169         -7.92879             -8.61737   \n",
       "1        -20.54264        -24.18495        -18.74239            -20.17205   \n",
       "2        -11.22187        -16.39748         -9.43473            -11.17660   \n",
       "3         -9.49245        -13.39225         -8.37161             -9.37550   \n",
       "4        -15.36924        -18.34929        -14.67475            -15.38911   \n",
       "\n",
       "   selfies_safe  mask  train/test   scscore  id2mof  \n",
       "0          True  True           1  3.384814       0  \n",
       "1          True  True           0  3.176298       0  \n",
       "2          True  True           1  2.668208       0  \n",
       "3          True  True           1  3.688210       0  \n",
       "4          True  True           1  1.831772       0  \n",
       "\n",
       "[5 rows x 29 columns]"
      ]
     },
     "execution_count": 6,
     "metadata": {},
     "output_type": "execute_result"
    }
   ],
   "source": [
    "prop_df = experiments.get_prop_df(csv_file=hparams['files_prop'],\n",
    "                                  targets=hparams['y_labels'],\n",
    "                                  mof2ids=mof2ids,\n",
    "                                  testing=testing,\n",
    "                                  smiles_column=smiles_column,\n",
    "                                  compute_scscore=True)\n",
    "prop_df.head()"
   ]
  },
  {
   "cell_type": "markdown",
   "metadata": {
    "ExecuteTime": {
     "end_time": "2019-09-26T22:30:17.885911Z",
     "start_time": "2019-09-26T22:30:17.854869Z"
    }
   },
   "source": [
    "## Train/test splits and hparams"
   ]
  },
  {
   "cell_type": "code",
   "execution_count": 7,
   "metadata": {
    "ExecuteTime": {
     "end_time": "2020-02-21T16:47:23.258628Z",
     "start_time": "2020-02-21T16:47:22.958566Z"
    },
    "scrolled": false
   },
   "outputs": [
    {
     "name": "stdout",
     "output_type": "stream",
     "text": [
      "Train sizes: 1894967 and   36795\n",
      "Test  sizes:  154997 and    4107\n"
     ]
    }
   ],
   "source": [
    "train_index = np.array(df[df[testtrain_column] == 1].index.tolist())\n",
    "test_index = np.array(df[df[testtrain_column] == 0].index.tolist())\n",
    "prop_train_index = np.array(\n",
    "    prop_df[prop_df[testtrain_column] == 1].index.tolist())\n",
    "prop_test_index = np.array(\n",
    "    prop_df[prop_df[testtrain_column] == 0].index.tolist())\n",
    "print(f'Train sizes: {len(train_index):7d} and {len(prop_train_index):7d}')\n",
    "print(f'Test  sizes: {len(test_index):7d} and {len(prop_test_index):7d}')"
   ]
  },
  {
   "cell_type": "markdown",
   "metadata": {},
   "source": [
    "# Vocabulary and preprocessors"
   ]
  },
  {
   "cell_type": "code",
   "execution_count": 8,
   "metadata": {
    "ExecuteTime": {
     "end_time": "2020-02-21T16:49:27.253308Z",
     "start_time": "2020-02-21T16:47:23.259564Z"
    },
    "scrolled": true
   },
   "outputs": [
    {
     "data": {
      "application/vnd.jupyter.widget-view+json": {
       "model_id": "b193e7cfac3845fa919d1f2c7af748d4",
       "version_major": 2,
       "version_minor": 0
      },
      "text/plain": [
       "HBox(children=(FloatProgress(value=0.0, max=2090866.0), HTML(value='')))"
      ]
     },
     "metadata": {},
     "output_type": "display_data"
    },
    {
     "name": "stdout",
     "output_type": "stream",
     "text": [
      "\n",
      "Alphabet size is 73\n",
      "Max seq length is 109 with 5 extra padding\n",
      "Used columns =['metal_node', 'organic_core', 'topology', 'id2mof'] with frequency weighting=True\n",
      "metal_node   has 15 classes\n",
      "organic_core has 52 classes\n",
      "topology     has 41 classes\n",
      "id2mof       has 713 classes\n"
     ]
    },
    {
     "data": {
      "text/plain": [
       "(<vaemof.vocabs.SELFIESVocab at 0x7fc3e0e7da90>,\n",
       " <vaemof.vocabs.MOFVocab at 0x7fc4b50414d0>,\n",
       " <vaemof.vocabs.PropVocab at 0x7fc4d598b050>)"
      ]
     },
     "execution_count": 8,
     "metadata": {},
     "output_type": "execute_result"
    }
   ],
   "source": [
    "smiles_list = df[smiles_column].tolist()+prop_df[smiles_column].tolist()\n",
    "vocab = SELFIESVocab.from_data(smiles_list)\n",
    "vocab_mof = MOFVocab.from_data(df.append(\n",
    "    prop_df, sort=False), mof_columns, weighting=hparams['mof_weighted_loss'])\n",
    "vocab_y = PropVocab.from_data(\n",
    "    prop_df, hparams['y_labels'], hparams['y_weights'])\n",
    "vocab, vocab_mof, vocab_y"
   ]
  },
  {
   "cell_type": "markdown",
   "metadata": {},
   "source": [
    "# Instanciate Model\n",
    "\n",
    "## Careful! (it saves and will overwrite any model previously saved)"
   ]
  },
  {
   "cell_type": "code",
   "execution_count": 9,
   "metadata": {
    "ExecuteTime": {
     "end_time": "2020-02-21T16:49:29.940223Z",
     "start_time": "2020-02-21T16:49:27.254955Z"
    },
    "scrolled": true
   },
   "outputs": [
    {
     "data": {
      "text/html": [
       "<h1>VAEMOF</h1>"
      ],
      "text/plain": [
       "<IPython.core.display.HTML object>"
      ]
     },
     "metadata": {},
     "output_type": "display_data"
    },
    {
     "data": {
      "text/html": [
       "<div>\n",
       "<style scoped>\n",
       "    .dataframe tbody tr th:only-of-type {\n",
       "        vertical-align: middle;\n",
       "    }\n",
       "\n",
       "    .dataframe tbody tr th {\n",
       "        vertical-align: top;\n",
       "    }\n",
       "\n",
       "    .dataframe thead th {\n",
       "        text-align: right;\n",
       "    }\n",
       "</style>\n",
       "<table border=\"1\" class=\"dataframe\">\n",
       "  <thead>\n",
       "    <tr style=\"text-align: right;\">\n",
       "      <th></th>\n",
       "      <th>Name</th>\n",
       "      <th>Module</th>\n",
       "      <th>Extra</th>\n",
       "      <th>submodule</th>\n",
       "      <th>trainable</th>\n",
       "      <th>n_params</th>\n",
       "      <th>trainable_params</th>\n",
       "    </tr>\n",
       "  </thead>\n",
       "  <tbody>\n",
       "    <tr>\n",
       "      <th>0</th>\n",
       "      <td>z_mu</td>\n",
       "      <td>Linear</td>\n",
       "      <td>in_features=512, out_features=256, bias=True</td>\n",
       "      <td>False</td>\n",
       "      <td>True</td>\n",
       "      <td>131328</td>\n",
       "      <td>131328</td>\n",
       "    </tr>\n",
       "    <tr>\n",
       "      <th>1</th>\n",
       "      <td>z_logvar</td>\n",
       "      <td>Linear</td>\n",
       "      <td>in_features=512, out_features=256, bias=True</td>\n",
       "      <td>False</td>\n",
       "      <td>True</td>\n",
       "      <td>131328</td>\n",
       "      <td>131328</td>\n",
       "    </tr>\n",
       "    <tr>\n",
       "      <th>2</th>\n",
       "      <td>enc_x</td>\n",
       "      <td>CharEncoder</td>\n",
       "      <td></td>\n",
       "      <td>False</td>\n",
       "      <td>True</td>\n",
       "      <td>390208</td>\n",
       "      <td>390208</td>\n",
       "    </tr>\n",
       "    <tr>\n",
       "      <th>3</th>\n",
       "      <td>dec_x</td>\n",
       "      <td>CharDecoder</td>\n",
       "      <td></td>\n",
       "      <td>False</td>\n",
       "      <td>True</td>\n",
       "      <td>1467016</td>\n",
       "      <td>1467016</td>\n",
       "    </tr>\n",
       "    <tr>\n",
       "      <th>4</th>\n",
       "      <td>enc_mof</td>\n",
       "      <td>MOFEncoder</td>\n",
       "      <td></td>\n",
       "      <td>False</td>\n",
       "      <td>True</td>\n",
       "      <td>407552</td>\n",
       "      <td>407552</td>\n",
       "    </tr>\n",
       "    <tr>\n",
       "      <th>5</th>\n",
       "      <td>dec_mof</td>\n",
       "      <td>MOFDecoder</td>\n",
       "      <td></td>\n",
       "      <td>False</td>\n",
       "      <td>True</td>\n",
       "      <td>277610</td>\n",
       "      <td>276789</td>\n",
       "    </tr>\n",
       "    <tr>\n",
       "      <th>6</th>\n",
       "      <td>dec_y</td>\n",
       "      <td>PropDecoder</td>\n",
       "      <td></td>\n",
       "      <td>False</td>\n",
       "      <td>True</td>\n",
       "      <td>5418</td>\n",
       "      <td>5397</td>\n",
       "    </tr>\n",
       "  </tbody>\n",
       "</table>\n",
       "</div>"
      ],
      "text/plain": [
       "       Name       Module                                         Extra  \\\n",
       "0      z_mu       Linear  in_features=512, out_features=256, bias=True   \n",
       "1  z_logvar       Linear  in_features=512, out_features=256, bias=True   \n",
       "2     enc_x  CharEncoder                                                 \n",
       "3     dec_x  CharDecoder                                                 \n",
       "4   enc_mof   MOFEncoder                                                 \n",
       "5   dec_mof   MOFDecoder                                                 \n",
       "6     dec_y  PropDecoder                                                 \n",
       "\n",
       "   submodule  trainable  n_params  trainable_params  \n",
       "0      False       True    131328            131328  \n",
       "1      False       True    131328            131328  \n",
       "2      False       True    390208            390208  \n",
       "3      False       True   1467016           1467016  \n",
       "4      False       True    407552            407552  \n",
       "5      False       True    277610            276789  \n",
       "6      False       True      5418              5397  "
      ]
     },
     "metadata": {},
     "output_type": "display_data"
    },
    {
     "name": "stdout",
     "output_type": "stream",
     "text": [
      "Trainable params: 2804434 out of 2805276 total (99.97%)\n"
     ]
    }
   ],
   "source": [
    "try:\n",
    "    utils.clear_torch(model)\n",
    "except:\n",
    "    utils.clear_torch(model=None)\n",
    "\n",
    "model = VAEMOF(hparams, vocab, vocab_mof, vocab_y).to(device)\n",
    "model.save()\n",
    "modules.model_summary(model, include_children=False)"
   ]
  },
  {
   "cell_type": "markdown",
   "metadata": {
    "ExecuteTime": {
     "end_time": "2020-02-16T03:37:06.457591Z",
     "start_time": "2020-02-16T03:37:06.438876Z"
    }
   },
   "source": [
    "## Prepare train/test "
   ]
  },
  {
   "cell_type": "code",
   "execution_count": 10,
   "metadata": {
    "ExecuteTime": {
     "end_time": "2020-02-21T16:51:50.230934Z",
     "start_time": "2020-02-21T16:49:29.941362Z"
    },
    "scrolled": true
   },
   "outputs": [
    {
     "data": {
      "application/vnd.jupyter.widget-view+json": {
       "model_id": "6a64467ccfb54cc0b6d161a44e37b993",
       "version_major": 2,
       "version_minor": 0
      },
      "text/plain": [
       "HBox(children=(FloatProgress(value=0.0, description='SMILES', max=19.0, style=ProgressStyle(description_width=…"
      ]
     },
     "metadata": {},
     "output_type": "display_data"
    },
    {
     "name": "stdout",
     "output_type": "stream",
     "text": [
      "\n"
     ]
    },
    {
     "data": {
      "application/vnd.jupyter.widget-view+json": {
       "model_id": "8d4759e5942f4dd782511ec94e76a645",
       "version_major": 2,
       "version_minor": 0
      },
      "text/plain": [
       "HBox(children=(FloatProgress(value=0.0, description='MOF', max=190.0, style=ProgressStyle(description_width='i…"
      ]
     },
     "metadata": {},
     "output_type": "display_data"
    },
    {
     "name": "stdout",
     "output_type": "stream",
     "text": [
      "\n"
     ]
    },
    {
     "data": {
      "application/vnd.jupyter.widget-view+json": {
       "model_id": "d4a9529ca26c4af8ba0636cd177eba0c",
       "version_major": 2,
       "version_minor": 0
      },
      "text/plain": [
       "HBox(children=(FloatProgress(value=0.0, description='MOF', max=16.0, style=ProgressStyle(description_width='in…"
      ]
     },
     "metadata": {},
     "output_type": "display_data"
    },
    {
     "name": "stdout",
     "output_type": "stream",
     "text": [
      "\n"
     ]
    }
   ],
   "source": [
    "train_mof = model.df_to_tuples(df.loc[train_index], smiles_column)\n",
    "test_mof = model.df_to_tuples(df.loc[test_index], smiles_column)\n",
    "prop_train = model.df_to_tuples(prop_df.loc[prop_train_index], smiles_column)\n",
    "prop_test = model.df_to_tuples(prop_df.loc[prop_test_index], smiles_column)\n",
    "train_data = train_mof + prop_train\n",
    "test_data = test_mof + prop_test"
   ]
  },
  {
   "cell_type": "markdown",
   "metadata": {},
   "source": [
    "## Train"
   ]
  },
  {
   "cell_type": "code",
   "execution_count": 11,
   "metadata": {
    "ExecuteTime": {
     "end_time": "2020-02-21T17:38:10.994027Z",
     "start_time": "2020-02-21T16:51:50.231856Z"
    },
    "scrolled": true
   },
   "outputs": [
    {
     "data": {
      "application/vnd.jupyter.widget-view+json": {
       "model_id": "ea7add7ebe8f49eca9eeb7cf2f2e1a10",
       "version_major": 2,
       "version_minor": 0
      },
      "text/plain": [
       "HBox(children=(FloatProgress(value=0.0, description='Epochs', max=60.0, style=ProgressStyle(description_width=…"
      ]
     },
     "metadata": {},
     "output_type": "display_data"
    },
    {
     "data": {
      "application/vnd.jupyter.widget-view+json": {
       "model_id": "",
       "version_major": 2,
       "version_minor": 0
      },
      "text/plain": [
       "HBox(children=(FloatProgress(value=0.0, description='Train', max=1257.0, style=ProgressStyle(description_width…"
      ]
     },
     "metadata": {},
     "output_type": "display_data"
    },
    {
     "data": {
      "application/vnd.jupyter.widget-view+json": {
       "model_id": "",
       "version_major": 2,
       "version_minor": 0
      },
      "text/plain": [
       "HBox(children=(FloatProgress(value=0.0, description='Test', max=104.0, style=ProgressStyle(description_width='…"
      ]
     },
     "metadata": {},
     "output_type": "display_data"
    },
    {
     "data": {
      "application/vnd.jupyter.widget-view+json": {
       "model_id": "",
       "version_major": 2,
       "version_minor": 0
      },
      "text/plain": [
       "HBox(children=(FloatProgress(value=0.0, description='Train', max=1257.0, style=ProgressStyle(description_width…"
      ]
     },
     "metadata": {},
     "output_type": "display_data"
    },
    {
     "data": {
      "application/vnd.jupyter.widget-view+json": {
       "model_id": "",
       "version_major": 2,
       "version_minor": 0
      },
      "text/plain": [
       "HBox(children=(FloatProgress(value=0.0, description='Test', max=104.0, style=ProgressStyle(description_width='…"
      ]
     },
     "metadata": {},
     "output_type": "display_data"
    },
    {
     "data": {
      "application/vnd.jupyter.widget-view+json": {
       "model_id": "26b473129ede4611bf59925fa3ad97d2",
       "version_major": 2,
       "version_minor": 0
      },
      "text/plain": [
       "HBox(children=(FloatProgress(value=0.0, description='Train', max=1257.0, style=ProgressStyle(description_width…"
      ]
     },
     "metadata": {},
     "output_type": "display_data"
    },
    {
     "ename": "KeyboardInterrupt",
     "evalue": "",
     "output_type": "error",
     "traceback": [
      "\u001b[0;31m---------------------------------------------------------------------------\u001b[0m",
      "\u001b[0;31mKeyboardInterrupt\u001b[0m                         Traceback (most recent call last)",
      "\u001b[0;32m<ipython-input-11-03ba4eb079c1>\u001b[0m in \u001b[0;36m<module>\u001b[0;34m\u001b[0m\n\u001b[1;32m      1\u001b[0m \u001b[0mtrainer\u001b[0m \u001b[0;34m=\u001b[0m \u001b[0mtraining\u001b[0m\u001b[0;34m.\u001b[0m\u001b[0mTrainer\u001b[0m\u001b[0;34m(\u001b[0m\u001b[0mhparams\u001b[0m\u001b[0;34m)\u001b[0m\u001b[0;34m\u001b[0m\u001b[0;34m\u001b[0m\u001b[0m\n\u001b[0;32m----> 2\u001b[0;31m \u001b[0mtrainer\u001b[0m\u001b[0;34m.\u001b[0m\u001b[0mtrain\u001b[0m\u001b[0;34m(\u001b[0m\u001b[0mmodel\u001b[0m\u001b[0;34m,\u001b[0m \u001b[0mtrain_data\u001b[0m\u001b[0;34m,\u001b[0m \u001b[0mtest_data\u001b[0m\u001b[0;34m)\u001b[0m\u001b[0;34m\u001b[0m\u001b[0;34m\u001b[0m\u001b[0m\n\u001b[0m",
      "\u001b[0;32m~/Desktop/MOF_VAE/vaemof/training.py\u001b[0m in \u001b[0;36mtrain\u001b[0;34m(self, model, train_data, test_data)\u001b[0m\n\u001b[1;32m    207\u001b[0m             \u001b[0mweights\u001b[0m \u001b[0;34m=\u001b[0m \u001b[0;34m{\u001b[0m\u001b[0mkey\u001b[0m\u001b[0;34m:\u001b[0m \u001b[0msch\u001b[0m\u001b[0;34m(\u001b[0m\u001b[0mepoch\u001b[0m\u001b[0;34m)\u001b[0m \u001b[0;32mfor\u001b[0m \u001b[0mkey\u001b[0m\u001b[0;34m,\u001b[0m \u001b[0msch\u001b[0m \u001b[0;32min\u001b[0m \u001b[0mself\u001b[0m\u001b[0;34m.\u001b[0m\u001b[0mschedulers\u001b[0m\u001b[0;34m.\u001b[0m\u001b[0mitems\u001b[0m\u001b[0;34m(\u001b[0m\u001b[0;34m)\u001b[0m\u001b[0;34m}\u001b[0m\u001b[0;34m\u001b[0m\u001b[0;34m\u001b[0m\u001b[0m\n\u001b[1;32m    208\u001b[0m             \u001b[0mself\u001b[0m\u001b[0;34m.\u001b[0m\u001b[0mstats\u001b[0m\u001b[0;34m.\u001b[0m\u001b[0mstart_epoch\u001b[0m\u001b[0;34m(\u001b[0m\u001b[0mepoch\u001b[0m\u001b[0;34m,\u001b[0m \u001b[0mlr\u001b[0m\u001b[0;34m,\u001b[0m \u001b[0mweights\u001b[0m\u001b[0;34m)\u001b[0m\u001b[0;34m\u001b[0m\u001b[0;34m\u001b[0m\u001b[0m\n\u001b[0;32m--> 209\u001b[0;31m             \u001b[0mself\u001b[0m\u001b[0;34m.\u001b[0m\u001b[0mtrain_step\u001b[0m\u001b[0;34m(\u001b[0m\u001b[0mmodel\u001b[0m\u001b[0;34m,\u001b[0m \u001b[0mtrain_loader\u001b[0m\u001b[0;34m,\u001b[0m \u001b[0moptimizer\u001b[0m\u001b[0;34m,\u001b[0m \u001b[0mweights\u001b[0m\u001b[0;34m)\u001b[0m\u001b[0;34m\u001b[0m\u001b[0;34m\u001b[0m\u001b[0m\n\u001b[0m\u001b[1;32m    210\u001b[0m             \u001b[0mself\u001b[0m\u001b[0;34m.\u001b[0m\u001b[0mtest_step\u001b[0m\u001b[0;34m(\u001b[0m\u001b[0mmodel\u001b[0m\u001b[0;34m,\u001b[0m \u001b[0mtest_loader\u001b[0m\u001b[0;34m,\u001b[0m \u001b[0mweights\u001b[0m\u001b[0;34m)\u001b[0m\u001b[0;34m\u001b[0m\u001b[0;34m\u001b[0m\u001b[0m\n\u001b[1;32m    211\u001b[0m             \u001b[0mpbar\u001b[0m\u001b[0;34m.\u001b[0m\u001b[0mset_postfix\u001b[0m\u001b[0;34m(\u001b[0m\u001b[0mself\u001b[0m\u001b[0;34m.\u001b[0m\u001b[0mstats\u001b[0m\u001b[0;34m.\u001b[0m\u001b[0mreport\u001b[0m\u001b[0;34m)\u001b[0m\u001b[0;34m\u001b[0m\u001b[0;34m\u001b[0m\u001b[0m\n",
      "\u001b[0;32m~/Desktop/MOF_VAE/vaemof/training.py\u001b[0m in \u001b[0;36mtrain_step\u001b[0;34m(self, model, data_loader, optimizer, weights)\u001b[0m\n\u001b[1;32m    218\u001b[0m         \u001b[0mpbar\u001b[0m \u001b[0;34m=\u001b[0m \u001b[0mtqdm\u001b[0m\u001b[0;34m(\u001b[0m\u001b[0mdata_loader\u001b[0m\u001b[0;34m,\u001b[0m \u001b[0mleave\u001b[0m\u001b[0;34m=\u001b[0m\u001b[0;32mFalse\u001b[0m\u001b[0;34m,\u001b[0m \u001b[0mdesc\u001b[0m\u001b[0;34m=\u001b[0m\u001b[0;34m'Train'\u001b[0m\u001b[0;34m)\u001b[0m\u001b[0;34m\u001b[0m\u001b[0;34m\u001b[0m\u001b[0m\n\u001b[1;32m    219\u001b[0m         \u001b[0;32mfor\u001b[0m \u001b[0mbatch\u001b[0m \u001b[0;32min\u001b[0m \u001b[0mpbar\u001b[0m\u001b[0;34m:\u001b[0m\u001b[0;34m\u001b[0m\u001b[0;34m\u001b[0m\u001b[0m\n\u001b[0;32m--> 220\u001b[0;31m             \u001b[0mlosses\u001b[0m\u001b[0;34m,\u001b[0m \u001b[0m_\u001b[0m \u001b[0;34m=\u001b[0m \u001b[0mmodel\u001b[0m\u001b[0;34m(\u001b[0m\u001b[0mbatch\u001b[0m\u001b[0;34m[\u001b[0m\u001b[0;34m'x'\u001b[0m\u001b[0;34m]\u001b[0m\u001b[0;34m,\u001b[0m \u001b[0mbatch\u001b[0m\u001b[0;34m[\u001b[0m\u001b[0;34m'mof'\u001b[0m\u001b[0;34m]\u001b[0m\u001b[0;34m,\u001b[0m \u001b[0mbatch\u001b[0m\u001b[0;34m[\u001b[0m\u001b[0;34m'y'\u001b[0m\u001b[0;34m]\u001b[0m\u001b[0;34m,\u001b[0m \u001b[0mbatch\u001b[0m\u001b[0;34m[\u001b[0m\u001b[0;34m'y_mask'\u001b[0m\u001b[0;34m]\u001b[0m\u001b[0;34m)\u001b[0m\u001b[0;34m\u001b[0m\u001b[0;34m\u001b[0m\u001b[0m\n\u001b[0m\u001b[1;32m    221\u001b[0m             \u001b[0mw_loss\u001b[0m \u001b[0;34m=\u001b[0m \u001b[0;34m{\u001b[0m\u001b[0mk\u001b[0m\u001b[0;34m:\u001b[0m \u001b[0mweights\u001b[0m\u001b[0;34m[\u001b[0m\u001b[0mk\u001b[0m\u001b[0;34m]\u001b[0m \u001b[0;34m*\u001b[0m \u001b[0mlosses\u001b[0m\u001b[0;34m[\u001b[0m\u001b[0mk\u001b[0m\u001b[0;34m]\u001b[0m \u001b[0;32mfor\u001b[0m \u001b[0mk\u001b[0m \u001b[0;32min\u001b[0m \u001b[0mCOMPONENTS\u001b[0m\u001b[0;34m}\u001b[0m\u001b[0;34m\u001b[0m\u001b[0;34m\u001b[0m\u001b[0m\n\u001b[1;32m    222\u001b[0m             \u001b[0mloss\u001b[0m \u001b[0;34m=\u001b[0m \u001b[0mw_loss\u001b[0m\u001b[0;34m[\u001b[0m\u001b[0;34m'x'\u001b[0m\u001b[0;34m]\u001b[0m \u001b[0;34m+\u001b[0m \u001b[0mw_loss\u001b[0m\u001b[0;34m[\u001b[0m\u001b[0;34m'kl'\u001b[0m\u001b[0;34m]\u001b[0m \u001b[0;34m+\u001b[0m \u001b[0mw_loss\u001b[0m\u001b[0;34m[\u001b[0m\u001b[0;34m'mof'\u001b[0m\u001b[0;34m]\u001b[0m \u001b[0;34m+\u001b[0m \u001b[0mw_loss\u001b[0m\u001b[0;34m[\u001b[0m\u001b[0;34m'y'\u001b[0m\u001b[0;34m]\u001b[0m\u001b[0;34m\u001b[0m\u001b[0;34m\u001b[0m\u001b[0m\n",
      "\u001b[0;32m~/anaconda3/lib/python3.7/site-packages/torch/nn/modules/module.py\u001b[0m in \u001b[0;36m__call__\u001b[0;34m(self, *input, **kwargs)\u001b[0m\n\u001b[1;32m    530\u001b[0m             \u001b[0mresult\u001b[0m \u001b[0;34m=\u001b[0m \u001b[0mself\u001b[0m\u001b[0;34m.\u001b[0m\u001b[0m_slow_forward\u001b[0m\u001b[0;34m(\u001b[0m\u001b[0;34m*\u001b[0m\u001b[0minput\u001b[0m\u001b[0;34m,\u001b[0m \u001b[0;34m**\u001b[0m\u001b[0mkwargs\u001b[0m\u001b[0;34m)\u001b[0m\u001b[0;34m\u001b[0m\u001b[0;34m\u001b[0m\u001b[0m\n\u001b[1;32m    531\u001b[0m         \u001b[0;32melse\u001b[0m\u001b[0;34m:\u001b[0m\u001b[0;34m\u001b[0m\u001b[0;34m\u001b[0m\u001b[0m\n\u001b[0;32m--> 532\u001b[0;31m             \u001b[0mresult\u001b[0m \u001b[0;34m=\u001b[0m \u001b[0mself\u001b[0m\u001b[0;34m.\u001b[0m\u001b[0mforward\u001b[0m\u001b[0;34m(\u001b[0m\u001b[0;34m*\u001b[0m\u001b[0minput\u001b[0m\u001b[0;34m,\u001b[0m \u001b[0;34m**\u001b[0m\u001b[0mkwargs\u001b[0m\u001b[0;34m)\u001b[0m\u001b[0;34m\u001b[0m\u001b[0;34m\u001b[0m\u001b[0m\n\u001b[0m\u001b[1;32m    533\u001b[0m         \u001b[0;32mfor\u001b[0m \u001b[0mhook\u001b[0m \u001b[0;32min\u001b[0m \u001b[0mself\u001b[0m\u001b[0;34m.\u001b[0m\u001b[0m_forward_hooks\u001b[0m\u001b[0;34m.\u001b[0m\u001b[0mvalues\u001b[0m\u001b[0;34m(\u001b[0m\u001b[0;34m)\u001b[0m\u001b[0;34m:\u001b[0m\u001b[0;34m\u001b[0m\u001b[0;34m\u001b[0m\u001b[0m\n\u001b[1;32m    534\u001b[0m             \u001b[0mhook_result\u001b[0m \u001b[0;34m=\u001b[0m \u001b[0mhook\u001b[0m\u001b[0;34m(\u001b[0m\u001b[0mself\u001b[0m\u001b[0;34m,\u001b[0m \u001b[0minput\u001b[0m\u001b[0;34m,\u001b[0m \u001b[0mresult\u001b[0m\u001b[0;34m)\u001b[0m\u001b[0;34m\u001b[0m\u001b[0;34m\u001b[0m\u001b[0m\n",
      "\u001b[0;32m~/Desktop/MOF_VAE/vaemof/model.py\u001b[0m in \u001b[0;36mforward\u001b[0;34m(self, x, mof, y, y_mask)\u001b[0m\n\u001b[1;32m    353\u001b[0m         \u001b[0mouts\u001b[0m \u001b[0;34m=\u001b[0m \u001b[0;34m{\u001b[0m\u001b[0;34m'x'\u001b[0m\u001b[0;34m:\u001b[0m \u001b[0;32mNone\u001b[0m\u001b[0;34m,\u001b[0m \u001b[0;34m'mof'\u001b[0m\u001b[0;34m:\u001b[0m \u001b[0;32mNone\u001b[0m\u001b[0;34m,\u001b[0m \u001b[0;34m'y'\u001b[0m\u001b[0;34m:\u001b[0m \u001b[0;32mNone\u001b[0m\u001b[0;34m}\u001b[0m\u001b[0;34m\u001b[0m\u001b[0;34m\u001b[0m\u001b[0m\n\u001b[1;32m    354\u001b[0m         \u001b[0mlosses\u001b[0m \u001b[0;34m=\u001b[0m \u001b[0;34m{\u001b[0m\u001b[0;34m'kl'\u001b[0m\u001b[0;34m:\u001b[0m \u001b[0;36m0.0\u001b[0m\u001b[0;34m,\u001b[0m \u001b[0;34m'x'\u001b[0m\u001b[0;34m:\u001b[0m \u001b[0;36m0.0\u001b[0m\u001b[0;34m,\u001b[0m \u001b[0;34m'mof'\u001b[0m\u001b[0;34m:\u001b[0m \u001b[0;36m0.0\u001b[0m\u001b[0;34m,\u001b[0m \u001b[0;34m'y'\u001b[0m\u001b[0;34m:\u001b[0m \u001b[0;36m0.0\u001b[0m\u001b[0;34m}\u001b[0m\u001b[0;34m\u001b[0m\u001b[0;34m\u001b[0m\u001b[0m\n\u001b[0;32m--> 355\u001b[0;31m         \u001b[0mh_x\u001b[0m \u001b[0;34m=\u001b[0m \u001b[0mself\u001b[0m\u001b[0;34m.\u001b[0m\u001b[0menc_x\u001b[0m\u001b[0;34m(\u001b[0m\u001b[0mx\u001b[0m\u001b[0;34m)\u001b[0m\u001b[0;34m\u001b[0m\u001b[0;34m\u001b[0m\u001b[0m\n\u001b[0m\u001b[1;32m    356\u001b[0m         \u001b[0mh_mof\u001b[0m \u001b[0;34m=\u001b[0m \u001b[0mself\u001b[0m\u001b[0;34m.\u001b[0m\u001b[0menc_mof\u001b[0m\u001b[0;34m(\u001b[0m\u001b[0mmof\u001b[0m\u001b[0;34m)\u001b[0m \u001b[0;32mif\u001b[0m \u001b[0mself\u001b[0m\u001b[0;34m.\u001b[0m\u001b[0muse_mof_encoder\u001b[0m \u001b[0;32melse\u001b[0m \u001b[0;36m0.0\u001b[0m\u001b[0;34m\u001b[0m\u001b[0;34m\u001b[0m\u001b[0m\n\u001b[1;32m    357\u001b[0m         \u001b[0mh\u001b[0m \u001b[0;34m=\u001b[0m \u001b[0mh_x\u001b[0m \u001b[0;34m+\u001b[0m \u001b[0mh_mof\u001b[0m\u001b[0;34m\u001b[0m\u001b[0;34m\u001b[0m\u001b[0m\n",
      "\u001b[0;32m~/anaconda3/lib/python3.7/site-packages/torch/nn/modules/module.py\u001b[0m in \u001b[0;36m__call__\u001b[0;34m(self, *input, **kwargs)\u001b[0m\n\u001b[1;32m    530\u001b[0m             \u001b[0mresult\u001b[0m \u001b[0;34m=\u001b[0m \u001b[0mself\u001b[0m\u001b[0;34m.\u001b[0m\u001b[0m_slow_forward\u001b[0m\u001b[0;34m(\u001b[0m\u001b[0;34m*\u001b[0m\u001b[0minput\u001b[0m\u001b[0;34m,\u001b[0m \u001b[0;34m**\u001b[0m\u001b[0mkwargs\u001b[0m\u001b[0;34m)\u001b[0m\u001b[0;34m\u001b[0m\u001b[0;34m\u001b[0m\u001b[0m\n\u001b[1;32m    531\u001b[0m         \u001b[0;32melse\u001b[0m\u001b[0;34m:\u001b[0m\u001b[0;34m\u001b[0m\u001b[0;34m\u001b[0m\u001b[0m\n\u001b[0;32m--> 532\u001b[0;31m             \u001b[0mresult\u001b[0m \u001b[0;34m=\u001b[0m \u001b[0mself\u001b[0m\u001b[0;34m.\u001b[0m\u001b[0mforward\u001b[0m\u001b[0;34m(\u001b[0m\u001b[0;34m*\u001b[0m\u001b[0minput\u001b[0m\u001b[0;34m,\u001b[0m \u001b[0;34m**\u001b[0m\u001b[0mkwargs\u001b[0m\u001b[0;34m)\u001b[0m\u001b[0;34m\u001b[0m\u001b[0;34m\u001b[0m\u001b[0m\n\u001b[0m\u001b[1;32m    533\u001b[0m         \u001b[0;32mfor\u001b[0m \u001b[0mhook\u001b[0m \u001b[0;32min\u001b[0m \u001b[0mself\u001b[0m\u001b[0;34m.\u001b[0m\u001b[0m_forward_hooks\u001b[0m\u001b[0;34m.\u001b[0m\u001b[0mvalues\u001b[0m\u001b[0;34m(\u001b[0m\u001b[0;34m)\u001b[0m\u001b[0;34m:\u001b[0m\u001b[0;34m\u001b[0m\u001b[0;34m\u001b[0m\u001b[0m\n\u001b[1;32m    534\u001b[0m             \u001b[0mhook_result\u001b[0m \u001b[0;34m=\u001b[0m \u001b[0mhook\u001b[0m\u001b[0;34m(\u001b[0m\u001b[0mself\u001b[0m\u001b[0;34m,\u001b[0m \u001b[0minput\u001b[0m\u001b[0;34m,\u001b[0m \u001b[0mresult\u001b[0m\u001b[0;34m)\u001b[0m\u001b[0;34m\u001b[0m\u001b[0;34m\u001b[0m\u001b[0m\n",
      "\u001b[0;32m~/Desktop/MOF_VAE/vaemof/model.py\u001b[0m in \u001b[0;36mforward\u001b[0;34m(self, x)\u001b[0m\n\u001b[1;32m    133\u001b[0m     \u001b[0;32mdef\u001b[0m \u001b[0mforward\u001b[0m\u001b[0;34m(\u001b[0m\u001b[0mself\u001b[0m\u001b[0;34m,\u001b[0m \u001b[0mx\u001b[0m\u001b[0;34m:\u001b[0m \u001b[0mtensor\u001b[0m\u001b[0;34m)\u001b[0m \u001b[0;34m->\u001b[0m \u001b[0mtensor\u001b[0m\u001b[0;34m:\u001b[0m\u001b[0;34m\u001b[0m\u001b[0;34m\u001b[0m\u001b[0m\n\u001b[1;32m    134\u001b[0m         \u001b[0mx_emb\u001b[0m \u001b[0;34m=\u001b[0m \u001b[0;34m[\u001b[0m\u001b[0mself\u001b[0m\u001b[0;34m.\u001b[0m\u001b[0memb\u001b[0m\u001b[0;34m(\u001b[0m\u001b[0mi_x\u001b[0m\u001b[0;34m)\u001b[0m \u001b[0;32mfor\u001b[0m \u001b[0mi_x\u001b[0m \u001b[0;32min\u001b[0m \u001b[0mx\u001b[0m\u001b[0;34m]\u001b[0m\u001b[0;34m\u001b[0m\u001b[0;34m\u001b[0m\u001b[0m\n\u001b[0;32m--> 135\u001b[0;31m         \u001b[0mx_pack\u001b[0m \u001b[0;34m=\u001b[0m \u001b[0mnn\u001b[0m\u001b[0;34m.\u001b[0m\u001b[0mutils\u001b[0m\u001b[0;34m.\u001b[0m\u001b[0mrnn\u001b[0m\u001b[0;34m.\u001b[0m\u001b[0mpack_sequence\u001b[0m\u001b[0;34m(\u001b[0m\u001b[0mx_emb\u001b[0m\u001b[0;34m)\u001b[0m\u001b[0;34m\u001b[0m\u001b[0;34m\u001b[0m\u001b[0m\n\u001b[0m\u001b[1;32m    136\u001b[0m         \u001b[0m_\u001b[0m\u001b[0;34m,\u001b[0m \u001b[0mh\u001b[0m \u001b[0;34m=\u001b[0m \u001b[0mself\u001b[0m\u001b[0;34m.\u001b[0m\u001b[0mrnn\u001b[0m\u001b[0;34m(\u001b[0m\u001b[0mx_pack\u001b[0m\u001b[0;34m)\u001b[0m\u001b[0;34m\u001b[0m\u001b[0;34m\u001b[0m\u001b[0m\n\u001b[1;32m    137\u001b[0m         \u001b[0;31m# [n_layers, batch_size, hidden_dim]\u001b[0m\u001b[0;34m\u001b[0m\u001b[0;34m\u001b[0m\u001b[0;34m\u001b[0m\u001b[0m\n",
      "\u001b[0;32m~/anaconda3/lib/python3.7/site-packages/torch/nn/utils/rnn.py\u001b[0m in \u001b[0;36mpack_sequence\u001b[0;34m(sequences, enforce_sorted)\u001b[0m\n\u001b[1;32m    377\u001b[0m     \"\"\"\n\u001b[1;32m    378\u001b[0m     \u001b[0mlengths\u001b[0m \u001b[0;34m=\u001b[0m \u001b[0;34m[\u001b[0m\u001b[0mv\u001b[0m\u001b[0;34m.\u001b[0m\u001b[0msize\u001b[0m\u001b[0;34m(\u001b[0m\u001b[0;36m0\u001b[0m\u001b[0;34m)\u001b[0m \u001b[0;32mfor\u001b[0m \u001b[0mv\u001b[0m \u001b[0;32min\u001b[0m \u001b[0msequences\u001b[0m\u001b[0;34m]\u001b[0m\u001b[0;34m\u001b[0m\u001b[0;34m\u001b[0m\u001b[0m\n\u001b[0;32m--> 379\u001b[0;31m     \u001b[0;32mreturn\u001b[0m \u001b[0mpack_padded_sequence\u001b[0m\u001b[0;34m(\u001b[0m\u001b[0mpad_sequence\u001b[0m\u001b[0;34m(\u001b[0m\u001b[0msequences\u001b[0m\u001b[0;34m)\u001b[0m\u001b[0;34m,\u001b[0m \u001b[0mlengths\u001b[0m\u001b[0;34m,\u001b[0m \u001b[0menforce_sorted\u001b[0m\u001b[0;34m=\u001b[0m\u001b[0menforce_sorted\u001b[0m\u001b[0;34m)\u001b[0m\u001b[0;34m\u001b[0m\u001b[0;34m\u001b[0m\u001b[0m\n\u001b[0m",
      "\u001b[0;32m~/anaconda3/lib/python3.7/site-packages/torch/nn/utils/rnn.py\u001b[0m in \u001b[0;36mpad_sequence\u001b[0;34m(sequences, batch_first, padding_value)\u001b[0m\n\u001b[1;32m    340\u001b[0m             \u001b[0mout_tensor\u001b[0m\u001b[0;34m[\u001b[0m\u001b[0mi\u001b[0m\u001b[0;34m,\u001b[0m \u001b[0;34m:\u001b[0m\u001b[0mlength\u001b[0m\u001b[0;34m,\u001b[0m \u001b[0;34m...\u001b[0m\u001b[0;34m]\u001b[0m \u001b[0;34m=\u001b[0m \u001b[0mtensor\u001b[0m\u001b[0;34m\u001b[0m\u001b[0;34m\u001b[0m\u001b[0m\n\u001b[1;32m    341\u001b[0m         \u001b[0;32melse\u001b[0m\u001b[0;34m:\u001b[0m\u001b[0;34m\u001b[0m\u001b[0;34m\u001b[0m\u001b[0m\n\u001b[0;32m--> 342\u001b[0;31m             \u001b[0mout_tensor\u001b[0m\u001b[0;34m[\u001b[0m\u001b[0;34m:\u001b[0m\u001b[0mlength\u001b[0m\u001b[0;34m,\u001b[0m \u001b[0mi\u001b[0m\u001b[0;34m,\u001b[0m \u001b[0;34m...\u001b[0m\u001b[0;34m]\u001b[0m \u001b[0;34m=\u001b[0m \u001b[0mtensor\u001b[0m\u001b[0;34m\u001b[0m\u001b[0;34m\u001b[0m\u001b[0m\n\u001b[0m\u001b[1;32m    343\u001b[0m \u001b[0;34m\u001b[0m\u001b[0m\n\u001b[1;32m    344\u001b[0m     \u001b[0;32mreturn\u001b[0m \u001b[0mout_tensor\u001b[0m\u001b[0;34m\u001b[0m\u001b[0;34m\u001b[0m\u001b[0m\n",
      "\u001b[0;31mKeyboardInterrupt\u001b[0m: "
     ]
    }
   ],
   "source": [
    "trainer = training.Trainer(hparams)\n",
    "trainer.train(model, train_data, test_data)"
   ]
  },
  {
   "cell_type": "markdown",
   "metadata": {},
   "source": [
    "# Results\n",
    "## Load saved model"
   ]
  },
  {
   "cell_type": "code",
   "execution_count": 12,
   "metadata": {
    "ExecuteTime": {
     "end_time": "2020-02-21T17:38:14.367914Z",
     "start_time": "2020-02-21T17:38:14.333358Z"
    }
   },
   "outputs": [],
   "source": [
    "hparams_file = os.path.join(WORK_DIR,'config.json')\n",
    "hparams = configs.AttributeDict.from_jsonfile(hparams_file)\n",
    "model = VAEMOF.load(hparams)"
   ]
  },
  {
   "cell_type": "markdown",
   "metadata": {},
   "source": [
    "## Training stats"
   ]
  },
  {
   "cell_type": "code",
   "execution_count": 13,
   "metadata": {
    "ExecuteTime": {
     "end_time": "2020-02-21T17:38:15.977007Z",
     "start_time": "2020-02-21T17:38:15.950159Z"
    }
   },
   "outputs": [
    {
     "name": "stdout",
     "output_type": "stream",
     "text": [
      "(2, 69)\n",
      "Index(['epoch', 'test_kl', 'test_x', 'test_mof', 'test_y', 'test_loss',\n",
      "       'lcd-r2', 'lcd-MAE', 'pld-r2', 'pld-MAE', 'density-r2', 'density-MAE',\n",
      "       'avf-r2', 'avf-MAE', 'avsa-r2', 'avsa-MAE', 'agsa-r2', 'agsa-MAE',\n",
      "       'co2n2_co2_mol_kg-r2', 'co2n2_co2_mol_kg-MAE', 'co2n2_n2_mol_kg-r2',\n",
      "       'co2n2_n2_mol_kg-MAE', 'co2n2_selectivity-r2', 'co2n2_selectivity-MAE',\n",
      "       'co2n2_heat_avg-r2', 'co2n2_heat_avg-MAE', 'co2n2_heat_co2-r2',\n",
      "       'co2n2_heat_co2-MAE', 'co2n2_heat_n2-r2', 'co2n2_heat_n2-MAE',\n",
      "       'co2n2_heat_molfrac-r2', 'co2n2_heat_molfrac-MAE',\n",
      "       'co2ch4_co2_mol_kg-r2', 'co2ch4_co2_mol_kg-MAE', 'co2ch4_ch4_mol_kg-r2',\n",
      "       'co2ch4_ch4_mol_kg-MAE', 'co2ch4_selectivity-r2',\n",
      "       'co2ch4_selectivity-MAE', 'co2ch4_heat_avg-r2', 'co2ch4_heat_avg-MAE',\n",
      "       'co2ch4_heat_co2-r2', 'co2ch4_heat_co2-MAE', 'co2ch4_heat_ch4-r2',\n",
      "       'co2ch4_heat_ch4-MAE', 'co2ch4_heat_molfrac-r2',\n",
      "       'co2ch4_heat_molfrac-MAE', 'scscore-r2', 'scscore-MAE', 'lr', 'λ_x',\n",
      "       'λ_kl', 'λ_y', 'λ_mof', 'train_kl', 'train_x', 'train_mof', 'train_y',\n",
      "       'train_loss', 'valid_smiles', 'mof_acc', 'mean_r2', 'train_kl_ratio',\n",
      "       'train_x_ratio', 'train_mof_ratio', 'train_y_ratio', 'test_kl_ratio',\n",
      "       'test_x_ratio', 'test_mof_ratio', 'test_y_ratio'],\n",
      "      dtype='object')\n"
     ]
    },
    {
     "data": {
      "text/html": [
       "<div>\n",
       "<style scoped>\n",
       "    .dataframe tbody tr th:only-of-type {\n",
       "        vertical-align: middle;\n",
       "    }\n",
       "\n",
       "    .dataframe tbody tr th {\n",
       "        vertical-align: top;\n",
       "    }\n",
       "\n",
       "    .dataframe thead th {\n",
       "        text-align: right;\n",
       "    }\n",
       "</style>\n",
       "<table border=\"1\" class=\"dataframe\">\n",
       "  <thead>\n",
       "    <tr style=\"text-align: right;\">\n",
       "      <th></th>\n",
       "      <th>epoch</th>\n",
       "      <th>test_kl</th>\n",
       "      <th>test_x</th>\n",
       "      <th>test_mof</th>\n",
       "      <th>test_y</th>\n",
       "      <th>test_loss</th>\n",
       "      <th>lcd-r2</th>\n",
       "      <th>lcd-MAE</th>\n",
       "      <th>pld-r2</th>\n",
       "      <th>pld-MAE</th>\n",
       "      <th>...</th>\n",
       "      <th>mof_acc</th>\n",
       "      <th>mean_r2</th>\n",
       "      <th>train_kl_ratio</th>\n",
       "      <th>train_x_ratio</th>\n",
       "      <th>train_mof_ratio</th>\n",
       "      <th>train_y_ratio</th>\n",
       "      <th>test_kl_ratio</th>\n",
       "      <th>test_x_ratio</th>\n",
       "      <th>test_mof_ratio</th>\n",
       "      <th>test_y_ratio</th>\n",
       "    </tr>\n",
       "  </thead>\n",
       "  <tbody>\n",
       "    <tr>\n",
       "      <th>0</th>\n",
       "      <td>0</td>\n",
       "      <td>638.837296</td>\n",
       "      <td>0.156961</td>\n",
       "      <td>17.046610</td>\n",
       "      <td>1.336139</td>\n",
       "      <td>0.163349</td>\n",
       "      <td>0.984447</td>\n",
       "      <td>37.708206</td>\n",
       "      <td>0.896172</td>\n",
       "      <td>84.061859</td>\n",
       "      <td>...</td>\n",
       "      <td>1.829935</td>\n",
       "      <td>-0.58679</td>\n",
       "      <td>0.007831</td>\n",
       "      <td>0.992169</td>\n",
       "      <td>0.0</td>\n",
       "      <td>0.0</td>\n",
       "      <td>0.039109</td>\n",
       "      <td>0.960891</td>\n",
       "      <td>0.0</td>\n",
       "      <td>0.0</td>\n",
       "    </tr>\n",
       "    <tr>\n",
       "      <th>1</th>\n",
       "      <td>1</td>\n",
       "      <td>0.019604</td>\n",
       "      <td>0.811861</td>\n",
       "      <td>17.085749</td>\n",
       "      <td>1.243324</td>\n",
       "      <td>0.812868</td>\n",
       "      <td>0.857675</td>\n",
       "      <td>126.459877</td>\n",
       "      <td>0.921479</td>\n",
       "      <td>84.916573</td>\n",
       "      <td>...</td>\n",
       "      <td>1.730629</td>\n",
       "      <td>0.17539</td>\n",
       "      <td>0.999982</td>\n",
       "      <td>0.000018</td>\n",
       "      <td>0.0</td>\n",
       "      <td>0.0</td>\n",
       "      <td>0.001238</td>\n",
       "      <td>0.998762</td>\n",
       "      <td>0.0</td>\n",
       "      <td>0.0</td>\n",
       "    </tr>\n",
       "  </tbody>\n",
       "</table>\n",
       "<p>2 rows × 69 columns</p>\n",
       "</div>"
      ],
      "text/plain": [
       "   epoch     test_kl    test_x   test_mof    test_y  test_loss    lcd-r2  \\\n",
       "0      0  638.837296  0.156961  17.046610  1.336139   0.163349  0.984447   \n",
       "1      1    0.019604  0.811861  17.085749  1.243324   0.812868  0.857675   \n",
       "\n",
       "      lcd-MAE    pld-r2    pld-MAE  ...   mof_acc  mean_r2  train_kl_ratio  \\\n",
       "0   37.708206  0.896172  84.061859  ...  1.829935 -0.58679        0.007831   \n",
       "1  126.459877  0.921479  84.916573  ...  1.730629  0.17539        0.999982   \n",
       "\n",
       "   train_x_ratio  train_mof_ratio  train_y_ratio  test_kl_ratio  test_x_ratio  \\\n",
       "0       0.992169              0.0            0.0       0.039109      0.960891   \n",
       "1       0.000018              0.0            0.0       0.001238      0.998762   \n",
       "\n",
       "   test_mof_ratio  test_y_ratio  \n",
       "0             0.0           0.0  \n",
       "1             0.0           0.0  \n",
       "\n",
       "[2 rows x 69 columns]"
      ]
     },
     "execution_count": 13,
     "metadata": {},
     "output_type": "execute_result"
    }
   ],
   "source": [
    "log_df = pd.read_csv(configs.at_results_dir(hparams,'files_log'))\n",
    "print(log_df.shape)\n",
    "print(log_df.columns)\n",
    "log_df.head()"
   ]
  },
  {
   "cell_type": "code",
   "execution_count": 14,
   "metadata": {
    "ExecuteTime": {
     "end_time": "2020-02-21T17:38:22.762590Z",
     "start_time": "2020-02-21T17:38:20.830618Z"
    },
    "scrolled": true
   },
   "outputs": [
    {
     "data": {
      "text/html": [
       "<div>\n",
       "<style scoped>\n",
       "    .dataframe tbody tr th:only-of-type {\n",
       "        vertical-align: middle;\n",
       "    }\n",
       "\n",
       "    .dataframe tbody tr th {\n",
       "        vertical-align: top;\n",
       "    }\n",
       "\n",
       "    .dataframe thead th {\n",
       "        text-align: right;\n",
       "    }\n",
       "</style>\n",
       "<table border=\"1\" class=\"dataframe\">\n",
       "  <thead>\n",
       "    <tr style=\"text-align: right;\">\n",
       "      <th></th>\n",
       "      <th>epoch</th>\n",
       "      <th>test_kl</th>\n",
       "      <th>test_x</th>\n",
       "      <th>test_mof</th>\n",
       "      <th>test_y</th>\n",
       "      <th>test_loss</th>\n",
       "      <th>lcd-r2</th>\n",
       "      <th>lcd-MAE</th>\n",
       "      <th>pld-r2</th>\n",
       "      <th>pld-MAE</th>\n",
       "      <th>...</th>\n",
       "      <th>mof_acc</th>\n",
       "      <th>mean_r2</th>\n",
       "      <th>train_kl_ratio</th>\n",
       "      <th>train_x_ratio</th>\n",
       "      <th>train_mof_ratio</th>\n",
       "      <th>train_y_ratio</th>\n",
       "      <th>test_kl_ratio</th>\n",
       "      <th>test_x_ratio</th>\n",
       "      <th>test_mof_ratio</th>\n",
       "      <th>test_y_ratio</th>\n",
       "    </tr>\n",
       "  </thead>\n",
       "  <tbody>\n",
       "    <tr>\n",
       "      <th>0</th>\n",
       "      <td>0</td>\n",
       "      <td>638.837296</td>\n",
       "      <td>0.156961</td>\n",
       "      <td>17.046610</td>\n",
       "      <td>1.336139</td>\n",
       "      <td>0.163349</td>\n",
       "      <td>0.984447</td>\n",
       "      <td>37.708206</td>\n",
       "      <td>0.896172</td>\n",
       "      <td>84.061859</td>\n",
       "      <td>...</td>\n",
       "      <td>1.829935</td>\n",
       "      <td>-0.58679</td>\n",
       "      <td>0.007831</td>\n",
       "      <td>0.992169</td>\n",
       "      <td>0.0</td>\n",
       "      <td>0.0</td>\n",
       "      <td>0.039109</td>\n",
       "      <td>0.960891</td>\n",
       "      <td>0.0</td>\n",
       "      <td>0.0</td>\n",
       "    </tr>\n",
       "    <tr>\n",
       "      <th>1</th>\n",
       "      <td>1</td>\n",
       "      <td>0.019604</td>\n",
       "      <td>0.811861</td>\n",
       "      <td>17.085749</td>\n",
       "      <td>1.243324</td>\n",
       "      <td>0.812868</td>\n",
       "      <td>0.857675</td>\n",
       "      <td>126.459877</td>\n",
       "      <td>0.921479</td>\n",
       "      <td>84.916573</td>\n",
       "      <td>...</td>\n",
       "      <td>1.730629</td>\n",
       "      <td>0.17539</td>\n",
       "      <td>0.999982</td>\n",
       "      <td>0.000018</td>\n",
       "      <td>0.0</td>\n",
       "      <td>0.0</td>\n",
       "      <td>0.001238</td>\n",
       "      <td>0.998762</td>\n",
       "      <td>0.0</td>\n",
       "      <td>0.0</td>\n",
       "    </tr>\n",
       "  </tbody>\n",
       "</table>\n",
       "<p>2 rows × 69 columns</p>\n",
       "</div>"
      ],
      "text/plain": [
       "   epoch     test_kl    test_x   test_mof    test_y  test_loss    lcd-r2  \\\n",
       "0      0  638.837296  0.156961  17.046610  1.336139   0.163349  0.984447   \n",
       "1      1    0.019604  0.811861  17.085749  1.243324   0.812868  0.857675   \n",
       "\n",
       "      lcd-MAE    pld-r2    pld-MAE  ...   mof_acc  mean_r2  train_kl_ratio  \\\n",
       "0   37.708206  0.896172  84.061859  ...  1.829935 -0.58679        0.007831   \n",
       "1  126.459877  0.921479  84.916573  ...  1.730629  0.17539        0.999982   \n",
       "\n",
       "   train_x_ratio  train_mof_ratio  train_y_ratio  test_kl_ratio  test_x_ratio  \\\n",
       "0       0.992169              0.0            0.0       0.039109      0.960891   \n",
       "1       0.000018              0.0            0.0       0.001238      0.998762   \n",
       "\n",
       "   test_mof_ratio  test_y_ratio  \n",
       "0             0.0           0.0  \n",
       "1             0.0           0.0  \n",
       "\n",
       "[2 rows x 69 columns]"
      ]
     },
     "metadata": {},
     "output_type": "display_data"
    },
    {
     "data": {
      "image/png": "[encoded data removed]",
      "text/plain": [
       "<Figure size 864x432 with 1 Axes>"
      ]
     },
     "metadata": {
      "needs_background": "light"
     },
     "output_type": "display_data"
    },
    {
     "data": {
      "image/png": "[encoded data removed]",
      "text/plain": [
       "<Figure size 864x432 with 1 Axes>"
      ]
     },
     "metadata": {
      "needs_background": "light"
     },
     "output_type": "display_data"
    },
    {
     "data": {
      "image/png": "[encoded data removed]",
      "text/plain": [
       "<Figure size 864x432 with 1 Axes>"
      ]
     },
     "metadata": {
      "needs_background": "light"
     },
     "output_type": "display_data"
    },
    {
     "data": {
      "image/png": "[encoded data removed]",
      "text/plain": [
       "<Figure size 864x432 with 1 Axes>"
      ]
     },
     "metadata": {
      "needs_background": "light"
     },
     "output_type": "display_data"
    },
    {
     "data": {
      "image/png": "[encoded data removed]",
      "text/plain": [
       "<Figure size 864x432 with 1 Axes>"
      ]
     },
     "metadata": {
      "needs_background": "light"
     },
     "output_type": "display_data"
    },
    {
     "data": {
      "image/png": "[encoded data removed]",
      "text/plain": [
       "<Figure size 864x432 with 1 Axes>"
      ]
     },
     "metadata": {
      "needs_background": "light"
     },
     "output_type": "display_data"
    },
    {
     "data": {
      "image/png": "[encoded data removed]",
      "text/plain": [
       "<Figure size 864x432 with 1 Axes>"
      ]
     },
     "metadata": {
      "needs_background": "light"
     },
     "output_type": "display_data"
    },
    {
     "data": {
      "image/png": "[encoded data removed]",
      "text/plain": [
       "<Figure size 864x432 with 1 Axes>"
      ]
     },
     "metadata": {
      "needs_background": "light"
     },
     "output_type": "display_data"
    },
    {
     "data": {
      "image/png": "[encoded data removed]",
      "text/plain": [
       "<Figure size 864x432 with 1 Axes>"
      ]
     },
     "metadata": {
      "needs_background": "light"
     },
     "output_type": "display_data"
    },
    {
     "data": {
      "image/png": "[encoded data removed]",
      "text/plain": [
       "<Figure size 864x432 with 1 Axes>"
      ]
     },
     "metadata": {
      "needs_background": "light"
     },
     "output_type": "display_data"
    },
    {
     "data": {
      "image/png": "[encoded data removed]",
      "text/plain": [
       "<Figure size 864x432 with 1 Axes>"
      ]
     },
     "metadata": {
      "needs_background": "light"
     },
     "output_type": "display_data"
    },
    {
     "data": {
      "image/png": "[encoded data removed]",
      "text/plain": [
       "<Figure size 864x432 with 1 Axes>"
      ]
     },
     "metadata": {
      "needs_background": "light"
     },
     "output_type": "display_data"
    }
   ],
   "source": [
    "COMPONENTS = training.COMPONENTS\n",
    "epochs = log_df['epoch'].values\n",
    "\n",
    "display(log_df.head(2))\n",
    "plt.plot(epochs, log_df['lr'])\n",
    "plt.title('Learning Rate')\n",
    "plt.show()\n",
    "\n",
    "plt.plot(epochs, log_df['valid_smiles'])\n",
    "plt.title('Valid smiles on validation set')\n",
    "plt.ylim([0,1])\n",
    "plt.show()\n",
    "\n",
    "plt.plot(epochs, log_df['mof_acc'])\n",
    "plt.title('Valid MOFs on validation set')\n",
    "plt.ylim([0,100])\n",
    "plt.show()\n",
    "\n",
    "plt.plot(epochs, log_df['mean_r2'],c='g',label='valid')\n",
    "plt.ylabel('mean r^2')\n",
    "plt.show()\n",
    "\n",
    "results=[]\n",
    "for label in hparams['y_labels']:\n",
    "    metric = f'{label}-r2'\n",
    "    results.extend([{'epoch':epoch,'r2':value,\"prop\":label} for epoch, value in log_df[['epoch',metric]].values ]  )\n",
    "prop_df = pd.DataFrame(results)\n",
    "sns.lineplot(x='epoch',y='r2', data=prop_df)\n",
    "plt.show()\n",
    "\n",
    "for label in COMPONENTS:\n",
    "    plt.plot(epochs, log_df[f'λ_{label}'], label =label)\n",
    "plt.legend()\n",
    "plt.show()\n",
    "\n",
    "for label in COMPONENTS:\n",
    "    plt.plot(epochs, log_df[f'train_{label}'], label='Train')\n",
    "    plt.plot(epochs, log_df[f'test_{label}'], label='Test')\n",
    "    plt.title(f'Loss {label}')\n",
    "    plt.yscale(\"log\")\n",
    "    plt.legend()\n",
    "    plt.show()\n",
    "\n",
    "for prefix in ['train','test']:\n",
    "    for label in COMPONENTS:\n",
    "        plt.plot(epochs, log_df[f'{prefix}_{label}_ratio'], label=label) \n",
    "    plt.title(f'Loss Ratios ({prefix})')\n",
    "    plt.legend()\n",
    "    plt.show()"
   ]
  },
  {
   "cell_type": "code",
   "execution_count": 16,
   "metadata": {
    "ExecuteTime": {
     "end_time": "2020-02-21T17:41:04.469435Z",
     "start_time": "2020-02-21T17:41:04.434771Z"
    }
   },
   "outputs": [
    {
     "name": "stdout",
     "output_type": "stream",
     "text": [
      "==================================== Losses ====================================\n",
      "kl    loss = 5.545e+02 / 1.960e-02\n",
      "x     loss = 7.026e-01 / 1.570e-01\n",
      "mof   loss = 1.703e+01 / 1.705e+01\n",
      "y     loss = 3.028e+01 / 1.243e+00\n"
     ]
    }
   ],
   "source": [
    "print(header_str('Losses'))\n",
    "for label in COMPONENTS:\n",
    "    min_train = np.min(log_df[f'train_{label}'])\n",
    "    min_test = np.min(log_df[f'test_{label}'])\n",
    "    print('{:6s}loss = {:.3e} / {:.3e}'.format(label,min_train,min_test))"
   ]
  },
  {
   "cell_type": "code",
   "execution_count": 29,
   "metadata": {
    "ExecuteTime": {
     "end_time": "2020-02-21T18:33:35.863080Z",
     "start_time": "2020-02-21T18:33:35.739701Z"
    }
   },
   "outputs": [
    {
     "data": {
      "application/vnd.jupyter.widget-view+json": {
       "model_id": "f977992ad9034f129da8292348081d9c",
       "version_major": 2,
       "version_minor": 0
      },
      "text/plain": [
       "HBox(children=(FloatProgress(value=0.0, description='Generating predictions', max=65.0, style=ProgressStyle(de…"
      ]
     },
     "metadata": {},
     "output_type": "display_data"
    },
    {
     "name": "stdout",
     "output_type": "stream",
     "text": [
      "tensor([[ 2.2220e-01, -3.6652e-01,  1.6695e-01,  ..., -1.6257e-01,\n",
      "          1.1037e-01,  6.6774e-02],\n",
      "        [-1.7260e-01, -8.7015e-01,  7.4857e-01,  ...,  6.4595e-01,\n",
      "         -2.8372e-01,  3.1912e-01],\n",
      "        [ 7.4122e-01, -4.3287e-01,  7.0949e-01,  ...,  3.2939e-01,\n",
      "          9.1231e-01, -9.8112e-02],\n",
      "        ...,\n",
      "        [-5.5223e-01, -1.3945e-01, -3.5023e-01,  ..., -6.5345e-01,\n",
      "          5.4739e-02, -3.5006e-01],\n",
      "        [ 6.5652e-01,  5.8003e-01, -2.0371e-01,  ..., -3.4480e-02,\n",
      "          1.8449e+00, -2.0253e-01],\n",
      "        [ 1.0146e+00, -8.0045e-01, -6.7321e-01,  ..., -1.2409e-02,\n",
      "         -6.7606e-04,  9.8491e-01]])\n"
     ]
    },
    {
     "ename": "AttributeError",
     "evalue": "type object 'PropDecoder' has no attribute 'mlp'",
     "output_type": "error",
     "traceback": [
      "\u001b[0;31m---------------------------------------------------------------------------\u001b[0m",
      "\u001b[0;31mAttributeError\u001b[0m                            Traceback (most recent call last)",
      "\u001b[0;32m<ipython-input-29-dedc36ae575e>\u001b[0m in \u001b[0;36m<module>\u001b[0;34m\u001b[0m\n\u001b[1;32m     16\u001b[0m         \u001b[0mlosses\u001b[0m\u001b[0;34m,\u001b[0m\u001b[0mouts\u001b[0m \u001b[0;34m=\u001b[0m \u001b[0mmodel\u001b[0m\u001b[0;34m.\u001b[0m\u001b[0mforward\u001b[0m\u001b[0;34m(\u001b[0m\u001b[0mx_tensor\u001b[0m\u001b[0;34m,\u001b[0m\u001b[0mmof_tensor\u001b[0m\u001b[0;34m,\u001b[0m\u001b[0my_tensor\u001b[0m\u001b[0;34m,\u001b[0m\u001b[0my_mask\u001b[0m\u001b[0;34m)\u001b[0m\u001b[0;34m\u001b[0m\u001b[0;34m\u001b[0m\u001b[0m\n\u001b[1;32m     17\u001b[0m         \u001b[0mprint\u001b[0m\u001b[0;34m(\u001b[0m\u001b[0mouts\u001b[0m\u001b[0;34m[\u001b[0m\u001b[0;34m'y'\u001b[0m\u001b[0;34m]\u001b[0m\u001b[0;34m)\u001b[0m\u001b[0;34m\u001b[0m\u001b[0;34m\u001b[0m\u001b[0m\n\u001b[0;32m---> 18\u001b[0;31m         \u001b[0my_pred_tensor\u001b[0m \u001b[0;34m=\u001b[0m \u001b[0mPropDecoder\u001b[0m\u001b[0;34m.\u001b[0m\u001b[0mz_to_y\u001b[0m\u001b[0;34m(\u001b[0m\u001b[0mPropDecoder\u001b[0m\u001b[0;34m,\u001b[0m\u001b[0mouts\u001b[0m\u001b[0;34m[\u001b[0m\u001b[0;34m'y'\u001b[0m\u001b[0;34m]\u001b[0m\u001b[0;34m)\u001b[0m\u001b[0;34m\u001b[0m\u001b[0;34m\u001b[0m\u001b[0m\n\u001b[0m\u001b[1;32m     19\u001b[0m         \u001b[0mz\u001b[0m\u001b[0;34m.\u001b[0m\u001b[0mextend\u001b[0m\u001b[0;34m(\u001b[0m\u001b[0mz_tensor\u001b[0m\u001b[0;34m.\u001b[0m\u001b[0mcpu\u001b[0m\u001b[0;34m(\u001b[0m\u001b[0;34m)\u001b[0m\u001b[0;34m.\u001b[0m\u001b[0mnumpy\u001b[0m\u001b[0;34m(\u001b[0m\u001b[0;34m)\u001b[0m\u001b[0;34m)\u001b[0m\u001b[0;34m\u001b[0m\u001b[0;34m\u001b[0m\u001b[0m\n\u001b[1;32m     20\u001b[0m         \u001b[0my_pred\u001b[0m\u001b[0;34m.\u001b[0m\u001b[0mextend\u001b[0m\u001b[0;34m(\u001b[0m\u001b[0my_pred_tensor\u001b[0m\u001b[0;34m.\u001b[0m\u001b[0mcpu\u001b[0m\u001b[0;34m(\u001b[0m\u001b[0;34m)\u001b[0m\u001b[0;34m.\u001b[0m\u001b[0mnumpy\u001b[0m\u001b[0;34m(\u001b[0m\u001b[0;34m)\u001b[0m\u001b[0;34m)\u001b[0m\u001b[0;34m\u001b[0m\u001b[0;34m\u001b[0m\u001b[0m\n",
      "\u001b[0;32m~/Desktop/MOF_VAE/vaemof/model.py\u001b[0m in \u001b[0;36mz_to_y\u001b[0;34m(self, z)\u001b[0m\n\u001b[1;32m    109\u001b[0m     \u001b[0;32mdef\u001b[0m \u001b[0mz_to_y\u001b[0m\u001b[0;34m(\u001b[0m\u001b[0mself\u001b[0m\u001b[0;34m,\u001b[0m \u001b[0mz\u001b[0m\u001b[0;34m:\u001b[0m \u001b[0mtensor\u001b[0m\u001b[0;34m)\u001b[0m \u001b[0;34m->\u001b[0m \u001b[0mnp\u001b[0m\u001b[0;34m.\u001b[0m\u001b[0mndarray\u001b[0m\u001b[0;34m:\u001b[0m\u001b[0;34m\u001b[0m\u001b[0;34m\u001b[0m\u001b[0m\n\u001b[1;32m    110\u001b[0m         \u001b[0;32mwith\u001b[0m \u001b[0mtorch\u001b[0m\u001b[0;34m.\u001b[0m\u001b[0mno_grad\u001b[0m\u001b[0;34m(\u001b[0m\u001b[0;34m)\u001b[0m\u001b[0;34m:\u001b[0m\u001b[0;34m\u001b[0m\u001b[0;34m\u001b[0m\u001b[0m\n\u001b[0;32m--> 111\u001b[0;31m             \u001b[0my_hat\u001b[0m \u001b[0;34m=\u001b[0m \u001b[0mself\u001b[0m\u001b[0;34m.\u001b[0m\u001b[0mmlp\u001b[0m\u001b[0;34m(\u001b[0m\u001b[0mz\u001b[0m\u001b[0;34m)\u001b[0m\u001b[0;34m.\u001b[0m\u001b[0mnumpy\u001b[0m\u001b[0;34m(\u001b[0m\u001b[0;34m)\u001b[0m\u001b[0;34m\u001b[0m\u001b[0;34m\u001b[0m\u001b[0m\n\u001b[0m\u001b[1;32m    112\u001b[0m         \u001b[0my_hat\u001b[0m \u001b[0;34m=\u001b[0m \u001b[0mself\u001b[0m\u001b[0;34m.\u001b[0m\u001b[0mscaler\u001b[0m\u001b[0;34m.\u001b[0m\u001b[0minverse_transform\u001b[0m\u001b[0;34m(\u001b[0m\u001b[0my_hat\u001b[0m\u001b[0;34m)\u001b[0m\u001b[0;34m\u001b[0m\u001b[0;34m\u001b[0m\u001b[0m\n\u001b[1;32m    113\u001b[0m         \u001b[0;32mreturn\u001b[0m \u001b[0my_hat\u001b[0m\u001b[0;34m\u001b[0m\u001b[0;34m\u001b[0m\u001b[0m\n",
      "\u001b[0;31mAttributeError\u001b[0m: type object 'PropDecoder' has no attribute 'mlp'"
     ]
    }
   ],
   "source": [
    "from vaemof.model import PropDecoder\n",
    "sub_sample = 10000\n",
    "src_data = prop_test\n",
    "n = len(src_data)\n",
    "batch_size=64\n",
    "n_loops = int(np.ceil(n/batch_size))\n",
    "z=[]\n",
    "y_true=[]\n",
    "y_pred=[]\n",
    "with torch.no_grad():\n",
    "    for chunk in  tqdm(vaemof.utils.chunks(src_data,batch_size),total=n_loops, desc='Generating predictions'):\n",
    "        x_tensor = model.tuples_to_tensors(chunk)['x']\n",
    "        mof_tensor = model.tuples_to_tensors(chunk)['mof']\n",
    "        y_tensor = model.tuples_to_tensors(chunk)['y']\n",
    "        y_mask = model.tuples_to_tensors(chunk)['y_mask']\n",
    "        losses,outs = model.forward(x_tensor,mof_tensor,y_tensor,y_mask)\n",
    "        y_pred_tensor = PropDecoder.z_to_y(PropDecoder,outs['y'])\n",
    "        z.extend(z_tensor.cpu().numpy())\n",
    "        y_pred.extend(y_pred_tensor.cpu().numpy())\n",
    "        y_true.extend(y_tensor.cpu().numpy())\n",
    "\n",
    "z = np.stack(z)\n",
    "y_true = np.stack(y_true)\n",
    "y_pred = np.stack(y_pred)\n",
    "z_pca = PCA(2).fit_transform(z)\n",
    "z_df = pd.DataFrame()\n",
    "for index,col in enumerate(targets):\n",
    "    z_df[col]=y_true[:,index]\n",
    "    z_df[col+'_pred']=y_pred[:,index]\n",
    "    r2 = sklearn.metrics.r2_score(y_true[:,index],y_pred[:,index])\n",
    "    mae = sklearn.metrics.mean_absolute_error(y_true[:,index],y_pred[:,index])\n",
    "    print('{:20} -> r^2= {:3f}, MAE= {:.3f}'.format(col,r2,mae))\n",
    "z_df['x']=z_pca[:,0]\n",
    "z_df['y']=z_pca[:,1]\n",
    "print(z.shape)"
   ]
  },
  {
   "cell_type": "markdown",
   "metadata": {},
   "source": [
    "## Prior check"
   ]
  },
  {
   "cell_type": "code",
   "execution_count": 34,
   "metadata": {
    "ExecuteTime": {
     "end_time": "2020-02-21T18:44:50.723931Z",
     "start_time": "2020-02-21T18:44:50.685228Z"
    },
    "scrolled": true
   },
   "outputs": [
    {
     "name": "stdout",
     "output_type": "stream",
     "text": [
      "==================================== prior =====================================\n"
     ]
    },
    {
     "data": {
      "application/vnd.jupyter.widget-view+json": {
       "model_id": "21d57af2e2dd49879c790956ee9e446d",
       "version_major": 2,
       "version_minor": 0
      },
      "text/plain": [
       "HBox(children=(FloatProgress(value=0.0, description='Generating samples', max=16.0, style=ProgressStyle(descri…"
      ]
     },
     "metadata": {},
     "output_type": "display_data"
    },
    {
     "ename": "AttributeError",
     "evalue": "'DataFrame' object has no attribute 'device'",
     "output_type": "error",
     "traceback": [
      "\u001b[0;31m---------------------------------------------------------------------------\u001b[0m",
      "\u001b[0;31mAttributeError\u001b[0m                            Traceback (most recent call last)",
      "\u001b[0;32m<ipython-input-34-d16164f20e88>\u001b[0m in \u001b[0;36m<module>\u001b[0;34m\u001b[0m\n\u001b[1;32m      8\u001b[0m     \u001b[0mn_batch\u001b[0m \u001b[0;34m=\u001b[0m \u001b[0mmin\u001b[0m\u001b[0;34m(\u001b[0m\u001b[0mlen\u001b[0m\u001b[0;34m(\u001b[0m\u001b[0mchunk\u001b[0m\u001b[0;34m)\u001b[0m\u001b[0;34m,\u001b[0m \u001b[0mbatch_size\u001b[0m\u001b[0;34m)\u001b[0m\u001b[0;34m\u001b[0m\u001b[0;34m\u001b[0m\u001b[0m\n\u001b[1;32m      9\u001b[0m     \u001b[0mz\u001b[0m \u001b[0;34m=\u001b[0m \u001b[0mmodel\u001b[0m\u001b[0;34m.\u001b[0m\u001b[0msample_z_prior\u001b[0m\u001b[0;34m(\u001b[0m\u001b[0mn_batch\u001b[0m\u001b[0;34m)\u001b[0m\u001b[0;34m\u001b[0m\u001b[0;34m\u001b[0m\u001b[0m\n\u001b[0;32m---> 10\u001b[0;31m     \u001b[0msmiles_list\u001b[0m \u001b[0;34m=\u001b[0m \u001b[0mCharDecoder\u001b[0m\u001b[0;34m.\u001b[0m\u001b[0mz_to_x\u001b[0m\u001b[0;34m(\u001b[0m\u001b[0m_\u001b[0m\u001b[0;34m,\u001b[0m\u001b[0mz\u001b[0m\u001b[0;34m)\u001b[0m\u001b[0;34m\u001b[0m\u001b[0;34m\u001b[0m\u001b[0m\n\u001b[0m\u001b[1;32m     11\u001b[0m     \u001b[0mmof_list\u001b[0m \u001b[0;34m=\u001b[0m \u001b[0mmodel\u001b[0m\u001b[0;34m.\u001b[0m\u001b[0mz_to_mof\u001b[0m\u001b[0;34m(\u001b[0m\u001b[0mz\u001b[0m\u001b[0;34m)\u001b[0m\u001b[0;34m\u001b[0m\u001b[0;34m\u001b[0m\u001b[0m\n\u001b[1;32m     12\u001b[0m     \u001b[0msamples\u001b[0m\u001b[0;34m.\u001b[0m\u001b[0mextend\u001b[0m\u001b[0;34m(\u001b[0m\u001b[0;34m[\u001b[0m \u001b[0;34m[\u001b[0m\u001b[0msmi\u001b[0m\u001b[0;34m]\u001b[0m\u001b[0;34m+\u001b[0m\u001b[0mmof\u001b[0m \u001b[0;32mfor\u001b[0m \u001b[0msmi\u001b[0m\u001b[0;34m,\u001b[0m\u001b[0mmof\u001b[0m \u001b[0;32min\u001b[0m \u001b[0mzip\u001b[0m\u001b[0;34m(\u001b[0m\u001b[0msmiles_list\u001b[0m\u001b[0;34m,\u001b[0m\u001b[0mmof_list\u001b[0m\u001b[0;34m)\u001b[0m\u001b[0;34m]\u001b[0m\u001b[0;34m)\u001b[0m\u001b[0;34m\u001b[0m\u001b[0;34m\u001b[0m\u001b[0m\n",
      "\u001b[0;32m~/Desktop/MOF_VAE/vaemof/model.py\u001b[0m in \u001b[0;36mz_to_x\u001b[0;34m(self, z, max_len, temp)\u001b[0m\n\u001b[1;32m    189\u001b[0m     \u001b[0;32mdef\u001b[0m \u001b[0mz_to_x\u001b[0m\u001b[0;34m(\u001b[0m\u001b[0mself\u001b[0m\u001b[0;34m,\u001b[0m \u001b[0mz\u001b[0m\u001b[0;34m:\u001b[0m \u001b[0mtensor\u001b[0m\u001b[0;34m,\u001b[0m \u001b[0mmax_len\u001b[0m\u001b[0;34m:\u001b[0m \u001b[0mOptional\u001b[0m\u001b[0;34m[\u001b[0m\u001b[0mint\u001b[0m\u001b[0;34m]\u001b[0m \u001b[0;34m=\u001b[0m \u001b[0;32mNone\u001b[0m\u001b[0;34m,\u001b[0m \u001b[0mtemp\u001b[0m\u001b[0;34m:\u001b[0m \u001b[0mfloat\u001b[0m \u001b[0;34m=\u001b[0m \u001b[0;36m1.0\u001b[0m\u001b[0;34m)\u001b[0m\u001b[0;34m:\u001b[0m\u001b[0;34m\u001b[0m\u001b[0;34m\u001b[0m\u001b[0m\n\u001b[1;32m    190\u001b[0m         \u001b[0;34m\"\"\"Latent vector to selfies.\"\"\"\u001b[0m\u001b[0;34m\u001b[0m\u001b[0;34m\u001b[0m\u001b[0m\n\u001b[0;32m--> 191\u001b[0;31m         \u001b[0mdevice\u001b[0m \u001b[0;34m=\u001b[0m \u001b[0mself\u001b[0m\u001b[0;34m.\u001b[0m\u001b[0mdevice\u001b[0m\u001b[0;34m\u001b[0m\u001b[0;34m\u001b[0m\u001b[0m\n\u001b[0m\u001b[1;32m    192\u001b[0m         \u001b[0mbos\u001b[0m\u001b[0;34m,\u001b[0m \u001b[0mpad\u001b[0m\u001b[0;34m,\u001b[0m \u001b[0meos\u001b[0m \u001b[0;34m=\u001b[0m \u001b[0mself\u001b[0m\u001b[0;34m.\u001b[0m\u001b[0mvocab\u001b[0m\u001b[0;34m.\u001b[0m\u001b[0mbos\u001b[0m\u001b[0;34m,\u001b[0m \u001b[0mself\u001b[0m\u001b[0;34m.\u001b[0m\u001b[0mvocab\u001b[0m\u001b[0;34m.\u001b[0m\u001b[0mpad\u001b[0m\u001b[0;34m,\u001b[0m \u001b[0mself\u001b[0m\u001b[0;34m.\u001b[0m\u001b[0mvocab\u001b[0m\u001b[0;34m.\u001b[0m\u001b[0meos\u001b[0m\u001b[0;34m\u001b[0m\u001b[0;34m\u001b[0m\u001b[0m\n\u001b[1;32m    193\u001b[0m         \u001b[0mmax_len\u001b[0m \u001b[0;34m=\u001b[0m \u001b[0mmax_len\u001b[0m \u001b[0;32mor\u001b[0m \u001b[0mself\u001b[0m\u001b[0;34m.\u001b[0m\u001b[0mvocab\u001b[0m\u001b[0;34m.\u001b[0m\u001b[0mmax_len\u001b[0m\u001b[0;34m\u001b[0m\u001b[0;34m\u001b[0m\u001b[0m\n",
      "\u001b[0;32m~/anaconda3/lib/python3.7/site-packages/pandas/core/generic.py\u001b[0m in \u001b[0;36m__getattr__\u001b[0;34m(self, name)\u001b[0m\n\u001b[1;32m   5272\u001b[0m             \u001b[0;32mif\u001b[0m \u001b[0mself\u001b[0m\u001b[0;34m.\u001b[0m\u001b[0m_info_axis\u001b[0m\u001b[0;34m.\u001b[0m\u001b[0m_can_hold_identifiers_and_holds_name\u001b[0m\u001b[0;34m(\u001b[0m\u001b[0mname\u001b[0m\u001b[0;34m)\u001b[0m\u001b[0;34m:\u001b[0m\u001b[0;34m\u001b[0m\u001b[0;34m\u001b[0m\u001b[0m\n\u001b[1;32m   5273\u001b[0m                 \u001b[0;32mreturn\u001b[0m \u001b[0mself\u001b[0m\u001b[0;34m[\u001b[0m\u001b[0mname\u001b[0m\u001b[0;34m]\u001b[0m\u001b[0;34m\u001b[0m\u001b[0;34m\u001b[0m\u001b[0m\n\u001b[0;32m-> 5274\u001b[0;31m             \u001b[0;32mreturn\u001b[0m \u001b[0mobject\u001b[0m\u001b[0;34m.\u001b[0m\u001b[0m__getattribute__\u001b[0m\u001b[0;34m(\u001b[0m\u001b[0mself\u001b[0m\u001b[0;34m,\u001b[0m \u001b[0mname\u001b[0m\u001b[0;34m)\u001b[0m\u001b[0;34m\u001b[0m\u001b[0;34m\u001b[0m\u001b[0m\n\u001b[0m\u001b[1;32m   5275\u001b[0m \u001b[0;34m\u001b[0m\u001b[0m\n\u001b[1;32m   5276\u001b[0m     \u001b[0;32mdef\u001b[0m \u001b[0m__setattr__\u001b[0m\u001b[0;34m(\u001b[0m\u001b[0mself\u001b[0m\u001b[0;34m,\u001b[0m \u001b[0mname\u001b[0m\u001b[0;34m:\u001b[0m \u001b[0mstr\u001b[0m\u001b[0;34m,\u001b[0m \u001b[0mvalue\u001b[0m\u001b[0;34m)\u001b[0m \u001b[0;34m->\u001b[0m \u001b[0;32mNone\u001b[0m\u001b[0;34m:\u001b[0m\u001b[0;34m\u001b[0m\u001b[0;34m\u001b[0m\u001b[0m\n",
      "\u001b[0;31mAttributeError\u001b[0m: 'DataFrame' object has no attribute 'device'"
     ]
    }
   ],
   "source": [
    "from vaemof.model import CharDecoder\n",
    "print(header_str('prior'))\n",
    "samples = []\n",
    "n = 1024\n",
    "batch_size=64\n",
    "n_loops = int(np.ceil(n/batch_size))\n",
    "for chunk in  tqdm(vaemof.utils.chunks(list(range(n)),batch_size),total=n_loops, desc='Generating samples'):\n",
    "    n_batch = min(len(chunk), batch_size)\n",
    "    z = model.sample_z_prior(n_batch)\n",
    "    smiles_list = CharDecoder.z_to_x(_,z)\n",
    "    mof_list = model.z_to_mof(z)\n",
    "    samples.extend([ [smi]+mof for smi,mof in zip(smiles_list,mof_list)])\n",
    "    \n",
    "gen_df = pd.DataFrame(samples,columns=[smiles_column]+mof_columns)\n",
    "gen_df['valid'] = gen_df[smiles_column].apply(models.utils.valid_smiles)\n",
    "print('valid smiles: {} out of {} ({}%)'.format(gen_df['valid'].sum(),n,gen_df['valid'].sum()/n*100.0))\n",
    "\n",
    "gen_df"
   ]
  },
  {
   "cell_type": "markdown",
   "metadata": {},
   "source": [
    "## Posterior check"
   ]
  },
  {
   "cell_type": "code",
   "execution_count": null,
   "metadata": {
    "ExecuteTime": {
     "end_time": "2020-02-16T00:19:38.439883Z",
     "start_time": "2020-02-16T00:19:31.716Z"
    }
   },
   "outputs": [],
   "source": [
    "print(header_str('Posterior check'))\n",
    "\n",
    "tries=2\n",
    "sub_sample =1000\n",
    "src_data = train_data\n",
    "src_data = random.sample(src_data,min(len(src_data),sub_sample))\n",
    "valid_smiles=[]\n",
    "recon_smiles=[]\n",
    "n = len(src_data)\n",
    "results=[]\n",
    "mof_results=[]\n",
    "print(n)\n",
    "with torch.no_grad():\n",
    "    for t in tqdm(src_data):\n",
    "        batch = [t]*tries\n",
    "        true_smiles = isosmiles(vocab.ids2string(t[0]))\n",
    "        true_mof = mof_vocab.ids2mof(t[1])\n",
    "        x_tensor,mof,y,y_mask = trainer.get_collate_fn(model)(batch)\n",
    "        _, z_tensor = model.forward_encoder(x_tensor,mof)\n",
    "        mof_list = np.array(model.z_to_mof(z_tensor))\n",
    "        pred_mof = [mof_list[:,i].tolist() for i in range(3)]\n",
    "        acc_mof = any([ all(i==true_mof) for i in mof_list])\n",
    "        _, x_recon_tensor = model.forward_x_decoder(x_tensor,z_tensor)\n",
    "        re_smiles = [model.tensor2string(x_i) for x_i in x_recon_tensor]\n",
    "        valid_smiles = [si for si in set(re_smiles) if models.utils.valid_smiles(si)]\n",
    "        valid_smiles = [isosmiles(si) for si in valid_smiles]\n",
    "        same_smiles = [si for si in valid_smiles if si==true_smiles]\n",
    "        results.append([true_smiles, re_smiles[0], len(same_smiles)>0,len(valid_smiles)>0])\n",
    "        mof_results.append(acc_mof)\n",
    "\n",
    "        \n",
    "post_df = pd.DataFrame(results,columns=['smiles','recon_smiles','same','valid'])\n",
    "print('valid: {} out of {} ({:.2f}%)'.format(post_df['valid'].sum(),n,post_df['valid'].sum()/n*100.0))\n",
    "print('same : {} out of {} ({:.2f}%)'.format(post_df['same'].sum(),n,post_df['same'].sum()/n*100.0))\n",
    "display(post_df.head(1))\n",
    "print('Mof recon acc: {}'.format(float(sum(mof_results))/float(len(mof_results))))"
   ]
  },
  {
   "cell_type": "code",
   "execution_count": null,
   "metadata": {
    "ExecuteTime": {
     "end_time": "2020-02-16T00:19:38.440761Z",
     "start_time": "2020-02-16T00:19:31.719Z"
    }
   },
   "outputs": [],
   "source": [
    "sub_sample = 10000\n",
    "src_data = train_data\n",
    "src_data = random.sample(src_data,min(len(src_data),sub_sample))\n",
    "n = len(src_data)\n",
    "batch_size=64\n",
    "n_loops = int(np.ceil(n/batch_size))\n",
    "z=[]\n",
    "mof=[]\n",
    "mof_ids=[]\n",
    "with torch.no_grad():\n",
    "    for chunk in  tqdm(models.utils.chunks(src_data,batch_size),total=n_loops, desc='Generating samples'):\n",
    "        mof.extend([mof_vocab.ids2mof(t[1]) for t in chunk])\n",
    "        x_tensor,mof_tensor,y, y_mask = trainer.get_collate_fn(model)(chunk)\n",
    "        _, z_tensor = model.forward_encoder(x_tensor,mof_tensor)\n",
    "        z.extend(z_tensor.cpu().numpy())\n",
    "        mof_ids.extend([mof_vocab.ids2mof(t) for t in mof_tensor.cpu().numpy()])\n",
    "        \n",
    "z = np.stack(z)\n",
    "z_pca = PCA(2).fit_transform(z)\n",
    "z_df = pd.DataFrame(mof,columns=mof_columns)\n",
    "z_df['x']=z_pca[:,0]\n",
    "z_df['y']=z_pca[:,1]\n",
    "mof_ids = np.stack(mof_ids)\n",
    "print(z.shape,mof_ids.shape)"
   ]
  },
  {
   "cell_type": "code",
   "execution_count": null,
   "metadata": {
    "ExecuteTime": {
     "end_time": "2020-02-16T00:19:38.441839Z",
     "start_time": "2020-02-16T00:19:31.722Z"
    }
   },
   "outputs": [],
   "source": [
    "top_k=8\n",
    "for index,col in enumerate(mof_columns):\n",
    "    print(models.utils.header_str(col))\n",
    "    plt.figure(figsize=(8,8))\n",
    "    top_cat = z_df[col].value_counts(sort=True).iloc[:top_k].index.tolist()\n",
    "    sns.scatterplot(x='x',y='y',hue=col,s=20,data=z_df[z_df[col].isin(top_cat)])\n",
    "    plt.legend(bbox_to_anchor=(1.0, .5))\n",
    "    plt.title(col)\n",
    "    plt.show()"
   ]
  },
  {
   "cell_type": "code",
   "execution_count": null,
   "metadata": {},
   "outputs": [],
   "source": []
  }
 ],
 "metadata": {
  "kernelspec": {
   "display_name": "Python 3",
   "language": "python",
   "name": "python3"
  },
  "language_info": {
   "codemirror_mode": {
    "name": "ipython",
    "version": 3
   },
   "file_extension": ".py",
   "mimetype": "text/x-python",
   "name": "python",
   "nbconvert_exporter": "python",
   "pygments_lexer": "ipython3",
   "version": "3.7.6"
  },
  "toc": {
   "base_numbering": 1,
   "nav_menu": {},
   "number_sections": true,
   "sideBar": true,
   "skip_h1_title": false,
   "title_cell": "Table of Contents",
   "title_sidebar": "Contents",
   "toc_cell": false,
   "toc_position": {},
   "toc_section_display": true,
   "toc_window_display": false
  }
 },
 "nbformat": 4,
 "nbformat_minor": 2
}
