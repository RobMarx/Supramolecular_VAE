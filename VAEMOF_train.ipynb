{
 "cells": [
  {
   "cell_type": "code",
   "execution_count": 1,
   "metadata": {
    "ExecuteTime": {
     "end_time": "2020-02-22T01:52:39.027618Z",
     "start_time": "2020-02-22T01:52:38.999133Z"
    }
   },
   "outputs": [],
   "source": [
    "%load_ext autoreload\n",
    "%autoreload 2"
   ]
  },
  {
   "cell_type": "code",
   "execution_count": 2,
   "metadata": {
    "ExecuteTime": {
     "end_time": "2020-02-22T01:52:40.232901Z",
     "start_time": "2020-02-22T01:52:39.298885Z"
    }
   },
   "outputs": [
    {
     "name": "stderr",
     "output_type": "stream",
     "text": [
      "RDKit WARNING: [20:52:39] Enabling RDKit 2019.09.3 jupyter extensions\n",
      "/home/beangoben/anaconda3/lib/python3.7/site-packages/tqdm/std.py:658: FutureWarning: The Panel class is removed from pandas. Accessing it from the top-level namespace will also be removed in the next version\n",
      "  from pandas import Panel\n"
     ]
    }
   ],
   "source": [
    "import vaemof\n",
    "from vaemof import experiments\n",
    "from vaemof import utils\n",
    "from vaemof.vocabs import SELFIESVocab, MOFVocab, PropVocab\n",
    "from vaemof import modules\n",
    "from vaemof import training\n",
    "from vaemof.model import VAEMOF\n",
    "from vaemof import configs\n",
    "\n",
    "from vaemof.utils import header_str\n",
    "vaemof.experiments.plot_settings()"
   ]
  },
  {
   "cell_type": "code",
   "execution_count": 3,
   "metadata": {
    "ExecuteTime": {
     "end_time": "2020-02-22T01:52:40.270685Z",
     "start_time": "2020-02-22T01:52:40.233959Z"
    }
   },
   "outputs": [
    {
     "name": "stdout",
     "output_type": "stream",
     "text": [
      "rdkit : 2019.09.3\n",
      "torch : 1.4.0\n",
      "cuda? True\n"
     ]
    }
   ],
   "source": [
    "import os\n",
    "import random\n",
    "from tqdm.auto import tqdm\n",
    "import numpy as np\n",
    "import torch\n",
    "import rdkit\n",
    "import pandas as pd\n",
    "import matplotlib.pyplot as plt\n",
    "import seaborn as sns\n",
    "\n",
    "from itertools import product\n",
    "from collections import OrderedDict\n",
    "\n",
    "print(f'rdkit : {rdkit.__version__}')\n",
    "print(f'torch : {torch.__version__}')\n",
    "print(f'cuda? {torch.cuda.is_available()}')\n",
    "tqdm.pandas()\n",
    "utils.disable_rdkit_log()"
   ]
  },
  {
   "cell_type": "markdown",
   "metadata": {},
   "source": [
    "## Hparams"
   ]
  },
  {
   "cell_type": "code",
   "execution_count": 4,
   "metadata": {
    "ExecuteTime": {
     "end_time": "2020-02-22T01:52:40.288173Z",
     "start_time": "2020-02-22T01:52:40.271871Z"
    },
    "scrolled": true
   },
   "outputs": [
    {
     "name": "stdout",
     "output_type": "stream",
     "text": [
      "===================================== full =====================================\n",
      "==================================== config ====================================\n",
      "== train == :\n",
      "        train_device:                cuda\n",
      "          train_seed:                  42\n",
      "    train_batch_size:                1536\n",
      "        train_epochs:                  60\n",
      "            train_lr:               0.005\n",
      "     train_clip_grad:                  20\n",
      "== vae == :\n",
      "      vae_latent_dim:                 256\n",
      "           vae_y_dec:                True\n",
      "     vae_selfies_dec:                True\n",
      "         vae_mof_enc:                True\n",
      "         vae_mof_dec:                True\n",
      "vae_duplicate_smiles:                True\n",
      "== mof == :\n",
      "        mof_encoding:                 all\n",
      "   mof_weighted_loss:                True\n",
      "         mof_w_start:                 0.0\n",
      "           mof_w_end:                 1.0\n",
      "           mof_start:                  15\n",
      "    mof_const_length:                  10\n",
      "== y == :\n",
      "            y_labels:['lcd', 'pld', 'density', 'avf', 'avsa', 'agsa', 'co2n2_co2_mol_kg', 'co2n2_n2_mol_kg', 'co2n2_selectivity', 'co2n2_heat_avg', 'co2n2_heat_co2', 'co2n2_heat_n2', 'co2n2_heat_molfrac', 'co2ch4_co2_mol_kg', 'co2ch4_ch4_mol_kg', 'co2ch4_selectivity', 'co2ch4_heat_avg', 'co2ch4_heat_co2', 'co2ch4_heat_ch4', 'co2ch4_heat_molfrac', 'scscore']\n",
      "           y_weights:[1, 1, 1, 1, 1, 1, 1, 1, 1, 1, 1, 1, 1, 1, 1, 1, 1, 1, 1, 1, 1]\n",
      "           y_w_start:                 0.0\n",
      "             y_w_end:                 1.0\n",
      "             y_start:                  15\n",
      "      y_const_length:                  10\n",
      "== files == :\n",
      "          files_data:data/MOF_gen_train.csv.gz\n",
      "          files_prop:data/MOF_properties_train.csv.gz\n",
      "       files_results:        results/test\n",
      "        files_config:         config.json\n",
      "           files_log:             log.csv\n",
      "== kl == :\n",
      "     kl_cycle_length:                  15\n",
      "   kl_cycle_constant:                   3\n",
      "     kl_weight_start:               1e-05\n",
      "       kl_weight_end:                0.77\n",
      "== enc == :\n",
      "      enc_hidden_dim:                 256\n",
      "        enc_n_layers:                   1\n",
      "         enc_dropout:                0.25\n",
      "== dec == :\n",
      "      dec_hidden_dim:                 512\n",
      "        dec_n_layers:                   1\n",
      "         dec_dropout:                 0.0\n"
     ]
    }
   ],
   "source": [
    "preset = 'full'\n",
    "WORK_DIR = 'results/test'\n",
    "hparams = configs.get_model_config(WORK_DIR, preset, rand=False)\n",
    "print(utils.header_str(preset))\n",
    "hparams['train_device'] = 'cuda' if torch.cuda.is_available() else 'cpu'\n",
    "\n",
    "testing = configs.testing_config(hparams)\n",
    "configs.print_config(hparams)\n",
    "utils.set_seed(hparams['train_seed'])\n",
    "device = torch.device(hparams['train_device'])"
   ]
  },
  {
   "cell_type": "markdown",
   "metadata": {},
   "source": [
    "## Load MOF data\n",
    "\n",
    "Assemble smiles formula: [organic core][metal_node][topology][branch_smiles]"
   ]
  },
  {
   "cell_type": "code",
   "execution_count": 5,
   "metadata": {
    "ExecuteTime": {
     "end_time": "2020-02-22T01:52:42.598588Z",
     "start_time": "2020-02-22T01:52:40.289218Z"
    }
   },
   "outputs": [
    {
     "name": "stdout",
     "output_type": "stream",
     "text": [
      "=================================== Real run ===================================\n",
      "df shape: (2049964, 8)\n",
      "df columns: ['branch_smiles', 'id2mof', 'metal_node', 'mof_index', 'organic_core', 'randomized', 'topology', 'train/test']\n",
      "Found 713 unique mofs\n"
     ]
    },
    {
     "data": {
      "text/html": [
       "<div>\n",
       "<style scoped>\n",
       "    .dataframe tbody tr th:only-of-type {\n",
       "        vertical-align: middle;\n",
       "    }\n",
       "\n",
       "    .dataframe tbody tr th {\n",
       "        vertical-align: top;\n",
       "    }\n",
       "\n",
       "    .dataframe thead th {\n",
       "        text-align: right;\n",
       "    }\n",
       "</style>\n",
       "<table border=\"1\" class=\"dataframe\">\n",
       "  <thead>\n",
       "    <tr style=\"text-align: right;\">\n",
       "      <th></th>\n",
       "      <th>branch_smiles</th>\n",
       "      <th>id2mof</th>\n",
       "      <th>metal_node</th>\n",
       "      <th>mof_index</th>\n",
       "      <th>organic_core</th>\n",
       "      <th>randomized</th>\n",
       "      <th>topology</th>\n",
       "      <th>train/test</th>\n",
       "    </tr>\n",
       "  </thead>\n",
       "  <tbody>\n",
       "    <tr>\n",
       "      <th>0</th>\n",
       "      <td>CC(c1cc(O)cc(O)c1)(C(Sc1cc(O)cc(O)c1)c1cc(O)cc...</td>\n",
       "      <td>0</td>\n",
       "      <td>sym_7_mc_4</td>\n",
       "      <td>4.0</td>\n",
       "      <td>None</td>\n",
       "      <td>False</td>\n",
       "      <td>acs</td>\n",
       "      <td>1</td>\n",
       "    </tr>\n",
       "    <tr>\n",
       "      <th>1</th>\n",
       "      <td>Oc1ccc(-c2cc(/C=C/c3c(-c4ccc(O)cc4)cc([Lr])c(-...</td>\n",
       "      <td>0</td>\n",
       "      <td>sym_7_mc_4</td>\n",
       "      <td>10.0</td>\n",
       "      <td>None</td>\n",
       "      <td>False</td>\n",
       "      <td>acs</td>\n",
       "      <td>1</td>\n",
       "    </tr>\n",
       "    <tr>\n",
       "      <th>2</th>\n",
       "      <td>O=S(=O)(O)Cc1nn([Lr])c(CS(=O)(=O)O)c1-c1c(CS(=...</td>\n",
       "      <td>0</td>\n",
       "      <td>sym_7_mc_4</td>\n",
       "      <td>18.0</td>\n",
       "      <td>None</td>\n",
       "      <td>False</td>\n",
       "      <td>acs</td>\n",
       "      <td>1</td>\n",
       "    </tr>\n",
       "    <tr>\n",
       "      <th>3</th>\n",
       "      <td>[Lr]c1ccc(-c2c(-c3ccccc3)cc([Lr])c(-c3ccccc3)c...</td>\n",
       "      <td>0</td>\n",
       "      <td>sym_7_mc_4</td>\n",
       "      <td>23.0</td>\n",
       "      <td>None</td>\n",
       "      <td>False</td>\n",
       "      <td>acs</td>\n",
       "      <td>1</td>\n",
       "    </tr>\n",
       "    <tr>\n",
       "      <th>4</th>\n",
       "      <td>[Lr]c1ccc(N2C=C(c3ccncc3)N(c3c(-c4ccncc4)cc([L...</td>\n",
       "      <td>0</td>\n",
       "      <td>sym_7_mc_4</td>\n",
       "      <td>29.0</td>\n",
       "      <td>None</td>\n",
       "      <td>False</td>\n",
       "      <td>acs</td>\n",
       "      <td>1</td>\n",
       "    </tr>\n",
       "  </tbody>\n",
       "</table>\n",
       "</div>"
      ],
      "text/plain": [
       "                                       branch_smiles  id2mof  metal_node  \\\n",
       "0  CC(c1cc(O)cc(O)c1)(C(Sc1cc(O)cc(O)c1)c1cc(O)cc...       0  sym_7_mc_4   \n",
       "1  Oc1ccc(-c2cc(/C=C/c3c(-c4ccc(O)cc4)cc([Lr])c(-...       0  sym_7_mc_4   \n",
       "2  O=S(=O)(O)Cc1nn([Lr])c(CS(=O)(=O)O)c1-c1c(CS(=...       0  sym_7_mc_4   \n",
       "3  [Lr]c1ccc(-c2c(-c3ccccc3)cc([Lr])c(-c3ccccc3)c...       0  sym_7_mc_4   \n",
       "4  [Lr]c1ccc(N2C=C(c3ccncc3)N(c3c(-c4ccncc4)cc([L...       0  sym_7_mc_4   \n",
       "\n",
       "   mof_index organic_core  randomized topology  train/test  \n",
       "0        4.0         None       False      acs           1  \n",
       "1       10.0         None       False      acs           1  \n",
       "2       18.0         None       False      acs           1  \n",
       "3       23.0         None       False      acs           1  \n",
       "4       29.0         None       False      acs           1  "
      ]
     },
     "execution_count": 5,
     "metadata": {},
     "output_type": "execute_result"
    }
   ],
   "source": [
    "smiles_column = 'branch_smiles'\n",
    "testtrain_column = 'train/test'\n",
    "df = experiments.get_generator_df(csv_file=hparams['files_data'],\n",
    "                                  smiles_column=smiles_column,\n",
    "                                  use_duplicates=hparams['vae_duplicate_smiles'],\n",
    "                                  testing=testing)\n",
    "ids2mofs, mof2ids, mof_columns = experiments.get_mofdict(\n",
    "    df, hparams['mof_encoding'])\n",
    "df.head()"
   ]
  },
  {
   "cell_type": "markdown",
   "metadata": {},
   "source": [
    "## Load property data"
   ]
  },
  {
   "cell_type": "code",
   "execution_count": 6,
   "metadata": {
    "ExecuteTime": {
     "end_time": "2020-02-22T01:53:17.928884Z",
     "start_time": "2020-02-22T01:52:42.599830Z"
    },
    "scrolled": true
   },
   "outputs": [
    {
     "name": "stdout",
     "output_type": "stream",
     "text": [
      "=================================== Real run ===================================\n",
      "Restored variables from data/scscore_1024uint8_model.ckpt-10654.as_numpy.json.gz\n"
     ]
    },
    {
     "data": {
      "application/vnd.jupyter.widget-view+json": {
       "model_id": "922dbda742614895a3876ebe2bec5e32",
       "version_major": 2,
       "version_minor": 0
      },
      "text/plain": [
       "HBox(children=(FloatProgress(value=0.0, max=45889.0), HTML(value='')))"
      ]
     },
     "metadata": {},
     "output_type": "display_data"
    },
    {
     "name": "stdout",
     "output_type": "stream",
     "text": [
      "\n",
      "Removed 2923 datapoints due to mask.\n",
      "Removed 1819 datapoints due non-valid mof (mof2ids).\n",
      "Removed 245 datapoints due to high selectivity.\n"
     ]
    },
    {
     "data": {
      "text/html": [
       "<div>\n",
       "<style scoped>\n",
       "    .dataframe tbody tr th:only-of-type {\n",
       "        vertical-align: middle;\n",
       "    }\n",
       "\n",
       "    .dataframe tbody tr th {\n",
       "        vertical-align: top;\n",
       "    }\n",
       "\n",
       "    .dataframe thead th {\n",
       "        text-align: right;\n",
       "    }\n",
       "</style>\n",
       "<table border=\"1\" class=\"dataframe\">\n",
       "  <thead>\n",
       "    <tr style=\"text-align: right;\">\n",
       "      <th></th>\n",
       "      <th>organic_core</th>\n",
       "      <th>metal_node</th>\n",
       "      <th>topology</th>\n",
       "      <th>branch_smiles</th>\n",
       "      <th>lcd</th>\n",
       "      <th>pld</th>\n",
       "      <th>density</th>\n",
       "      <th>avf</th>\n",
       "      <th>avsa</th>\n",
       "      <th>agsa</th>\n",
       "      <th>...</th>\n",
       "      <th>co2ch4_selectivity</th>\n",
       "      <th>co2ch4_heat_avg</th>\n",
       "      <th>co2ch4_heat_co2</th>\n",
       "      <th>co2ch4_heat_ch4</th>\n",
       "      <th>co2ch4_heat_molfrac</th>\n",
       "      <th>selfies_safe</th>\n",
       "      <th>mask</th>\n",
       "      <th>train/test</th>\n",
       "      <th>scscore</th>\n",
       "      <th>id2mof</th>\n",
       "    </tr>\n",
       "  </thead>\n",
       "  <tbody>\n",
       "    <tr>\n",
       "      <th>0</th>\n",
       "      <td>None</td>\n",
       "      <td>sym_7_mc_4</td>\n",
       "      <td>acs</td>\n",
       "      <td>COc1c(/C=C/c2ccc([Lr])cc2)cc(OC)c(/C=C/c3ccc([...</td>\n",
       "      <td>24.87798</td>\n",
       "      <td>19.29733</td>\n",
       "      <td>0.164554</td>\n",
       "      <td>0.75459</td>\n",
       "      <td>1159.130</td>\n",
       "      <td>7044.060</td>\n",
       "      <td>...</td>\n",
       "      <td>1.786937</td>\n",
       "      <td>-8.58733</td>\n",
       "      <td>-12.08169</td>\n",
       "      <td>-7.92879</td>\n",
       "      <td>-8.61737</td>\n",
       "      <td>True</td>\n",
       "      <td>True</td>\n",
       "      <td>1</td>\n",
       "      <td>3.384814</td>\n",
       "      <td>0</td>\n",
       "    </tr>\n",
       "    <tr>\n",
       "      <th>1</th>\n",
       "      <td>None</td>\n",
       "      <td>sym_7_mc_4</td>\n",
       "      <td>acs</td>\n",
       "      <td>CSC1=C2CCC(=C(C(=C2SC)[Lr])SC)C(=C1[Lr])SC</td>\n",
       "      <td>7.78281</td>\n",
       "      <td>5.18969</td>\n",
       "      <td>1.119280</td>\n",
       "      <td>0.07631</td>\n",
       "      <td>978.891</td>\n",
       "      <td>874.575</td>\n",
       "      <td>...</td>\n",
       "      <td>3.197185</td>\n",
       "      <td>-20.54264</td>\n",
       "      <td>-24.18495</td>\n",
       "      <td>-18.74239</td>\n",
       "      <td>-20.17205</td>\n",
       "      <td>True</td>\n",
       "      <td>True</td>\n",
       "      <td>0</td>\n",
       "      <td>3.176298</td>\n",
       "      <td>0</td>\n",
       "    </tr>\n",
       "    <tr>\n",
       "      <th>2</th>\n",
       "      <td>None</td>\n",
       "      <td>sym_7_mc_4</td>\n",
       "      <td>acs</td>\n",
       "      <td>O=C(c1cc(O)c(cc1O)[Lr])OOC(=O)c1cc(O)c(cc1O)[Lr]</td>\n",
       "      <td>17.01677</td>\n",
       "      <td>15.91720</td>\n",
       "      <td>0.320703</td>\n",
       "      <td>0.61736</td>\n",
       "      <td>1628.620</td>\n",
       "      <td>5078.290</td>\n",
       "      <td>...</td>\n",
       "      <td>3.004385</td>\n",
       "      <td>-11.22187</td>\n",
       "      <td>-16.39748</td>\n",
       "      <td>-9.43473</td>\n",
       "      <td>-11.17660</td>\n",
       "      <td>True</td>\n",
       "      <td>True</td>\n",
       "      <td>1</td>\n",
       "      <td>2.668208</td>\n",
       "      <td>0</td>\n",
       "    </tr>\n",
       "    <tr>\n",
       "      <th>3</th>\n",
       "      <td>None</td>\n",
       "      <td>sym_7_mc_4</td>\n",
       "      <td>acs</td>\n",
       "      <td>Oc1c(cc(c(c1O)[Lr])O)c1nnc(nn1)c1ccc(c(c1)O)[Lr]</td>\n",
       "      <td>19.50569</td>\n",
       "      <td>17.17410</td>\n",
       "      <td>0.291374</td>\n",
       "      <td>0.66206</td>\n",
       "      <td>1401.740</td>\n",
       "      <td>4810.800</td>\n",
       "      <td>...</td>\n",
       "      <td>2.250807</td>\n",
       "      <td>-9.49245</td>\n",
       "      <td>-13.39225</td>\n",
       "      <td>-8.37161</td>\n",
       "      <td>-9.37550</td>\n",
       "      <td>True</td>\n",
       "      <td>True</td>\n",
       "      <td>1</td>\n",
       "      <td>3.688210</td>\n",
       "      <td>0</td>\n",
       "    </tr>\n",
       "    <tr>\n",
       "      <th>4</th>\n",
       "      <td>None</td>\n",
       "      <td>sym_7_mc_4</td>\n",
       "      <td>acs</td>\n",
       "      <td>[Lr]C12C=CC(C=C1)(C=C2)[Lr]</td>\n",
       "      <td>9.58653</td>\n",
       "      <td>8.21739</td>\n",
       "      <td>0.799733</td>\n",
       "      <td>0.24196</td>\n",
       "      <td>2020.860</td>\n",
       "      <td>2526.910</td>\n",
       "      <td>...</td>\n",
       "      <td>2.167731</td>\n",
       "      <td>-15.36924</td>\n",
       "      <td>-18.34929</td>\n",
       "      <td>-14.67475</td>\n",
       "      <td>-15.38911</td>\n",
       "      <td>True</td>\n",
       "      <td>True</td>\n",
       "      <td>1</td>\n",
       "      <td>1.831772</td>\n",
       "      <td>0</td>\n",
       "    </tr>\n",
       "  </tbody>\n",
       "</table>\n",
       "<p>5 rows × 29 columns</p>\n",
       "</div>"
      ],
      "text/plain": [
       "  organic_core  metal_node topology  \\\n",
       "0         None  sym_7_mc_4      acs   \n",
       "1         None  sym_7_mc_4      acs   \n",
       "2         None  sym_7_mc_4      acs   \n",
       "3         None  sym_7_mc_4      acs   \n",
       "4         None  sym_7_mc_4      acs   \n",
       "\n",
       "                                       branch_smiles       lcd       pld  \\\n",
       "0  COc1c(/C=C/c2ccc([Lr])cc2)cc(OC)c(/C=C/c3ccc([...  24.87798  19.29733   \n",
       "1         CSC1=C2CCC(=C(C(=C2SC)[Lr])SC)C(=C1[Lr])SC   7.78281   5.18969   \n",
       "2   O=C(c1cc(O)c(cc1O)[Lr])OOC(=O)c1cc(O)c(cc1O)[Lr]  17.01677  15.91720   \n",
       "3   Oc1c(cc(c(c1O)[Lr])O)c1nnc(nn1)c1ccc(c(c1)O)[Lr]  19.50569  17.17410   \n",
       "4                        [Lr]C12C=CC(C=C1)(C=C2)[Lr]   9.58653   8.21739   \n",
       "\n",
       "    density      avf      avsa      agsa  ...  co2ch4_selectivity  \\\n",
       "0  0.164554  0.75459  1159.130  7044.060  ...            1.786937   \n",
       "1  1.119280  0.07631   978.891   874.575  ...            3.197185   \n",
       "2  0.320703  0.61736  1628.620  5078.290  ...            3.004385   \n",
       "3  0.291374  0.66206  1401.740  4810.800  ...            2.250807   \n",
       "4  0.799733  0.24196  2020.860  2526.910  ...            2.167731   \n",
       "\n",
       "   co2ch4_heat_avg  co2ch4_heat_co2  co2ch4_heat_ch4  co2ch4_heat_molfrac  \\\n",
       "0         -8.58733        -12.08169         -7.92879             -8.61737   \n",
       "1        -20.54264        -24.18495        -18.74239            -20.17205   \n",
       "2        -11.22187        -16.39748         -9.43473            -11.17660   \n",
       "3         -9.49245        -13.39225         -8.37161             -9.37550   \n",
       "4        -15.36924        -18.34929        -14.67475            -15.38911   \n",
       "\n",
       "   selfies_safe  mask  train/test   scscore  id2mof  \n",
       "0          True  True           1  3.384814       0  \n",
       "1          True  True           0  3.176298       0  \n",
       "2          True  True           1  2.668208       0  \n",
       "3          True  True           1  3.688210       0  \n",
       "4          True  True           1  1.831772       0  \n",
       "\n",
       "[5 rows x 29 columns]"
      ]
     },
     "execution_count": 6,
     "metadata": {},
     "output_type": "execute_result"
    }
   ],
   "source": [
    "prop_df = experiments.get_prop_df(csv_file=hparams['files_prop'],\n",
    "                                  targets=hparams['y_labels'],\n",
    "                                  mof2ids=mof2ids,\n",
    "                                  testing=testing,\n",
    "                                  smiles_column=smiles_column,\n",
    "                                  compute_scscore=True)\n",
    "prop_df.head()"
   ]
  },
  {
   "cell_type": "markdown",
   "metadata": {
    "ExecuteTime": {
     "end_time": "2019-09-26T22:30:17.885911Z",
     "start_time": "2019-09-26T22:30:17.854869Z"
    }
   },
   "source": [
    "## Train/test splits and hparams"
   ]
  },
  {
   "cell_type": "code",
   "execution_count": 7,
   "metadata": {
    "ExecuteTime": {
     "end_time": "2020-02-22T01:53:18.222840Z",
     "start_time": "2020-02-22T01:53:17.930557Z"
    },
    "scrolled": false
   },
   "outputs": [
    {
     "name": "stdout",
     "output_type": "stream",
     "text": [
      "Train sizes: 1894967 and   36795\n",
      "Test  sizes:  154997 and    4107\n"
     ]
    }
   ],
   "source": [
    "train_index = np.array(df[df[testtrain_column] == 1].index.tolist())\n",
    "test_index = np.array(df[df[testtrain_column] == 0].index.tolist())\n",
    "prop_train_index = np.array(\n",
    "    prop_df[prop_df[testtrain_column] == 1].index.tolist())\n",
    "prop_test_index = np.array(\n",
    "    prop_df[prop_df[testtrain_column] == 0].index.tolist())\n",
    "print(f'Train sizes: {len(train_index):7d} and {len(prop_train_index):7d}')\n",
    "print(f'Test  sizes: {len(test_index):7d} and {len(prop_test_index):7d}')"
   ]
  },
  {
   "cell_type": "markdown",
   "metadata": {},
   "source": [
    "# Vocabulary and preprocessors"
   ]
  },
  {
   "cell_type": "code",
   "execution_count": 8,
   "metadata": {
    "ExecuteTime": {
     "end_time": "2020-02-22T01:55:21.609671Z",
     "start_time": "2020-02-22T01:53:18.223723Z"
    },
    "scrolled": true
   },
   "outputs": [
    {
     "data": {
      "application/vnd.jupyter.widget-view+json": {
       "model_id": "4990fdea02ce44fdb8601bed0846264c",
       "version_major": 2,
       "version_minor": 0
      },
      "text/plain": [
       "HBox(children=(FloatProgress(value=0.0, max=2090866.0), HTML(value='')))"
      ]
     },
     "metadata": {},
     "output_type": "display_data"
    },
    {
     "name": "stdout",
     "output_type": "stream",
     "text": [
      "\n",
      "Alphabet size is 73\n",
      "Max seq length is 109 with 5 extra padding\n",
      "Used columns =['metal_node', 'organic_core', 'topology', 'id2mof'] with frequency weighting=True\n",
      "metal_node   has 15 classes\n",
      "organic_core has 52 classes\n",
      "topology     has 41 classes\n",
      "id2mof       has 713 classes\n"
     ]
    },
    {
     "data": {
      "text/plain": [
       "(<vaemof.vocabs.SELFIESVocab at 0x7f8ad9ad1550>,\n",
       " <vaemof.vocabs.MOFVocab at 0x7f8bcd38d290>,\n",
       " <vaemof.vocabs.PropVocab at 0x7f8bd6d95150>)"
      ]
     },
     "execution_count": 8,
     "metadata": {},
     "output_type": "execute_result"
    }
   ],
   "source": [
    "smiles_list = df[smiles_column].tolist()+prop_df[smiles_column].tolist()\n",
    "vocab = SELFIESVocab.from_data(smiles_list)\n",
    "vocab_mof = MOFVocab.from_data(df.append(\n",
    "    prop_df, sort=False), mof_columns, weighting=hparams['mof_weighted_loss'])\n",
    "vocab_y = PropVocab.from_data(\n",
    "    prop_df, hparams['y_labels'], hparams['y_weights'])\n",
    "vocab, vocab_mof, vocab_y"
   ]
  },
  {
   "cell_type": "markdown",
   "metadata": {},
   "source": [
    "# Instanciate Model\n",
    "\n",
    "## Careful! (it saves and will overwrite any model previously saved)"
   ]
  },
  {
   "cell_type": "code",
   "execution_count": 9,
   "metadata": {
    "ExecuteTime": {
     "end_time": "2020-02-22T01:55:23.404202Z",
     "start_time": "2020-02-22T01:55:21.611138Z"
    },
    "scrolled": true
   },
   "outputs": [
    {
     "data": {
      "text/html": [
       "<h1>VAEMOF</h1>"
      ],
      "text/plain": [
       "<IPython.core.display.HTML object>"
      ]
     },
     "metadata": {},
     "output_type": "display_data"
    },
    {
     "data": {
      "text/html": [
       "<div>\n",
       "<style scoped>\n",
       "    .dataframe tbody tr th:only-of-type {\n",
       "        vertical-align: middle;\n",
       "    }\n",
       "\n",
       "    .dataframe tbody tr th {\n",
       "        vertical-align: top;\n",
       "    }\n",
       "\n",
       "    .dataframe thead th {\n",
       "        text-align: right;\n",
       "    }\n",
       "</style>\n",
       "<table border=\"1\" class=\"dataframe\">\n",
       "  <thead>\n",
       "    <tr style=\"text-align: right;\">\n",
       "      <th></th>\n",
       "      <th>Name</th>\n",
       "      <th>Module</th>\n",
       "      <th>Extra</th>\n",
       "      <th>submodule</th>\n",
       "      <th>trainable</th>\n",
       "      <th>n_params</th>\n",
       "      <th>trainable_params</th>\n",
       "    </tr>\n",
       "  </thead>\n",
       "  <tbody>\n",
       "    <tr>\n",
       "      <th>0</th>\n",
       "      <td>z_mu</td>\n",
       "      <td>Linear</td>\n",
       "      <td>in_features=512, out_features=256, bias=True</td>\n",
       "      <td>False</td>\n",
       "      <td>True</td>\n",
       "      <td>131328</td>\n",
       "      <td>131328</td>\n",
       "    </tr>\n",
       "    <tr>\n",
       "      <th>1</th>\n",
       "      <td>z_logvar</td>\n",
       "      <td>Linear</td>\n",
       "      <td>in_features=512, out_features=256, bias=True</td>\n",
       "      <td>False</td>\n",
       "      <td>True</td>\n",
       "      <td>131328</td>\n",
       "      <td>131328</td>\n",
       "    </tr>\n",
       "    <tr>\n",
       "      <th>2</th>\n",
       "      <td>enc_x</td>\n",
       "      <td>CharEncoder</td>\n",
       "      <td></td>\n",
       "      <td>False</td>\n",
       "      <td>True</td>\n",
       "      <td>390208</td>\n",
       "      <td>390208</td>\n",
       "    </tr>\n",
       "    <tr>\n",
       "      <th>3</th>\n",
       "      <td>dec_x</td>\n",
       "      <td>CharDecoder</td>\n",
       "      <td></td>\n",
       "      <td>False</td>\n",
       "      <td>True</td>\n",
       "      <td>1467016</td>\n",
       "      <td>1467016</td>\n",
       "    </tr>\n",
       "    <tr>\n",
       "      <th>4</th>\n",
       "      <td>enc_mof</td>\n",
       "      <td>MOFEncoder</td>\n",
       "      <td></td>\n",
       "      <td>False</td>\n",
       "      <td>True</td>\n",
       "      <td>407552</td>\n",
       "      <td>407552</td>\n",
       "    </tr>\n",
       "    <tr>\n",
       "      <th>5</th>\n",
       "      <td>dec_mof</td>\n",
       "      <td>MOFDecoder</td>\n",
       "      <td></td>\n",
       "      <td>False</td>\n",
       "      <td>True</td>\n",
       "      <td>277610</td>\n",
       "      <td>276789</td>\n",
       "    </tr>\n",
       "    <tr>\n",
       "      <th>6</th>\n",
       "      <td>dec_y</td>\n",
       "      <td>PropDecoder</td>\n",
       "      <td></td>\n",
       "      <td>False</td>\n",
       "      <td>True</td>\n",
       "      <td>5418</td>\n",
       "      <td>5397</td>\n",
       "    </tr>\n",
       "  </tbody>\n",
       "</table>\n",
       "</div>"
      ],
      "text/plain": [
       "       Name       Module                                         Extra  \\\n",
       "0      z_mu       Linear  in_features=512, out_features=256, bias=True   \n",
       "1  z_logvar       Linear  in_features=512, out_features=256, bias=True   \n",
       "2     enc_x  CharEncoder                                                 \n",
       "3     dec_x  CharDecoder                                                 \n",
       "4   enc_mof   MOFEncoder                                                 \n",
       "5   dec_mof   MOFDecoder                                                 \n",
       "6     dec_y  PropDecoder                                                 \n",
       "\n",
       "   submodule  trainable  n_params  trainable_params  \n",
       "0      False       True    131328            131328  \n",
       "1      False       True    131328            131328  \n",
       "2      False       True    390208            390208  \n",
       "3      False       True   1467016           1467016  \n",
       "4      False       True    407552            407552  \n",
       "5      False       True    277610            276789  \n",
       "6      False       True      5418              5397  "
      ]
     },
     "metadata": {},
     "output_type": "display_data"
    },
    {
     "name": "stdout",
     "output_type": "stream",
     "text": [
      "Trainable params: 2804434 out of 2805276 total (99.97%)\n"
     ]
    }
   ],
   "source": [
    "try:\n",
    "    utils.clear_torch(model)\n",
    "except:\n",
    "    utils.clear_torch(model=None)\n",
    "\n",
    "model = VAEMOF(hparams, vocab, vocab_mof, vocab_y).to(device)\n",
    "model.save()\n",
    "modules.model_summary(model, include_children=False)"
   ]
  },
  {
   "cell_type": "markdown",
   "metadata": {
    "ExecuteTime": {
     "end_time": "2020-02-16T03:37:06.457591Z",
     "start_time": "2020-02-16T03:37:06.438876Z"
    }
   },
   "source": [
    "## Prepare train/test "
   ]
  },
  {
   "cell_type": "code",
   "execution_count": 10,
   "metadata": {
    "ExecuteTime": {
     "end_time": "2020-02-22T01:57:44.239118Z",
     "start_time": "2020-02-22T01:55:23.405392Z"
    },
    "scrolled": true
   },
   "outputs": [
    {
     "data": {
      "application/vnd.jupyter.widget-view+json": {
       "model_id": "f48a28af72d749428f2612dec20d0476",
       "version_major": 2,
       "version_minor": 0
      },
      "text/plain": [
       "HBox(children=(FloatProgress(value=0.0, description='SMILES', max=19.0, style=ProgressStyle(description_width=…"
      ]
     },
     "metadata": {},
     "output_type": "display_data"
    },
    {
     "name": "stdout",
     "output_type": "stream",
     "text": [
      "\n"
     ]
    },
    {
     "data": {
      "application/vnd.jupyter.widget-view+json": {
       "model_id": "d46e8249d95443448d79481eb4a2f576",
       "version_major": 2,
       "version_minor": 0
      },
      "text/plain": [
       "HBox(children=(FloatProgress(value=0.0, description='MOF', max=190.0, style=ProgressStyle(description_width='i…"
      ]
     },
     "metadata": {},
     "output_type": "display_data"
    },
    {
     "name": "stdout",
     "output_type": "stream",
     "text": [
      "\n"
     ]
    },
    {
     "data": {
      "application/vnd.jupyter.widget-view+json": {
       "model_id": "770555fa2f064af3a2f29a9b5c0e494c",
       "version_major": 2,
       "version_minor": 0
      },
      "text/plain": [
       "HBox(children=(FloatProgress(value=0.0, description='MOF', max=16.0, style=ProgressStyle(description_width='in…"
      ]
     },
     "metadata": {},
     "output_type": "display_data"
    },
    {
     "name": "stdout",
     "output_type": "stream",
     "text": [
      "\n"
     ]
    }
   ],
   "source": [
    "train_mof = model.df_to_tuples(df.loc[train_index], smiles_column)\n",
    "test_mof = model.df_to_tuples(df.loc[test_index], smiles_column)\n",
    "prop_train = model.df_to_tuples(prop_df.loc[prop_train_index], smiles_column)\n",
    "prop_test = model.df_to_tuples(prop_df.loc[prop_test_index], smiles_column)\n",
    "train_data = train_mof + prop_train\n",
    "test_data = test_mof + prop_test"
   ]
  },
  {
   "cell_type": "markdown",
   "metadata": {},
   "source": [
    "## Train"
   ]
  },
  {
   "cell_type": "code",
   "execution_count": null,
   "metadata": {
    "ExecuteTime": {
     "start_time": "2020-02-22T01:52:46.763Z"
    },
    "scrolled": true
   },
   "outputs": [
    {
     "data": {
      "application/vnd.jupyter.widget-view+json": {
       "model_id": "bcd4e0c2e3e34702a0c172845f43991b",
       "version_major": 2,
       "version_minor": 0
      },
      "text/plain": [
       "HBox(children=(FloatProgress(value=0.0, description='Epochs', max=60.0, style=ProgressStyle(description_width=…"
      ]
     },
     "metadata": {},
     "output_type": "display_data"
    },
    {
     "data": {
      "application/vnd.jupyter.widget-view+json": {
       "model_id": "21471dac2d9f48aeb6a459f7da6acd1e",
       "version_major": 2,
       "version_minor": 0
      },
      "text/plain": [
       "HBox(children=(FloatProgress(value=0.0, description='Train', max=1257.0, style=ProgressStyle(description_width…"
      ]
     },
     "metadata": {},
     "output_type": "display_data"
    }
   ],
   "source": [
    "trainer = training.Trainer(hparams)\n",
    "trainer.train(model, train_data, test_data)"
   ]
  },
  {
   "cell_type": "markdown",
   "metadata": {},
   "source": [
    "# Results\n",
    "## Load saved model"
   ]
  },
  {
   "cell_type": "code",
   "execution_count": null,
   "metadata": {
    "ExecuteTime": {
     "start_time": "2020-02-22T01:52:58.884Z"
    }
   },
   "outputs": [],
   "source": [
    "hparams_file = os.path.join(WORK_DIR,'config.json')\n",
    "hparams = configs.AttributeDict.from_jsonfile(hparams_file)\n",
    "model = VAEMOF.load(hparams)"
   ]
  },
  {
   "cell_type": "markdown",
   "metadata": {},
   "source": [
    "## Training stats"
   ]
  },
  {
   "cell_type": "code",
   "execution_count": null,
   "metadata": {
    "ExecuteTime": {
     "start_time": "2020-02-22T01:52:59.925Z"
    }
   },
   "outputs": [],
   "source": [
    "log_df = pd.read_csv(configs.at_results_dir(hparams,'files_log'))\n",
    "print(log_df.shape)\n",
    "print(log_df.columns)\n",
    "log_df.head()"
   ]
  },
  {
   "cell_type": "code",
   "execution_count": null,
   "metadata": {
    "ExecuteTime": {
     "start_time": "2020-02-22T01:53:01.464Z"
    },
    "scrolled": true
   },
   "outputs": [],
   "source": [
    "COMPONENTS = training.COMPONENTS\n",
    "epochs = log_df['epoch'].values\n",
    "\n",
    "display(log_df.head(2))\n",
    "plt.plot(epochs, log_df['lr'])\n",
    "plt.title('Learning Rate')\n",
    "plt.show()\n",
    "\n",
    "plt.plot(epochs, log_df['valid_smiles'])\n",
    "plt.title('Valid smiles on validation set')\n",
    "plt.ylim([0,1])\n",
    "plt.show()\n",
    "\n",
    "plt.plot(epochs, log_df['mof_acc'])\n",
    "plt.title('Valid MOFs on validation set')\n",
    "plt.ylim([0,100])\n",
    "plt.show()\n",
    "\n",
    "plt.plot(epochs, log_df['mean_r2'],c='g',label='valid')\n",
    "plt.ylabel('mean r^2')\n",
    "plt.show()\n",
    "\n",
    "results=[]\n",
    "for label in hparams['y_labels']:\n",
    "    metric = f'{label}-r2'\n",
    "    results.extend([{'epoch':epoch,'r2':value,\"prop\":label} for epoch, value in log_df[['epoch',metric]].values ]  )\n",
    "prop_df = pd.DataFrame(results)\n",
    "sns.lineplot(x='epoch',y='r2', data=prop_df)\n",
    "plt.show()\n",
    "\n",
    "for label in COMPONENTS:\n",
    "    plt.plot(epochs, log_df[f'λ_{label}'], label =label)\n",
    "plt.legend()\n",
    "plt.show()\n",
    "\n",
    "for label in COMPONENTS:\n",
    "    plt.plot(epochs, log_df[f'train_{label}'], label='Train')\n",
    "    plt.plot(epochs, log_df[f'test_{label}'], label='Test')\n",
    "    plt.title(f'Loss {label}')\n",
    "    plt.yscale(\"log\")\n",
    "    plt.legend()\n",
    "    plt.show()\n",
    "\n",
    "for prefix in ['train','test']:\n",
    "    for label in COMPONENTS:\n",
    "        plt.plot(epochs, log_df[f'{prefix}_{label}_ratio'], label=label) \n",
    "    plt.title(f'Loss Ratios ({prefix})')\n",
    "    plt.legend()\n",
    "    plt.show()"
   ]
  },
  {
   "cell_type": "code",
   "execution_count": null,
   "metadata": {
    "ExecuteTime": {
     "start_time": "2020-02-22T01:53:02.661Z"
    },
    "scrolled": true
   },
   "outputs": [],
   "source": [
    "print(header_str('Losses'))\n",
    "for label in COMPONENTS:\n",
    "    min_train = np.min(log_df[f'train_{label}'])\n",
    "    min_test = np.min(log_df[f'test_{label}'])\n",
    "    print('{:6s}loss = {:.3e} / {:.3e}'.format(label,min_train,min_test))"
   ]
  },
  {
   "cell_type": "code",
   "execution_count": null,
   "metadata": {
    "ExecuteTime": {
     "start_time": "2020-02-22T01:53:03.487Z"
    }
   },
   "outputs": [],
   "source": [
    "print(header_str('R^2 scores and MAEs'))\n",
    "src_data = prop_test\n",
    "y_true,y_pred = experiments.predict_properties(src_data, model, trainer)\n",
    "\n",
    "for index,col in enumerate(hparams.y_labels):\n",
    "    r2 = sklearn.metrics.r2_score(y_true[:,index],y_pred[:,index])\n",
    "    mae = sklearn.metrics.mean_absolute_error(y_true[:,index],y_pred[:,index])\n",
    "    print('{:20} -> r^2= {:3f}, MAE= {:.3f}'.format(col,r2,mae))"
   ]
  },
  {
   "cell_type": "markdown",
   "metadata": {},
   "source": [
    "## Prior check"
   ]
  },
  {
   "cell_type": "code",
   "execution_count": 46,
   "metadata": {
    "ExecuteTime": {
     "end_time": "2020-02-21T20:29:49.601282Z",
     "start_time": "2020-02-21T20:29:49.555445Z"
    },
    "scrolled": true
   },
   "outputs": [
    {
     "name": "stdout",
     "output_type": "stream",
     "text": [
      "==================================== prior =====================================\n"
     ]
    },
    {
     "data": {
      "application/vnd.jupyter.widget-view+json": {
       "model_id": "d2c7253cc0214c48b8077fc125983987",
       "version_major": 2,
       "version_minor": 0
      },
      "text/plain": [
       "HBox(children=(FloatProgress(value=0.0, description='Generating samples', max=16.0, style=ProgressStyle(descri…"
      ]
     },
     "metadata": {},
     "output_type": "display_data"
    },
    {
     "ename": "TypeError",
     "evalue": "z_to_x() missing 1 required positional argument: 'z'",
     "output_type": "error",
     "traceback": [
      "\u001b[0;31m---------------------------------------------------------------------------\u001b[0m",
      "\u001b[0;31mTypeError\u001b[0m                                 Traceback (most recent call last)",
      "\u001b[0;32m<ipython-input-46-9a72516b2c83>\u001b[0m in \u001b[0;36m<module>\u001b[0;34m\u001b[0m\n\u001b[1;32m      8\u001b[0m     \u001b[0mn_batch\u001b[0m \u001b[0;34m=\u001b[0m \u001b[0mmin\u001b[0m\u001b[0;34m(\u001b[0m\u001b[0mlen\u001b[0m\u001b[0;34m(\u001b[0m\u001b[0mchunk\u001b[0m\u001b[0;34m)\u001b[0m\u001b[0;34m,\u001b[0m \u001b[0mbatch_size\u001b[0m\u001b[0;34m)\u001b[0m\u001b[0;34m\u001b[0m\u001b[0;34m\u001b[0m\u001b[0m\n\u001b[1;32m      9\u001b[0m     \u001b[0mz\u001b[0m \u001b[0;34m=\u001b[0m \u001b[0mmodel\u001b[0m\u001b[0;34m.\u001b[0m\u001b[0msample_z_prior\u001b[0m\u001b[0;34m(\u001b[0m\u001b[0mn_batch\u001b[0m\u001b[0;34m)\u001b[0m\u001b[0;34m\u001b[0m\u001b[0;34m\u001b[0m\u001b[0m\n\u001b[0;32m---> 10\u001b[0;31m     \u001b[0msmiles_list\u001b[0m \u001b[0;34m=\u001b[0m \u001b[0mCharDecoder\u001b[0m\u001b[0;34m.\u001b[0m\u001b[0mz_to_x\u001b[0m\u001b[0;34m(\u001b[0m\u001b[0mz\u001b[0m\u001b[0;34m)\u001b[0m\u001b[0;34m\u001b[0m\u001b[0;34m\u001b[0m\u001b[0m\n\u001b[0m\u001b[1;32m     11\u001b[0m     \u001b[0mmof_list\u001b[0m \u001b[0;34m=\u001b[0m \u001b[0mmodel\u001b[0m\u001b[0;34m.\u001b[0m\u001b[0mz_to_mof\u001b[0m\u001b[0;34m(\u001b[0m\u001b[0mz\u001b[0m\u001b[0;34m)\u001b[0m\u001b[0;34m\u001b[0m\u001b[0;34m\u001b[0m\u001b[0m\n\u001b[1;32m     12\u001b[0m     \u001b[0msamples\u001b[0m\u001b[0;34m.\u001b[0m\u001b[0mextend\u001b[0m\u001b[0;34m(\u001b[0m\u001b[0;34m[\u001b[0m \u001b[0;34m[\u001b[0m\u001b[0msmi\u001b[0m\u001b[0;34m]\u001b[0m\u001b[0;34m+\u001b[0m\u001b[0mmof\u001b[0m \u001b[0;32mfor\u001b[0m \u001b[0msmi\u001b[0m\u001b[0;34m,\u001b[0m\u001b[0mmof\u001b[0m \u001b[0;32min\u001b[0m \u001b[0mzip\u001b[0m\u001b[0;34m(\u001b[0m\u001b[0msmiles_list\u001b[0m\u001b[0;34m,\u001b[0m\u001b[0mmof_list\u001b[0m\u001b[0;34m)\u001b[0m\u001b[0;34m]\u001b[0m\u001b[0;34m)\u001b[0m\u001b[0;34m\u001b[0m\u001b[0;34m\u001b[0m\u001b[0m\n",
      "\u001b[0;31mTypeError\u001b[0m: z_to_x() missing 1 required positional argument: 'z'"
     ]
    }
   ],
   "source": [
    "print(header_str('prior'))\n",
    "samples = []\n",
    "n = 1024\n",
    "batch_size=64\n",
    "n_loops = int(np.ceil(n/batch_size))\n",
    "for chunk in  tqdm(vaemof.utils.chunks(list(range(n)),batch_size),total=n_loops, desc='Generating samples'):\n",
    "    n_batch = min(len(chunk), batch_size)\n",
    "    z = model.sample_z_prior(n_batch)\n",
    "    smiles_list = CharDecoder.z_to_x(z)\n",
    "    mof_list = model.z_to_mof(z)\n",
    "    samples.extend([ [smi]+mof for smi,mof in zip(smiles_list,mof_list)])\n",
    "    \n",
    "gen_df = pd.DataFrame(samples,columns=[smiles_column]+mof_columns)\n",
    "gen_df['valid'] = gen_df[smiles_column].apply(models.utils.valid_smiles)\n",
    "print('valid smiles: {} out of {} ({}%)'.format(gen_df['valid'].sum(),n,gen_df['valid'].sum()/n*100.0))\n",
    "\n",
    "gen_df"
   ]
  },
  {
   "cell_type": "markdown",
   "metadata": {},
   "source": [
    "## Posterior check"
   ]
  },
  {
   "cell_type": "code",
   "execution_count": 45,
   "metadata": {
    "ExecuteTime": {
     "end_time": "2020-02-21T20:24:03.287209Z",
     "start_time": "2020-02-21T20:24:03.221559Z"
    }
   },
   "outputs": [
    {
     "name": "stdout",
     "output_type": "stream",
     "text": [
      "=============================== Posterior check ================================\n",
      "1000\n"
     ]
    },
    {
     "data": {
      "application/vnd.jupyter.widget-view+json": {
       "model_id": "ab1a23fd7a4e42adb12063d9fb8f00a5",
       "version_major": 2,
       "version_minor": 0
      },
      "text/plain": [
       "HBox(children=(FloatProgress(value=0.0, max=1000.0), HTML(value='')))"
      ]
     },
     "metadata": {},
     "output_type": "display_data"
    },
    {
     "name": "stdout",
     "output_type": "stream",
     "text": [
      "([70, 45, 20, 27, 64, 45, 63, 63, 65, 27, 64, 42, 65, 63, 47, 25, 42, 71], array([  7,  32,  15, 202]), array([-5000., -5000., -5000., -5000., -5000., -5000., -5000., -5000.,\n",
      "       -5000., -5000., -5000., -5000., -5000., -5000., -5000., -5000.,\n",
      "       -5000., -5000., -5000., -5000., -5000.], dtype=float32), 0.0)\n",
      "[  7  32  15 202]\n"
     ]
    },
    {
     "ename": "TypeError",
     "evalue": "ids_to_mof() missing 1 required positional argument: 'ids'",
     "output_type": "error",
     "traceback": [
      "\u001b[0;31m---------------------------------------------------------------------------\u001b[0m",
      "\u001b[0;31mTypeError\u001b[0m                                 Traceback (most recent call last)",
      "\u001b[0;32m<ipython-input-45-08e412be1ac3>\u001b[0m in \u001b[0;36m<module>\u001b[0;34m\u001b[0m\n\u001b[1;32m     18\u001b[0m         \u001b[0mtrue_smiles\u001b[0m \u001b[0;34m=\u001b[0m \u001b[0mvaemof\u001b[0m\u001b[0;34m.\u001b[0m\u001b[0mvocabs\u001b[0m\u001b[0;34m.\u001b[0m\u001b[0misosmiles\u001b[0m\u001b[0;34m(\u001b[0m\u001b[0mvocab\u001b[0m\u001b[0;34m.\u001b[0m\u001b[0mids_to_string\u001b[0m\u001b[0;34m(\u001b[0m\u001b[0mt\u001b[0m\u001b[0;34m[\u001b[0m\u001b[0;36m0\u001b[0m\u001b[0;34m]\u001b[0m\u001b[0;34m)\u001b[0m\u001b[0;34m)\u001b[0m\u001b[0;34m\u001b[0m\u001b[0;34m\u001b[0m\u001b[0m\n\u001b[1;32m     19\u001b[0m         \u001b[0mprint\u001b[0m\u001b[0;34m(\u001b[0m\u001b[0mt\u001b[0m\u001b[0;34m[\u001b[0m\u001b[0;36m1\u001b[0m\u001b[0;34m]\u001b[0m\u001b[0;34m)\u001b[0m\u001b[0;34m\u001b[0m\u001b[0;34m\u001b[0m\u001b[0m\n\u001b[0;32m---> 20\u001b[0;31m         \u001b[0mtrue_mof\u001b[0m \u001b[0;34m=\u001b[0m \u001b[0mMOFVocab\u001b[0m\u001b[0;34m.\u001b[0m\u001b[0mids_to_mof\u001b[0m\u001b[0;34m(\u001b[0m\u001b[0mt\u001b[0m\u001b[0;34m[\u001b[0m\u001b[0;36m1\u001b[0m\u001b[0;34m]\u001b[0m\u001b[0;34m)\u001b[0m\u001b[0;34m\u001b[0m\u001b[0;34m\u001b[0m\u001b[0m\n\u001b[0m\u001b[1;32m     21\u001b[0m         \u001b[0mx_tensor\u001b[0m\u001b[0;34m,\u001b[0m\u001b[0mmof\u001b[0m\u001b[0;34m,\u001b[0m\u001b[0my\u001b[0m\u001b[0;34m,\u001b[0m\u001b[0my_mask\u001b[0m \u001b[0;34m=\u001b[0m \u001b[0mtrainer\u001b[0m\u001b[0;34m.\u001b[0m\u001b[0mget_collate_fn\u001b[0m\u001b[0;34m(\u001b[0m\u001b[0mmodel\u001b[0m\u001b[0;34m)\u001b[0m\u001b[0;34m(\u001b[0m\u001b[0mbatch\u001b[0m\u001b[0;34m)\u001b[0m\u001b[0;34m\u001b[0m\u001b[0;34m\u001b[0m\u001b[0m\n\u001b[1;32m     22\u001b[0m         \u001b[0m_\u001b[0m\u001b[0;34m,\u001b[0m \u001b[0mz_tensor\u001b[0m \u001b[0;34m=\u001b[0m \u001b[0mmodel\u001b[0m\u001b[0;34m.\u001b[0m\u001b[0mforward_encoder\u001b[0m\u001b[0;34m(\u001b[0m\u001b[0mx_tensor\u001b[0m\u001b[0;34m,\u001b[0m\u001b[0mmof\u001b[0m\u001b[0;34m)\u001b[0m\u001b[0;34m\u001b[0m\u001b[0;34m\u001b[0m\u001b[0m\n",
      "\u001b[0;31mTypeError\u001b[0m: ids_to_mof() missing 1 required positional argument: 'ids'"
     ]
    }
   ],
   "source": [
    "print(header_str('Posterior check'))\n",
    "\n",
    "tries=2\n",
    "sub_sample =1000\n",
    "src_data = train_data\n",
    "src_data = random.sample(src_data,min(len(src_data),sub_sample))\n",
    "valid_smiles=[]\n",
    "recon_smiles=[]\n",
    "n = len(src_data)\n",
    "results=[]\n",
    "mof_results=[]\n",
    "print(n)\n",
    "with torch.no_grad():\n",
    "    for t in tqdm(src_data):        \n",
    "        batch = [t]*tries\n",
    "        true_smiles = vaemof.vocabs.isosmiles(vocab.ids_to_string(t[0]))\n",
    "        true_mof = MOFVocab.ids_to_mof(t[1])\n",
    "        \n",
    "        x_tensor = model.tuples_to_tensors(chunk)['x']\n",
    "        mof_tensor = model.tuples_to_tensors(chunk)['mof']\n",
    "        y_tensor = model.tuples_to_tensors(chunk)['y']\n",
    "        y_mask = model.tuples_to_tensors(chunk)['y_mask']\n",
    "        losses,outs = model.forward(x_tensor,mof_tensor,y_tensor,y_mask)\n",
    "        #x_tensor,mof,y,y_mask = trainer.get_collate_fn(model)(batch)\n",
    "        #_, z_tensor = model.forward_encoder(x_tensor,mof)\n",
    "        #mof_list = np.array(model.z_to_mof(z_tensor))\n",
    "        pred_mof = [mof_list[:,i].tolist() for i in range(3)]\n",
    "        acc_mof = any([ all(i==true_mof) for i in mof_list])\n",
    "        _, x_recon_tensor = model.forward_x_decoder(x_tensor,z_tensor)\n",
    "        re_smiles = [model.tensor2string(x_i) for x_i in x_recon_tensor]\n",
    "        valid_smiles = [si for si in set(re_smiles) if models.utils.valid_smiles(si)]\n",
    "        valid_smiles = [isosmiles(si) for si in valid_smiles]\n",
    "        same_smiles = [si for si in valid_smiles if si==true_smiles]\n",
    "        results.append([true_smiles, re_smiles[0], len(same_smiles)>0,len(valid_smiles)>0])\n",
    "        mof_results.append(acc_mof)\n",
    "\n",
    "        \n",
    "post_df = pd.DataFrame(results,columns=['smiles','recon_smiles','same','valid'])\n",
    "print('valid: {} out of {} ({:.2f}%)'.format(post_df['valid'].sum(),n,post_df['valid'].sum()/n*100.0))\n",
    "print('same : {} out of {} ({:.2f}%)'.format(post_df['same'].sum(),n,post_df['same'].sum()/n*100.0))\n",
    "display(post_df.head(1))\n",
    "print('Mof recon acc: {}'.format(float(sum(mof_results))/float(len(mof_results))))"
   ]
  },
  {
   "cell_type": "code",
   "execution_count": null,
   "metadata": {
    "ExecuteTime": {
     "end_time": "2020-02-16T00:19:38.440761Z",
     "start_time": "2020-02-16T00:19:31.719Z"
    }
   },
   "outputs": [],
   "source": [
    "sub_sample = 10000\n",
    "src_data = train_data\n",
    "src_data = random.sample(src_data,min(len(src_data),sub_sample))\n",
    "n = len(src_data)\n",
    "batch_size=64\n",
    "n_loops = int(np.ceil(n/batch_size))\n",
    "z=[]\n",
    "mof=[]\n",
    "mof_ids=[]\n",
    "with torch.no_grad():\n",
    "    for chunk in  tqdm(models.utils.chunks(src_data,batch_size),total=n_loops, desc='Generating samples'):\n",
    "        mof.extend([mof_vocab.ids2mof(t[1]) for t in chunk])\n",
    "        x_tensor,mof_tensor,y, y_mask = trainer.get_collate_fn(model)(chunk)\n",
    "        _, z_tensor = model.forward_encoder(x_tensor,mof_tensor)\n",
    "        z.extend(z_tensor.cpu().numpy())\n",
    "        mof_ids.extend([mof_vocab.ids2mof(t) for t in mof_tensor.cpu().numpy()])\n",
    "        \n",
    "z = np.stack(z)\n",
    "z_pca = PCA(2).fit_transform(z)\n",
    "z_df = pd.DataFrame(mof,columns=mof_columns)\n",
    "z_df['x']=z_pca[:,0]\n",
    "z_df['y']=z_pca[:,1]\n",
    "mof_ids = np.stack(mof_ids)\n",
    "print(z.shape,mof_ids.shape)"
   ]
  },
  {
   "cell_type": "code",
   "execution_count": null,
   "metadata": {
    "ExecuteTime": {
     "end_time": "2020-02-16T00:19:38.441839Z",
     "start_time": "2020-02-16T00:19:31.722Z"
    }
   },
   "outputs": [],
   "source": [
    "top_k=8\n",
    "for index,col in enumerate(mof_columns):\n",
    "    print(models.utils.header_str(col))\n",
    "    plt.figure(figsize=(8,8))\n",
    "    top_cat = z_df[col].value_counts(sort=True).iloc[:top_k].index.tolist()\n",
    "    sns.scatterplot(x='x',y='y',hue=col,s=20,data=z_df[z_df[col].isin(top_cat)])\n",
    "    plt.legend(bbox_to_anchor=(1.0, .5))\n",
    "    plt.title(col)\n",
    "    plt.show()"
   ]
  },
  {
   "cell_type": "code",
   "execution_count": null,
   "metadata": {},
   "outputs": [],
   "source": []
  }
 ],
 "metadata": {
  "kernelspec": {
   "display_name": "Python 3",
   "language": "python",
   "name": "python3"
  },
  "language_info": {
   "codemirror_mode": {
    "name": "ipython",
    "version": 3
   },
   "file_extension": ".py",
   "mimetype": "text/x-python",
   "name": "python",
   "nbconvert_exporter": "python",
   "pygments_lexer": "ipython3",
   "version": "3.7.6"
  },
  "toc": {
   "base_numbering": 1,
   "nav_menu": {},
   "number_sections": true,
   "sideBar": true,
   "skip_h1_title": false,
   "title_cell": "Table of Contents",
   "title_sidebar": "Contents",
   "toc_cell": false,
   "toc_position": {},
   "toc_section_display": true,
   "toc_window_display": false
  }
 },
 "nbformat": 4,
 "nbformat_minor": 2
}
