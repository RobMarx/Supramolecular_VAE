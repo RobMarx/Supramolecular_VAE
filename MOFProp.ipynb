{
 "cells": [
  {
   "cell_type": "code",
   "execution_count": 1,
   "metadata": {
    "ExecuteTime": {
     "end_time": "2020-02-27T06:20:58.363620Z",
     "start_time": "2020-02-27T06:20:58.348354Z"
    }
   },
   "outputs": [],
   "source": [
    "%load_ext autoreload\n",
    "%autoreload 2"
   ]
  },
  {
   "cell_type": "code",
   "execution_count": 2,
   "metadata": {
    "ExecuteTime": {
     "end_time": "2020-02-27T06:21:01.053815Z",
     "start_time": "2020-02-27T06:20:59.017992Z"
    }
   },
   "outputs": [
    {
     "name": "stderr",
     "output_type": "stream",
     "text": [
      "RDKit WARNING: [01:20:59] Enabling RDKit 2019.09.3 jupyter extensions\n",
      "/home/beangoben/anaconda3/lib/python3.7/site-packages/tqdm/std.py:658: FutureWarning: The Panel class is removed from pandas. Accessing it from the top-level namespace will also be removed in the next version\n",
      "  from pandas import Panel\n"
     ]
    }
   ],
   "source": [
    "import vaemof\n",
    "from vaemof import experiments\n",
    "from vaemof import utils\n",
    "from vaemof.vocabs import SELFIESVocab, MOFVocab, PropVocab\n",
    "from vaemof import modules\n",
    "from vaemof import training\n",
    "from vaemof.model import VAEMOF\n",
    "from vaemof import configs\n",
    "\n",
    "from vaemof.utils import header_str\n",
    "vaemof.experiments.plot_settings()"
   ]
  },
  {
   "cell_type": "code",
   "execution_count": 21,
   "metadata": {
    "ExecuteTime": {
     "end_time": "2020-02-27T06:32:57.626031Z",
     "start_time": "2020-02-27T06:32:57.586083Z"
    }
   },
   "outputs": [
    {
     "name": "stdout",
     "output_type": "stream",
     "text": [
      "rdkit : 2019.09.3\n",
      "torch : 1.4.0\n",
      "cuda? False\n"
     ]
    },
    {
     "name": "stderr",
     "output_type": "stream",
     "text": [
      "/home/beangoben/anaconda3/lib/python3.7/site-packages/tqdm/std.py:658: FutureWarning: The Panel class is removed from pandas. Accessing it from the top-level namespace will also be removed in the next version\n",
      "  from pandas import Panel\n"
     ]
    }
   ],
   "source": [
    "import os\n",
    "import random\n",
    "from tqdm.auto import tqdm\n",
    "import numpy as np\n",
    "import torch\n",
    "import rdkit\n",
    "import pandas as pd\n",
    "import matplotlib.pyplot as plt\n",
    "import seaborn as sns\n",
    "import sklearn\n",
    "from sklearn.decomposition import PCA\n",
    "from itertools import product\n",
    "from more_itertools import chunked\n",
    "from collections import OrderedDict\n",
    "\n",
    "print(f'rdkit : {rdkit.__version__}')\n",
    "print(f'torch : {torch.__version__}')\n",
    "print(f'cuda? {torch.cuda.is_available()}')\n",
    "tqdm.pandas()\n",
    "utils.disable_rdkit_log()"
   ]
  },
  {
   "cell_type": "markdown",
   "metadata": {},
   "source": [
    "## Hparams"
   ]
  },
  {
   "cell_type": "code",
   "execution_count": 5,
   "metadata": {
    "ExecuteTime": {
     "end_time": "2020-02-27T06:21:42.278420Z",
     "start_time": "2020-02-27T06:21:42.225086Z"
    },
    "scrolled": true
   },
   "outputs": [
    {
     "name": "stdout",
     "output_type": "stream",
     "text": [
      "==================================== mof_y =====================================\n",
      "==================================== config ====================================\n",
      "== train == :\n",
      "        train_device:                 cpu\n",
      "          train_seed:                  42\n",
      "    train_batch_size:                  64\n",
      "        train_epochs:                  20\n",
      "            train_lr:0.00013138571209279765\n",
      "     train_clip_grad:                  20\n",
      "== vae == :\n",
      "      vae_latent_dim:                 256\n",
      "           vae_y_dec:                True\n",
      "     vae_selfies_dec:               False\n",
      "         vae_mof_enc:                True\n",
      "         vae_mof_dec:               False\n",
      "vae_duplicate_smiles:                True\n",
      "== mof == :\n",
      "        mof_encoding:                cats\n",
      "   mof_weighted_loss:               False\n",
      "         mof_w_start:                 0.0\n",
      "           mof_w_end:                 0.5\n",
      "           mof_start:                  15\n",
      "    mof_const_length:                  10\n",
      "== y == :\n",
      "            y_labels:['lcd', 'pld', 'density', 'avf', 'avsa', 'agsa', 'co2n2_co2_mol_kg', 'co2n2_n2_mol_kg', 'co2n2_selectivity', 'co2n2_heat_avg', 'co2n2_heat_co2', 'co2n2_heat_n2', 'co2n2_heat_molfrac', 'co2ch4_co2_mol_kg', 'co2ch4_ch4_mol_kg', 'co2ch4_selectivity', 'co2ch4_heat_avg', 'co2ch4_heat_co2', 'co2ch4_heat_ch4', 'co2ch4_heat_molfrac', 'scscore']\n",
      "           y_weights:[1, 1, 1, 1, 1, 1, 1, 1, 1, 1, 1, 1, 1, 1, 1, 1, 1, 1, 1, 1, 1]\n",
      "           y_w_start:                 1.0\n",
      "             y_w_end:                 1.0\n",
      "             y_start:                  15\n",
      "      y_const_length:                  10\n",
      "== files == :\n",
      "          files_data:data/MOF_gen_train.csv.gz\n",
      "          files_prop:data/MOF_properties_train.csv.gz\n",
      "       files_results:        results/prop\n",
      "        files_config:         config.json\n",
      "           files_log:             log.csv\n",
      "== kl == :\n",
      "     kl_cycle_length:                  15\n",
      "   kl_cycle_constant:                   3\n",
      "     kl_weight_start:                 0.0\n",
      "       kl_weight_end:                 0.0\n",
      "== enc == :\n",
      "      enc_hidden_dim:                 768\n",
      "        enc_n_layers:                   1\n",
      "         enc_dropout:                0.18\n",
      "== dec == :\n",
      "      dec_hidden_dim:                 192\n",
      "        dec_n_layers:                   2\n",
      "         dec_dropout:                0.12\n"
     ]
    }
   ],
   "source": [
    "preset = 'mof_y'\n",
    "WORK_DIR = 'results/prop'\n",
    "hparams = configs.get_model_config(WORK_DIR, preset, rand=False)\n",
    "print(utils.header_str(preset))\n",
    "hparams['train_device'] = 'cuda' if torch.cuda.is_available() else 'cpu'\n",
    "\n",
    "testing = configs.testing_config(hparams)\n",
    "configs.print_config(hparams)\n",
    "utils.set_seed(hparams['train_seed'])\n",
    "device = torch.device(hparams['train_device'])"
   ]
  },
  {
   "cell_type": "markdown",
   "metadata": {},
   "source": [
    "## Load property data"
   ]
  },
  {
   "cell_type": "code",
   "execution_count": 6,
   "metadata": {
    "ExecuteTime": {
     "end_time": "2020-02-27T06:22:07.559522Z",
     "start_time": "2020-02-27T06:22:01.425931Z"
    },
    "scrolled": true
   },
   "outputs": [
    {
     "name": "stdout",
     "output_type": "stream",
     "text": [
      "=================================== Testing ====================================\n",
      "df shape: (713, 9)\n",
      "df columns: ['index', 'branch_smiles', 'id2mof', 'metal_node', 'mof_index', 'organic_core', 'randomized', 'topology', 'train/test']\n",
      "Found 713 unique mofs\n",
      "=================================== Testing ====================================\n",
      "Restored variables from data/scscore_1024uint8_model.ckpt-10654.as_numpy.json.gz\n"
     ]
    },
    {
     "data": {
      "application/vnd.jupyter.widget-view+json": {
       "model_id": "b43b0e600766479fb95aa0e3e49d10f7",
       "version_major": 2,
       "version_minor": 0
      },
      "text/plain": [
       "HBox(children=(FloatProgress(value=0.0, max=1000.0), HTML(value='')))"
      ]
     },
     "metadata": {},
     "output_type": "display_data"
    },
    {
     "name": "stdout",
     "output_type": "stream",
     "text": [
      "\n",
      "Removed 68 datapoints due to mask.\n",
      "Removed 40 datapoints due non-valid mof (mof2ids).\n",
      "Removed 4 datapoints due to high selectivity.\n"
     ]
    },
    {
     "data": {
      "text/html": [
       "<div>\n",
       "<style scoped>\n",
       "    .dataframe tbody tr th:only-of-type {\n",
       "        vertical-align: middle;\n",
       "    }\n",
       "\n",
       "    .dataframe tbody tr th {\n",
       "        vertical-align: top;\n",
       "    }\n",
       "\n",
       "    .dataframe thead th {\n",
       "        text-align: right;\n",
       "    }\n",
       "</style>\n",
       "<table border=\"1\" class=\"dataframe\">\n",
       "  <thead>\n",
       "    <tr style=\"text-align: right;\">\n",
       "      <th></th>\n",
       "      <th>organic_core</th>\n",
       "      <th>metal_node</th>\n",
       "      <th>topology</th>\n",
       "      <th>branch_smiles</th>\n",
       "      <th>lcd</th>\n",
       "      <th>pld</th>\n",
       "      <th>density</th>\n",
       "      <th>avf</th>\n",
       "      <th>avsa</th>\n",
       "      <th>agsa</th>\n",
       "      <th>...</th>\n",
       "      <th>co2ch4_selectivity</th>\n",
       "      <th>co2ch4_heat_avg</th>\n",
       "      <th>co2ch4_heat_co2</th>\n",
       "      <th>co2ch4_heat_ch4</th>\n",
       "      <th>co2ch4_heat_molfrac</th>\n",
       "      <th>selfies_safe</th>\n",
       "      <th>mask</th>\n",
       "      <th>train/test</th>\n",
       "      <th>scscore</th>\n",
       "      <th>id2mof</th>\n",
       "    </tr>\n",
       "  </thead>\n",
       "  <tbody>\n",
       "    <tr>\n",
       "      <th>0</th>\n",
       "      <td>sym_5_vae_70</td>\n",
       "      <td>sym_8_mc_7</td>\n",
       "      <td>scu</td>\n",
       "      <td>[Lr]c1ccc(o1)[Lr]</td>\n",
       "      <td>6.92684</td>\n",
       "      <td>3.03360</td>\n",
       "      <td>1.143760</td>\n",
       "      <td>0.00000</td>\n",
       "      <td>0.000</td>\n",
       "      <td>0.00</td>\n",
       "      <td>...</td>\n",
       "      <td>0.000000</td>\n",
       "      <td>0.00000</td>\n",
       "      <td>0.00000</td>\n",
       "      <td>0.00000</td>\n",
       "      <td>0.00000</td>\n",
       "      <td>True</td>\n",
       "      <td>True</td>\n",
       "      <td>1</td>\n",
       "      <td>1.466316</td>\n",
       "      <td>451</td>\n",
       "    </tr>\n",
       "    <tr>\n",
       "      <th>1</th>\n",
       "      <td>sym_5_vae_1038</td>\n",
       "      <td>sym_5_mc_2</td>\n",
       "      <td>ssa</td>\n",
       "      <td>[Lr]c1sc(c2c1OCCO2)[Lr]</td>\n",
       "      <td>22.43124</td>\n",
       "      <td>20.60178</td>\n",
       "      <td>0.421659</td>\n",
       "      <td>0.56582</td>\n",
       "      <td>1624.620</td>\n",
       "      <td>3852.92</td>\n",
       "      <td>...</td>\n",
       "      <td>3.036957</td>\n",
       "      <td>-12.71150</td>\n",
       "      <td>-18.03664</td>\n",
       "      <td>-11.03007</td>\n",
       "      <td>-12.79457</td>\n",
       "      <td>True</td>\n",
       "      <td>True</td>\n",
       "      <td>0</td>\n",
       "      <td>2.445184</td>\n",
       "      <td>405</td>\n",
       "    </tr>\n",
       "    <tr>\n",
       "      <th>2</th>\n",
       "      <td>sym_4_vae_153</td>\n",
       "      <td>sym_9_mc_5</td>\n",
       "      <td>iac</td>\n",
       "      <td>[Lr]c1ccc(cc1)C#C[Lr]</td>\n",
       "      <td>14.39486</td>\n",
       "      <td>12.29328</td>\n",
       "      <td>0.468486</td>\n",
       "      <td>0.54877</td>\n",
       "      <td>1846.740</td>\n",
       "      <td>3941.94</td>\n",
       "      <td>...</td>\n",
       "      <td>2.246914</td>\n",
       "      <td>-10.97052</td>\n",
       "      <td>-14.84627</td>\n",
       "      <td>-9.85140</td>\n",
       "      <td>-10.84985</td>\n",
       "      <td>True</td>\n",
       "      <td>True</td>\n",
       "      <td>1</td>\n",
       "      <td>1.743814</td>\n",
       "      <td>186</td>\n",
       "    </tr>\n",
       "    <tr>\n",
       "      <th>3</th>\n",
       "      <td>sym_5_vae_BR3264</td>\n",
       "      <td>sym_9_mc_5</td>\n",
       "      <td>soc</td>\n",
       "      <td>[Lr]c1c(C)nn([Lr])c1C</td>\n",
       "      <td>13.94895</td>\n",
       "      <td>10.49463</td>\n",
       "      <td>0.659699</td>\n",
       "      <td>0.41073</td>\n",
       "      <td>1831.680</td>\n",
       "      <td>2776.53</td>\n",
       "      <td>...</td>\n",
       "      <td>4.668019</td>\n",
       "      <td>-16.33142</td>\n",
       "      <td>-22.63069</td>\n",
       "      <td>-13.42098</td>\n",
       "      <td>-16.57039</td>\n",
       "      <td>True</td>\n",
       "      <td>True</td>\n",
       "      <td>1</td>\n",
       "      <td>2.306571</td>\n",
       "      <td>509</td>\n",
       "    </tr>\n",
       "    <tr>\n",
       "      <th>4</th>\n",
       "      <td>sym_5_vae_795</td>\n",
       "      <td>sym_4_mc_1</td>\n",
       "      <td>pth</td>\n",
       "      <td>O=C1c2c(c3ccc([Lr])cc31)ccc([Lr])c2</td>\n",
       "      <td>23.45655</td>\n",
       "      <td>21.13022</td>\n",
       "      <td>0.146984</td>\n",
       "      <td>0.78696</td>\n",
       "      <td>967.072</td>\n",
       "      <td>6579.45</td>\n",
       "      <td>...</td>\n",
       "      <td>1.855461</td>\n",
       "      <td>-8.26031</td>\n",
       "      <td>-11.89364</td>\n",
       "      <td>-7.56506</td>\n",
       "      <td>-8.30322</td>\n",
       "      <td>True</td>\n",
       "      <td>True</td>\n",
       "      <td>1</td>\n",
       "      <td>3.012280</td>\n",
       "      <td>257</td>\n",
       "    </tr>\n",
       "  </tbody>\n",
       "</table>\n",
       "<p>5 rows × 29 columns</p>\n",
       "</div>"
      ],
      "text/plain": [
       "       organic_core  metal_node topology                        branch_smiles  \\\n",
       "0      sym_5_vae_70  sym_8_mc_7      scu                    [Lr]c1ccc(o1)[Lr]   \n",
       "1    sym_5_vae_1038  sym_5_mc_2      ssa              [Lr]c1sc(c2c1OCCO2)[Lr]   \n",
       "2     sym_4_vae_153  sym_9_mc_5      iac                [Lr]c1ccc(cc1)C#C[Lr]   \n",
       "3  sym_5_vae_BR3264  sym_9_mc_5      soc                [Lr]c1c(C)nn([Lr])c1C   \n",
       "4     sym_5_vae_795  sym_4_mc_1      pth  O=C1c2c(c3ccc([Lr])cc31)ccc([Lr])c2   \n",
       "\n",
       "        lcd       pld   density      avf      avsa     agsa  ...  \\\n",
       "0   6.92684   3.03360  1.143760  0.00000     0.000     0.00  ...   \n",
       "1  22.43124  20.60178  0.421659  0.56582  1624.620  3852.92  ...   \n",
       "2  14.39486  12.29328  0.468486  0.54877  1846.740  3941.94  ...   \n",
       "3  13.94895  10.49463  0.659699  0.41073  1831.680  2776.53  ...   \n",
       "4  23.45655  21.13022  0.146984  0.78696   967.072  6579.45  ...   \n",
       "\n",
       "   co2ch4_selectivity  co2ch4_heat_avg  co2ch4_heat_co2  co2ch4_heat_ch4  \\\n",
       "0            0.000000          0.00000          0.00000          0.00000   \n",
       "1            3.036957        -12.71150        -18.03664        -11.03007   \n",
       "2            2.246914        -10.97052        -14.84627         -9.85140   \n",
       "3            4.668019        -16.33142        -22.63069        -13.42098   \n",
       "4            1.855461         -8.26031        -11.89364         -7.56506   \n",
       "\n",
       "   co2ch4_heat_molfrac  selfies_safe  mask  train/test   scscore  id2mof  \n",
       "0              0.00000          True  True           1  1.466316     451  \n",
       "1            -12.79457          True  True           0  2.445184     405  \n",
       "2            -10.84985          True  True           1  1.743814     186  \n",
       "3            -16.57039          True  True           1  2.306571     509  \n",
       "4             -8.30322          True  True           1  3.012280     257  \n",
       "\n",
       "[5 rows x 29 columns]"
      ]
     },
     "execution_count": 6,
     "metadata": {},
     "output_type": "execute_result"
    }
   ],
   "source": [
    "smiles_column = 'branch_smiles'\n",
    "testtrain_column = 'train/test'\n",
    "tmp_df = experiments.get_generator_df(csv_file=hparams['files_data'],\n",
    "                                  smiles_column=smiles_column,\n",
    "                                  use_duplicates=hparams['vae_duplicate_smiles'],\n",
    "                                  testing=testing)\n",
    "ids2mofs, mof2ids, mof_columns = experiments.get_mofdict(tmp_df, hparams['mof_encoding'])\n",
    "prop_df = experiments.get_prop_df(csv_file=hparams['files_prop'],\n",
    "                                  targets=hparams['y_labels'],\n",
    "                                  mof2ids=mof2ids,\n",
    "                                  testing=testing,\n",
    "                                  smiles_column=smiles_column,\n",
    "                                  compute_scscore=True)\n",
    "prop_df.head()"
   ]
  },
  {
   "cell_type": "markdown",
   "metadata": {
    "ExecuteTime": {
     "end_time": "2019-09-26T22:30:17.885911Z",
     "start_time": "2019-09-26T22:30:17.854869Z"
    }
   },
   "source": [
    "## Train/test splits and hparams"
   ]
  },
  {
   "cell_type": "code",
   "execution_count": 7,
   "metadata": {
    "ExecuteTime": {
     "end_time": "2020-02-27T06:22:07.590531Z",
     "start_time": "2020-02-27T06:22:07.561044Z"
    },
    "scrolled": false
   },
   "outputs": [
    {
     "name": "stdout",
     "output_type": "stream",
     "text": [
      "Train/test sizes:     802      86\n"
     ]
    }
   ],
   "source": [
    "train_index = np.array(\n",
    "    prop_df[prop_df[testtrain_column] == 1].index.tolist())\n",
    "test_index = np.array(\n",
    "    prop_df[prop_df[testtrain_column] == 0].index.tolist())\n",
    "print(f'Train/test sizes: {len(train_index):7d} {len(test_index):7d}')"
   ]
  },
  {
   "cell_type": "markdown",
   "metadata": {},
   "source": [
    "# Vocabulary and preprocessors"
   ]
  },
  {
   "cell_type": "code",
   "execution_count": 10,
   "metadata": {
    "ExecuteTime": {
     "end_time": "2020-02-27T06:22:38.350073Z",
     "start_time": "2020-02-27T06:22:37.780394Z"
    },
    "scrolled": true
   },
   "outputs": [
    {
     "data": {
      "application/vnd.jupyter.widget-view+json": {
       "model_id": "048d5d18876c406d9fce99875cf6a2bd",
       "version_major": 2,
       "version_minor": 0
      },
      "text/plain": [
       "HBox(children=(FloatProgress(value=0.0, max=1601.0), HTML(value='')))"
      ]
     },
     "metadata": {},
     "output_type": "display_data"
    },
    {
     "name": "stdout",
     "output_type": "stream",
     "text": [
      "\n",
      "Alphabet size is 44\n",
      "Max seq length is 106 with 5 extra padding\n",
      "Used columns =['metal_node', 'organic_core', 'topology'] with frequency weighting=False\n",
      "metal_node   has 15 classes\n",
      "organic_core has 52 classes\n",
      "topology     has 41 classes\n"
     ]
    },
    {
     "data": {
      "text/plain": [
       "(<vaemof.vocabs.SELFIESVocab at 0x7f56a7cb9890>,\n",
       " <vaemof.vocabs.MOFVocab at 0x7f56a7cb5410>,\n",
       " <vaemof.vocabs.PropVocab at 0x7f56a7cb5390>)"
      ]
     },
     "execution_count": 10,
     "metadata": {},
     "output_type": "execute_result"
    }
   ],
   "source": [
    "smiles_list = tmp_df[smiles_column].tolist()+prop_df[smiles_column].tolist()\n",
    "vocab = SELFIESVocab.from_data(smiles_list)\n",
    "vocab_mof = MOFVocab.from_data(tmp_df.append(\n",
    "    prop_df, sort=False), mof_columns, weighting=hparams['mof_weighted_loss'])\n",
    "# scaler type can be power/quantile or None\n",
    "vocab_y = PropVocab.from_data(\n",
    "    prop_df, hparams['y_labels'], hparams['y_weights'], scaler_type='power')\n",
    "vocab, vocab_mof, vocab_y"
   ]
  },
  {
   "cell_type": "markdown",
   "metadata": {},
   "source": [
    "# Instanciate Model\n",
    "\n",
    "## Careful! (it saves and will overwrite any model previously saved)"
   ]
  },
  {
   "cell_type": "code",
   "execution_count": 11,
   "metadata": {
    "ExecuteTime": {
     "end_time": "2020-02-27T06:22:41.009857Z",
     "start_time": "2020-02-27T06:22:40.893451Z"
    },
    "scrolled": false
   },
   "outputs": [
    {
     "data": {
      "text/html": [
       "<h1>VAEMOF</h1>"
      ],
      "text/plain": [
       "<IPython.core.display.HTML object>"
      ]
     },
     "metadata": {},
     "output_type": "display_data"
    },
    {
     "data": {
      "text/html": [
       "<div>\n",
       "<style scoped>\n",
       "    .dataframe tbody tr th:only-of-type {\n",
       "        vertical-align: middle;\n",
       "    }\n",
       "\n",
       "    .dataframe tbody tr th {\n",
       "        vertical-align: top;\n",
       "    }\n",
       "\n",
       "    .dataframe thead th {\n",
       "        text-align: right;\n",
       "    }\n",
       "</style>\n",
       "<table border=\"1\" class=\"dataframe\">\n",
       "  <thead>\n",
       "    <tr style=\"text-align: right;\">\n",
       "      <th></th>\n",
       "      <th>Name</th>\n",
       "      <th>Module</th>\n",
       "      <th>Extra</th>\n",
       "      <th>submodule</th>\n",
       "      <th>trainable</th>\n",
       "      <th>n_params</th>\n",
       "      <th>trainable_params</th>\n",
       "    </tr>\n",
       "  </thead>\n",
       "  <tbody>\n",
       "    <tr>\n",
       "      <th>0</th>\n",
       "      <td>z_mu</td>\n",
       "      <td>Linear</td>\n",
       "      <td>in_features=512, out_features=256, bias=True</td>\n",
       "      <td>False</td>\n",
       "      <td>True</td>\n",
       "      <td>131328</td>\n",
       "      <td>131328</td>\n",
       "    </tr>\n",
       "    <tr>\n",
       "      <th>1</th>\n",
       "      <td>z_logvar</td>\n",
       "      <td>Linear</td>\n",
       "      <td>in_features=512, out_features=256, bias=True</td>\n",
       "      <td>False</td>\n",
       "      <td>True</td>\n",
       "      <td>131328</td>\n",
       "      <td>131328</td>\n",
       "    </tr>\n",
       "    <tr>\n",
       "      <th>2</th>\n",
       "      <td>enc_x</td>\n",
       "      <td>CharEncoder</td>\n",
       "      <td></td>\n",
       "      <td>False</td>\n",
       "      <td>True</td>\n",
       "      <td>2268729</td>\n",
       "      <td>2268729</td>\n",
       "    </tr>\n",
       "    <tr>\n",
       "      <th>3</th>\n",
       "      <td>enc_mof</td>\n",
       "      <td>MOFEncoder</td>\n",
       "      <td></td>\n",
       "      <td>False</td>\n",
       "      <td>True</td>\n",
       "      <td>225024</td>\n",
       "      <td>225024</td>\n",
       "    </tr>\n",
       "    <tr>\n",
       "      <th>4</th>\n",
       "      <td>dec_y</td>\n",
       "      <td>PropDecoder</td>\n",
       "      <td></td>\n",
       "      <td>False</td>\n",
       "      <td>True</td>\n",
       "      <td>5418</td>\n",
       "      <td>5397</td>\n",
       "    </tr>\n",
       "  </tbody>\n",
       "</table>\n",
       "</div>"
      ],
      "text/plain": [
       "       Name       Module                                         Extra  \\\n",
       "0      z_mu       Linear  in_features=512, out_features=256, bias=True   \n",
       "1  z_logvar       Linear  in_features=512, out_features=256, bias=True   \n",
       "2     enc_x  CharEncoder                                                 \n",
       "3   enc_mof   MOFEncoder                                                 \n",
       "4     dec_y  PropDecoder                                                 \n",
       "\n",
       "   submodule  trainable  n_params  trainable_params  \n",
       "0      False       True    131328            131328  \n",
       "1      False       True    131328            131328  \n",
       "2      False       True   2268729           2268729  \n",
       "3      False       True    225024            225024  \n",
       "4      False       True      5418              5397  "
      ]
     },
     "metadata": {},
     "output_type": "display_data"
    },
    {
     "name": "stdout",
     "output_type": "stream",
     "text": [
      "Trainable params: 2761806 out of 2761827 total (100.00%)\n"
     ]
    }
   ],
   "source": [
    "try:\n",
    "    utils.clear_torch(model)\n",
    "except:\n",
    "    utils.clear_torch(model=None)\n",
    "\n",
    "model = VAEMOF(hparams, vocab, vocab_mof, vocab_y).to(device)\n",
    "model.save()\n",
    "modules.model_summary(model, include_children=False)"
   ]
  },
  {
   "cell_type": "markdown",
   "metadata": {
    "ExecuteTime": {
     "end_time": "2020-02-16T03:37:06.457591Z",
     "start_time": "2020-02-16T03:37:06.438876Z"
    }
   },
   "source": [
    "## Prepare train/test "
   ]
  },
  {
   "cell_type": "code",
   "execution_count": 12,
   "metadata": {
    "ExecuteTime": {
     "end_time": "2020-02-27T06:22:43.508994Z",
     "start_time": "2020-02-27T06:22:43.146602Z"
    }
   },
   "outputs": [],
   "source": [
    "train_data  = model.df_to_tuples(prop_df.loc[train_index], smiles_column)\n",
    "test_data = model.df_to_tuples(prop_df.loc[test_index], smiles_column)"
   ]
  },
  {
   "cell_type": "markdown",
   "metadata": {},
   "source": [
    "## Train"
   ]
  },
  {
   "cell_type": "code",
   "execution_count": 13,
   "metadata": {
    "ExecuteTime": {
     "end_time": "2020-02-27T06:27:25.570006Z",
     "start_time": "2020-02-27T06:22:44.427243Z"
    },
    "scrolled": false
   },
   "outputs": [
    {
     "data": {
      "application/vnd.jupyter.widget-view+json": {
       "model_id": "d1db655f5036455a9032231068f5b8ff",
       "version_major": 2,
       "version_minor": 0
      },
      "text/plain": [
       "HBox(children=(FloatProgress(value=0.0, description='Epochs', max=20.0, style=ProgressStyle(description_width=…"
      ]
     },
     "metadata": {},
     "output_type": "display_data"
    },
    {
     "data": {
      "application/vnd.jupyter.widget-view+json": {
       "model_id": "",
       "version_major": 2,
       "version_minor": 0
      },
      "text/plain": [
       "HBox(children=(FloatProgress(value=0.0, description='Train', max=12.0, style=ProgressStyle(description_width='…"
      ]
     },
     "metadata": {},
     "output_type": "display_data"
    },
    {
     "data": {
      "application/vnd.jupyter.widget-view+json": {
       "model_id": "",
       "version_major": 2,
       "version_minor": 0
      },
      "text/plain": [
       "HBox(children=(FloatProgress(value=0.0, description='Test', max=2.0, style=ProgressStyle(description_width='in…"
      ]
     },
     "metadata": {},
     "output_type": "display_data"
    },
    {
     "data": {
      "application/vnd.jupyter.widget-view+json": {
       "model_id": "",
       "version_major": 2,
       "version_minor": 0
      },
      "text/plain": [
       "HBox(children=(FloatProgress(value=0.0, description='Train', max=12.0, style=ProgressStyle(description_width='…"
      ]
     },
     "metadata": {},
     "output_type": "display_data"
    },
    {
     "data": {
      "application/vnd.jupyter.widget-view+json": {
       "model_id": "",
       "version_major": 2,
       "version_minor": 0
      },
      "text/plain": [
       "HBox(children=(FloatProgress(value=0.0, description='Test', max=2.0, style=ProgressStyle(description_width='in…"
      ]
     },
     "metadata": {},
     "output_type": "display_data"
    },
    {
     "data": {
      "application/vnd.jupyter.widget-view+json": {
       "model_id": "",
       "version_major": 2,
       "version_minor": 0
      },
      "text/plain": [
       "HBox(children=(FloatProgress(value=0.0, description='Train', max=12.0, style=ProgressStyle(description_width='…"
      ]
     },
     "metadata": {},
     "output_type": "display_data"
    },
    {
     "data": {
      "application/vnd.jupyter.widget-view+json": {
       "model_id": "",
       "version_major": 2,
       "version_minor": 0
      },
      "text/plain": [
       "HBox(children=(FloatProgress(value=0.0, description='Test', max=2.0, style=ProgressStyle(description_width='in…"
      ]
     },
     "metadata": {},
     "output_type": "display_data"
    },
    {
     "data": {
      "application/vnd.jupyter.widget-view+json": {
       "model_id": "",
       "version_major": 2,
       "version_minor": 0
      },
      "text/plain": [
       "HBox(children=(FloatProgress(value=0.0, description='Train', max=12.0, style=ProgressStyle(description_width='…"
      ]
     },
     "metadata": {},
     "output_type": "display_data"
    },
    {
     "data": {
      "application/vnd.jupyter.widget-view+json": {
       "model_id": "",
       "version_major": 2,
       "version_minor": 0
      },
      "text/plain": [
       "HBox(children=(FloatProgress(value=0.0, description='Test', max=2.0, style=ProgressStyle(description_width='in…"
      ]
     },
     "metadata": {},
     "output_type": "display_data"
    },
    {
     "data": {
      "application/vnd.jupyter.widget-view+json": {
       "model_id": "",
       "version_major": 2,
       "version_minor": 0
      },
      "text/plain": [
       "HBox(children=(FloatProgress(value=0.0, description='Train', max=12.0, style=ProgressStyle(description_width='…"
      ]
     },
     "metadata": {},
     "output_type": "display_data"
    },
    {
     "data": {
      "application/vnd.jupyter.widget-view+json": {
       "model_id": "",
       "version_major": 2,
       "version_minor": 0
      },
      "text/plain": [
       "HBox(children=(FloatProgress(value=0.0, description='Test', max=2.0, style=ProgressStyle(description_width='in…"
      ]
     },
     "metadata": {},
     "output_type": "display_data"
    },
    {
     "data": {
      "application/vnd.jupyter.widget-view+json": {
       "model_id": "",
       "version_major": 2,
       "version_minor": 0
      },
      "text/plain": [
       "HBox(children=(FloatProgress(value=0.0, description='Train', max=12.0, style=ProgressStyle(description_width='…"
      ]
     },
     "metadata": {},
     "output_type": "display_data"
    },
    {
     "data": {
      "application/vnd.jupyter.widget-view+json": {
       "model_id": "",
       "version_major": 2,
       "version_minor": 0
      },
      "text/plain": [
       "HBox(children=(FloatProgress(value=0.0, description='Test', max=2.0, style=ProgressStyle(description_width='in…"
      ]
     },
     "metadata": {},
     "output_type": "display_data"
    },
    {
     "data": {
      "application/vnd.jupyter.widget-view+json": {
       "model_id": "",
       "version_major": 2,
       "version_minor": 0
      },
      "text/plain": [
       "HBox(children=(FloatProgress(value=0.0, description='Train', max=12.0, style=ProgressStyle(description_width='…"
      ]
     },
     "metadata": {},
     "output_type": "display_data"
    },
    {
     "data": {
      "application/vnd.jupyter.widget-view+json": {
       "model_id": "",
       "version_major": 2,
       "version_minor": 0
      },
      "text/plain": [
       "HBox(children=(FloatProgress(value=0.0, description='Test', max=2.0, style=ProgressStyle(description_width='in…"
      ]
     },
     "metadata": {},
     "output_type": "display_data"
    },
    {
     "data": {
      "application/vnd.jupyter.widget-view+json": {
       "model_id": "",
       "version_major": 2,
       "version_minor": 0
      },
      "text/plain": [
       "HBox(children=(FloatProgress(value=0.0, description='Train', max=12.0, style=ProgressStyle(description_width='…"
      ]
     },
     "metadata": {},
     "output_type": "display_data"
    },
    {
     "data": {
      "application/vnd.jupyter.widget-view+json": {
       "model_id": "",
       "version_major": 2,
       "version_minor": 0
      },
      "text/plain": [
       "HBox(children=(FloatProgress(value=0.0, description='Test', max=2.0, style=ProgressStyle(description_width='in…"
      ]
     },
     "metadata": {},
     "output_type": "display_data"
    },
    {
     "data": {
      "application/vnd.jupyter.widget-view+json": {
       "model_id": "",
       "version_major": 2,
       "version_minor": 0
      },
      "text/plain": [
       "HBox(children=(FloatProgress(value=0.0, description='Train', max=12.0, style=ProgressStyle(description_width='…"
      ]
     },
     "metadata": {},
     "output_type": "display_data"
    },
    {
     "data": {
      "application/vnd.jupyter.widget-view+json": {
       "model_id": "",
       "version_major": 2,
       "version_minor": 0
      },
      "text/plain": [
       "HBox(children=(FloatProgress(value=0.0, description='Test', max=2.0, style=ProgressStyle(description_width='in…"
      ]
     },
     "metadata": {},
     "output_type": "display_data"
    },
    {
     "data": {
      "application/vnd.jupyter.widget-view+json": {
       "model_id": "",
       "version_major": 2,
       "version_minor": 0
      },
      "text/plain": [
       "HBox(children=(FloatProgress(value=0.0, description='Train', max=12.0, style=ProgressStyle(description_width='…"
      ]
     },
     "metadata": {},
     "output_type": "display_data"
    },
    {
     "data": {
      "application/vnd.jupyter.widget-view+json": {
       "model_id": "",
       "version_major": 2,
       "version_minor": 0
      },
      "text/plain": [
       "HBox(children=(FloatProgress(value=0.0, description='Test', max=2.0, style=ProgressStyle(description_width='in…"
      ]
     },
     "metadata": {},
     "output_type": "display_data"
    },
    {
     "data": {
      "application/vnd.jupyter.widget-view+json": {
       "model_id": "",
       "version_major": 2,
       "version_minor": 0
      },
      "text/plain": [
       "HBox(children=(FloatProgress(value=0.0, description='Train', max=12.0, style=ProgressStyle(description_width='…"
      ]
     },
     "metadata": {},
     "output_type": "display_data"
    },
    {
     "data": {
      "application/vnd.jupyter.widget-view+json": {
       "model_id": "",
       "version_major": 2,
       "version_minor": 0
      },
      "text/plain": [
       "HBox(children=(FloatProgress(value=0.0, description='Test', max=2.0, style=ProgressStyle(description_width='in…"
      ]
     },
     "metadata": {},
     "output_type": "display_data"
    },
    {
     "data": {
      "application/vnd.jupyter.widget-view+json": {
       "model_id": "",
       "version_major": 2,
       "version_minor": 0
      },
      "text/plain": [
       "HBox(children=(FloatProgress(value=0.0, description='Train', max=12.0, style=ProgressStyle(description_width='…"
      ]
     },
     "metadata": {},
     "output_type": "display_data"
    },
    {
     "data": {
      "application/vnd.jupyter.widget-view+json": {
       "model_id": "",
       "version_major": 2,
       "version_minor": 0
      },
      "text/plain": [
       "HBox(children=(FloatProgress(value=0.0, description='Test', max=2.0, style=ProgressStyle(description_width='in…"
      ]
     },
     "metadata": {},
     "output_type": "display_data"
    },
    {
     "data": {
      "application/vnd.jupyter.widget-view+json": {
       "model_id": "",
       "version_major": 2,
       "version_minor": 0
      },
      "text/plain": [
       "HBox(children=(FloatProgress(value=0.0, description='Train', max=12.0, style=ProgressStyle(description_width='…"
      ]
     },
     "metadata": {},
     "output_type": "display_data"
    },
    {
     "data": {
      "application/vnd.jupyter.widget-view+json": {
       "model_id": "",
       "version_major": 2,
       "version_minor": 0
      },
      "text/plain": [
       "HBox(children=(FloatProgress(value=0.0, description='Test', max=2.0, style=ProgressStyle(description_width='in…"
      ]
     },
     "metadata": {},
     "output_type": "display_data"
    },
    {
     "data": {
      "application/vnd.jupyter.widget-view+json": {
       "model_id": "",
       "version_major": 2,
       "version_minor": 0
      },
      "text/plain": [
       "HBox(children=(FloatProgress(value=0.0, description='Train', max=12.0, style=ProgressStyle(description_width='…"
      ]
     },
     "metadata": {},
     "output_type": "display_data"
    },
    {
     "data": {
      "application/vnd.jupyter.widget-view+json": {
       "model_id": "",
       "version_major": 2,
       "version_minor": 0
      },
      "text/plain": [
       "HBox(children=(FloatProgress(value=0.0, description='Test', max=2.0, style=ProgressStyle(description_width='in…"
      ]
     },
     "metadata": {},
     "output_type": "display_data"
    },
    {
     "data": {
      "application/vnd.jupyter.widget-view+json": {
       "model_id": "",
       "version_major": 2,
       "version_minor": 0
      },
      "text/plain": [
       "HBox(children=(FloatProgress(value=0.0, description='Train', max=12.0, style=ProgressStyle(description_width='…"
      ]
     },
     "metadata": {},
     "output_type": "display_data"
    },
    {
     "data": {
      "application/vnd.jupyter.widget-view+json": {
       "model_id": "",
       "version_major": 2,
       "version_minor": 0
      },
      "text/plain": [
       "HBox(children=(FloatProgress(value=0.0, description='Test', max=2.0, style=ProgressStyle(description_width='in…"
      ]
     },
     "metadata": {},
     "output_type": "display_data"
    },
    {
     "data": {
      "application/vnd.jupyter.widget-view+json": {
       "model_id": "",
       "version_major": 2,
       "version_minor": 0
      },
      "text/plain": [
       "HBox(children=(FloatProgress(value=0.0, description='Train', max=12.0, style=ProgressStyle(description_width='…"
      ]
     },
     "metadata": {},
     "output_type": "display_data"
    },
    {
     "data": {
      "application/vnd.jupyter.widget-view+json": {
       "model_id": "",
       "version_major": 2,
       "version_minor": 0
      },
      "text/plain": [
       "HBox(children=(FloatProgress(value=0.0, description='Test', max=2.0, style=ProgressStyle(description_width='in…"
      ]
     },
     "metadata": {},
     "output_type": "display_data"
    },
    {
     "data": {
      "application/vnd.jupyter.widget-view+json": {
       "model_id": "",
       "version_major": 2,
       "version_minor": 0
      },
      "text/plain": [
       "HBox(children=(FloatProgress(value=0.0, description='Train', max=12.0, style=ProgressStyle(description_width='…"
      ]
     },
     "metadata": {},
     "output_type": "display_data"
    },
    {
     "data": {
      "application/vnd.jupyter.widget-view+json": {
       "model_id": "",
       "version_major": 2,
       "version_minor": 0
      },
      "text/plain": [
       "HBox(children=(FloatProgress(value=0.0, description='Test', max=2.0, style=ProgressStyle(description_width='in…"
      ]
     },
     "metadata": {},
     "output_type": "display_data"
    },
    {
     "data": {
      "application/vnd.jupyter.widget-view+json": {
       "model_id": "",
       "version_major": 2,
       "version_minor": 0
      },
      "text/plain": [
       "HBox(children=(FloatProgress(value=0.0, description='Train', max=12.0, style=ProgressStyle(description_width='…"
      ]
     },
     "metadata": {},
     "output_type": "display_data"
    },
    {
     "data": {
      "application/vnd.jupyter.widget-view+json": {
       "model_id": "",
       "version_major": 2,
       "version_minor": 0
      },
      "text/plain": [
       "HBox(children=(FloatProgress(value=0.0, description='Test', max=2.0, style=ProgressStyle(description_width='in…"
      ]
     },
     "metadata": {},
     "output_type": "display_data"
    },
    {
     "data": {
      "application/vnd.jupyter.widget-view+json": {
       "model_id": "",
       "version_major": 2,
       "version_minor": 0
      },
      "text/plain": [
       "HBox(children=(FloatProgress(value=0.0, description='Train', max=12.0, style=ProgressStyle(description_width='…"
      ]
     },
     "metadata": {},
     "output_type": "display_data"
    },
    {
     "data": {
      "application/vnd.jupyter.widget-view+json": {
       "model_id": "",
       "version_major": 2,
       "version_minor": 0
      },
      "text/plain": [
       "HBox(children=(FloatProgress(value=0.0, description='Test', max=2.0, style=ProgressStyle(description_width='in…"
      ]
     },
     "metadata": {},
     "output_type": "display_data"
    },
    {
     "data": {
      "application/vnd.jupyter.widget-view+json": {
       "model_id": "",
       "version_major": 2,
       "version_minor": 0
      },
      "text/plain": [
       "HBox(children=(FloatProgress(value=0.0, description='Train', max=12.0, style=ProgressStyle(description_width='…"
      ]
     },
     "metadata": {},
     "output_type": "display_data"
    },
    {
     "data": {
      "application/vnd.jupyter.widget-view+json": {
       "model_id": "",
       "version_major": 2,
       "version_minor": 0
      },
      "text/plain": [
       "HBox(children=(FloatProgress(value=0.0, description='Test', max=2.0, style=ProgressStyle(description_width='in…"
      ]
     },
     "metadata": {},
     "output_type": "display_data"
    },
    {
     "name": "stdout",
     "output_type": "stream",
     "text": [
      "\n"
     ]
    }
   ],
   "source": [
    "trainer = training.Trainer(hparams)\n",
    "trainer.train(model, train_data, test_data)"
   ]
  },
  {
   "cell_type": "markdown",
   "metadata": {},
   "source": [
    "# Results\n",
    "## Load saved model"
   ]
  },
  {
   "cell_type": "code",
   "execution_count": 14,
   "metadata": {
    "ExecuteTime": {
     "end_time": "2020-02-27T06:27:49.459684Z",
     "start_time": "2020-02-27T06:27:49.300695Z"
    }
   },
   "outputs": [
    {
     "name": "stdout",
     "output_type": "stream",
     "text": [
      "==================================== config ====================================\n",
      "== train == :\n",
      "        train_device:                 cpu\n",
      "          train_seed:                  42\n",
      "    train_batch_size:                  64\n",
      "        train_epochs:                  20\n",
      "            train_lr:        0.0001313857\n",
      "     train_clip_grad:                  20\n",
      "== vae == :\n",
      "      vae_latent_dim:                 256\n",
      "           vae_y_dec:                True\n",
      "     vae_selfies_dec:               False\n",
      "         vae_mof_enc:                True\n",
      "         vae_mof_dec:               False\n",
      "vae_duplicate_smiles:                True\n",
      "== mof == :\n",
      "        mof_encoding:                cats\n",
      "   mof_weighted_loss:               False\n",
      "         mof_w_start:                 0.0\n",
      "           mof_w_end:                 0.5\n",
      "           mof_start:                  15\n",
      "    mof_const_length:                  10\n",
      "== y == :\n",
      "            y_labels:['lcd', 'pld', 'density', 'avf', 'avsa', 'agsa', 'co2n2_co2_mol_kg', 'co2n2_n2_mol_kg', 'co2n2_selectivity', 'co2n2_heat_avg', 'co2n2_heat_co2', 'co2n2_heat_n2', 'co2n2_heat_molfrac', 'co2ch4_co2_mol_kg', 'co2ch4_ch4_mol_kg', 'co2ch4_selectivity', 'co2ch4_heat_avg', 'co2ch4_heat_co2', 'co2ch4_heat_ch4', 'co2ch4_heat_molfrac', 'scscore']\n",
      "           y_weights:[1, 1, 1, 1, 1, 1, 1, 1, 1, 1, 1, 1, 1, 1, 1, 1, 1, 1, 1, 1, 1]\n",
      "           y_w_start:                 1.0\n",
      "             y_w_end:                 1.0\n",
      "             y_start:                  15\n",
      "      y_const_length:                  10\n",
      "== files == :\n",
      "          files_data:data/MOF_gen_train.csv.gz\n",
      "          files_prop:data/MOF_properties_train.csv.gz\n",
      "       files_results:        results/prop\n",
      "        files_config:         config.json\n",
      "           files_log:             log.csv\n",
      "== kl == :\n",
      "     kl_cycle_length:                  15\n",
      "   kl_cycle_constant:                   3\n",
      "     kl_weight_start:                 0.0\n",
      "       kl_weight_end:                 0.0\n",
      "== enc == :\n",
      "      enc_hidden_dim:                 768\n",
      "        enc_n_layers:                   1\n",
      "         enc_dropout:                0.18\n",
      "== dec == :\n",
      "      dec_hidden_dim:                 192\n",
      "        dec_n_layers:                   2\n",
      "         dec_dropout:                0.12\n"
     ]
    }
   ],
   "source": [
    "hparams_file = os.path.join(WORK_DIR,'config.json')\n",
    "hparams = configs.AttributeDict.from_jsonfile(hparams_file)\n",
    "configs.print_config(hparams)\n",
    "model = VAEMOF.load(hparams)"
   ]
  },
  {
   "cell_type": "markdown",
   "metadata": {},
   "source": [
    "## Training stats"
   ]
  },
  {
   "cell_type": "code",
   "execution_count": 16,
   "metadata": {
    "ExecuteTime": {
     "end_time": "2020-02-27T06:31:31.727228Z",
     "start_time": "2020-02-27T06:31:31.667990Z"
    }
   },
   "outputs": [
    {
     "name": "stdout",
     "output_type": "stream",
     "text": [
      "(20, 50)\n",
      "Index(['epoch', 'test_y', 'test_loss', 'lcd-r2', 'lcd-MAE', 'pld-r2',\n",
      "       'pld-MAE', 'density-r2', 'density-MAE', 'avf-r2', 'avf-MAE', 'avsa-r2',\n",
      "       'avsa-MAE', 'agsa-r2', 'agsa-MAE', 'co2n2_co2_mol_kg-r2',\n",
      "       'co2n2_co2_mol_kg-MAE', 'co2n2_n2_mol_kg-r2', 'co2n2_n2_mol_kg-MAE',\n",
      "       'co2n2_selectivity-r2', 'co2n2_selectivity-MAE', 'co2n2_heat_avg-r2',\n",
      "       'co2n2_heat_avg-MAE', 'co2n2_heat_co2-r2', 'co2n2_heat_co2-MAE',\n",
      "       'co2n2_heat_n2-r2', 'co2n2_heat_n2-MAE', 'co2n2_heat_molfrac-r2',\n",
      "       'co2n2_heat_molfrac-MAE', 'co2ch4_co2_mol_kg-r2',\n",
      "       'co2ch4_co2_mol_kg-MAE', 'co2ch4_ch4_mol_kg-r2',\n",
      "       'co2ch4_ch4_mol_kg-MAE', 'co2ch4_selectivity-r2',\n",
      "       'co2ch4_selectivity-MAE', 'co2ch4_heat_avg-r2', 'co2ch4_heat_avg-MAE',\n",
      "       'co2ch4_heat_co2-r2', 'co2ch4_heat_co2-MAE', 'co2ch4_heat_ch4-r2',\n",
      "       'co2ch4_heat_ch4-MAE', 'co2ch4_heat_molfrac-r2',\n",
      "       'co2ch4_heat_molfrac-MAE', 'scscore-r2', 'scscore-MAE', 'lr', 'λ_y',\n",
      "       'train_y', 'train_loss', 'mean_r2'],\n",
      "      dtype='object')\n"
     ]
    },
    {
     "data": {
      "text/html": [
       "<div>\n",
       "<style scoped>\n",
       "    .dataframe tbody tr th:only-of-type {\n",
       "        vertical-align: middle;\n",
       "    }\n",
       "\n",
       "    .dataframe tbody tr th {\n",
       "        vertical-align: top;\n",
       "    }\n",
       "\n",
       "    .dataframe thead th {\n",
       "        text-align: right;\n",
       "    }\n",
       "</style>\n",
       "<table border=\"1\" class=\"dataframe\">\n",
       "  <thead>\n",
       "    <tr style=\"text-align: right;\">\n",
       "      <th></th>\n",
       "      <th>epoch</th>\n",
       "      <th>test_y</th>\n",
       "      <th>test_loss</th>\n",
       "      <th>lcd-r2</th>\n",
       "      <th>lcd-MAE</th>\n",
       "      <th>pld-r2</th>\n",
       "      <th>pld-MAE</th>\n",
       "      <th>density-r2</th>\n",
       "      <th>density-MAE</th>\n",
       "      <th>avf-r2</th>\n",
       "      <th>...</th>\n",
       "      <th>co2ch4_heat_ch4-MAE</th>\n",
       "      <th>co2ch4_heat_molfrac-r2</th>\n",
       "      <th>co2ch4_heat_molfrac-MAE</th>\n",
       "      <th>scscore-r2</th>\n",
       "      <th>scscore-MAE</th>\n",
       "      <th>lr</th>\n",
       "      <th>λ_y</th>\n",
       "      <th>train_y</th>\n",
       "      <th>train_loss</th>\n",
       "      <th>mean_r2</th>\n",
       "    </tr>\n",
       "  </thead>\n",
       "  <tbody>\n",
       "    <tr>\n",
       "      <th>0</th>\n",
       "      <td>0</td>\n",
       "      <td>19.670542</td>\n",
       "      <td>19.670542</td>\n",
       "      <td>0.943861</td>\n",
       "      <td>109.380928</td>\n",
       "      <td>0.966084</td>\n",
       "      <td>92.359512</td>\n",
       "      <td>0.969042</td>\n",
       "      <td>76.499878</td>\n",
       "      <td>0.976425</td>\n",
       "      <td>...</td>\n",
       "      <td>172.119339</td>\n",
       "      <td>-0.574206</td>\n",
       "      <td>197.788696</td>\n",
       "      <td>0.986123</td>\n",
       "      <td>38.064785</td>\n",
       "      <td>0.000131</td>\n",
       "      <td>1.0</td>\n",
       "      <td>28.312948</td>\n",
       "      <td>28.312948</td>\n",
       "      <td>0.812767</td>\n",
       "    </tr>\n",
       "    <tr>\n",
       "      <th>1</th>\n",
       "      <td>1</td>\n",
       "      <td>18.086570</td>\n",
       "      <td>18.086570</td>\n",
       "      <td>0.890426</td>\n",
       "      <td>150.895782</td>\n",
       "      <td>0.922251</td>\n",
       "      <td>128.490906</td>\n",
       "      <td>0.967940</td>\n",
       "      <td>77.889389</td>\n",
       "      <td>0.977672</td>\n",
       "      <td>...</td>\n",
       "      <td>151.145630</td>\n",
       "      <td>0.555943</td>\n",
       "      <td>96.643661</td>\n",
       "      <td>0.999739</td>\n",
       "      <td>7.951864</td>\n",
       "      <td>0.000131</td>\n",
       "      <td>1.0</td>\n",
       "      <td>26.566865</td>\n",
       "      <td>26.566865</td>\n",
       "      <td>0.862340</td>\n",
       "    </tr>\n",
       "    <tr>\n",
       "      <th>2</th>\n",
       "      <td>2</td>\n",
       "      <td>14.408834</td>\n",
       "      <td>14.408834</td>\n",
       "      <td>0.983987</td>\n",
       "      <td>59.309437</td>\n",
       "      <td>0.953220</td>\n",
       "      <td>95.213020</td>\n",
       "      <td>0.981361</td>\n",
       "      <td>58.473663</td>\n",
       "      <td>0.939948</td>\n",
       "      <td>...</td>\n",
       "      <td>90.338127</td>\n",
       "      <td>0.262307</td>\n",
       "      <td>129.961517</td>\n",
       "      <td>0.991398</td>\n",
       "      <td>27.565247</td>\n",
       "      <td>0.000131</td>\n",
       "      <td>1.0</td>\n",
       "      <td>23.883687</td>\n",
       "      <td>23.883687</td>\n",
       "      <td>0.875387</td>\n",
       "    </tr>\n",
       "    <tr>\n",
       "      <th>3</th>\n",
       "      <td>3</td>\n",
       "      <td>11.099390</td>\n",
       "      <td>11.099390</td>\n",
       "      <td>0.972291</td>\n",
       "      <td>72.744492</td>\n",
       "      <td>0.992774</td>\n",
       "      <td>38.553566</td>\n",
       "      <td>0.995723</td>\n",
       "      <td>22.259697</td>\n",
       "      <td>0.896634</td>\n",
       "      <td>...</td>\n",
       "      <td>59.054077</td>\n",
       "      <td>0.392110</td>\n",
       "      <td>118.255951</td>\n",
       "      <td>0.995541</td>\n",
       "      <td>23.539425</td>\n",
       "      <td>0.000131</td>\n",
       "      <td>1.0</td>\n",
       "      <td>19.714368</td>\n",
       "      <td>19.714368</td>\n",
       "      <td>0.912642</td>\n",
       "    </tr>\n",
       "    <tr>\n",
       "      <th>4</th>\n",
       "      <td>4</td>\n",
       "      <td>9.309026</td>\n",
       "      <td>9.309026</td>\n",
       "      <td>0.980129</td>\n",
       "      <td>65.251305</td>\n",
       "      <td>0.987319</td>\n",
       "      <td>57.510532</td>\n",
       "      <td>0.992278</td>\n",
       "      <td>38.286324</td>\n",
       "      <td>0.843983</td>\n",
       "      <td>...</td>\n",
       "      <td>78.118637</td>\n",
       "      <td>0.649644</td>\n",
       "      <td>82.447601</td>\n",
       "      <td>0.973364</td>\n",
       "      <td>64.580849</td>\n",
       "      <td>0.000131</td>\n",
       "      <td>1.0</td>\n",
       "      <td>17.574912</td>\n",
       "      <td>17.574912</td>\n",
       "      <td>0.936040</td>\n",
       "    </tr>\n",
       "  </tbody>\n",
       "</table>\n",
       "<p>5 rows × 50 columns</p>\n",
       "</div>"
      ],
      "text/plain": [
       "   epoch     test_y  test_loss    lcd-r2     lcd-MAE    pld-r2     pld-MAE  \\\n",
       "0      0  19.670542  19.670542  0.943861  109.380928  0.966084   92.359512   \n",
       "1      1  18.086570  18.086570  0.890426  150.895782  0.922251  128.490906   \n",
       "2      2  14.408834  14.408834  0.983987   59.309437  0.953220   95.213020   \n",
       "3      3  11.099390  11.099390  0.972291   72.744492  0.992774   38.553566   \n",
       "4      4   9.309026   9.309026  0.980129   65.251305  0.987319   57.510532   \n",
       "\n",
       "   density-r2  density-MAE    avf-r2  ...  co2ch4_heat_ch4-MAE  \\\n",
       "0    0.969042    76.499878  0.976425  ...           172.119339   \n",
       "1    0.967940    77.889389  0.977672  ...           151.145630   \n",
       "2    0.981361    58.473663  0.939948  ...            90.338127   \n",
       "3    0.995723    22.259697  0.896634  ...            59.054077   \n",
       "4    0.992278    38.286324  0.843983  ...            78.118637   \n",
       "\n",
       "   co2ch4_heat_molfrac-r2  co2ch4_heat_molfrac-MAE  scscore-r2  scscore-MAE  \\\n",
       "0               -0.574206               197.788696    0.986123    38.064785   \n",
       "1                0.555943                96.643661    0.999739     7.951864   \n",
       "2                0.262307               129.961517    0.991398    27.565247   \n",
       "3                0.392110               118.255951    0.995541    23.539425   \n",
       "4                0.649644                82.447601    0.973364    64.580849   \n",
       "\n",
       "         lr  λ_y    train_y  train_loss   mean_r2  \n",
       "0  0.000131  1.0  28.312948   28.312948  0.812767  \n",
       "1  0.000131  1.0  26.566865   26.566865  0.862340  \n",
       "2  0.000131  1.0  23.883687   23.883687  0.875387  \n",
       "3  0.000131  1.0  19.714368   19.714368  0.912642  \n",
       "4  0.000131  1.0  17.574912   17.574912  0.936040  \n",
       "\n",
       "[5 rows x 50 columns]"
      ]
     },
     "execution_count": 16,
     "metadata": {},
     "output_type": "execute_result"
    }
   ],
   "source": [
    "log_df = pd.read_csv(configs.at_results_dir(hparams,'files_log'))\n",
    "log_df = log_df.drop(columns=[c for c in log_df.columns if any(l in c for l in ['mof','x', 'kl','ratio'])])\n",
    "print(log_df.shape)\n",
    "print(log_df.columns)\n",
    "log_df.head()"
   ]
  },
  {
   "cell_type": "code",
   "execution_count": 18,
   "metadata": {
    "ExecuteTime": {
     "end_time": "2020-02-27T06:31:52.425773Z",
     "start_time": "2020-02-27T06:31:50.919970Z"
    },
    "scrolled": true
   },
   "outputs": [
    {
     "data": {
      "image/png": "[encoded data removed]",
      "text/plain": [
       "<Figure size 864x432 with 1 Axes>"
      ]
     },
     "metadata": {
      "needs_background": "light"
     },
     "output_type": "display_data"
    },
    {
     "data": {
      "image/png": "[encoded data removed]",
      "text/plain": [
       "<Figure size 864x432 with 1 Axes>"
      ]
     },
     "metadata": {
      "needs_background": "light"
     },
     "output_type": "display_data"
    }
   ],
   "source": [
    "COMPONENTS = training.COMPONENTS\n",
    "epochs = log_df['epoch'].values\n",
    "\n",
    "plt.plot(epochs, log_df[f'train_y'], label='Train')\n",
    "plt.plot(epochs, log_df[f'test_y'], label='Test')\n",
    "plt.title(f'Loss')\n",
    "plt.yscale(\"log\")\n",
    "plt.legend()\n",
    "plt.show()\n",
    "\n",
    "results=[]\n",
    "for label in hparams['y_labels']:\n",
    "    metric = f'{label}-r2'\n",
    "    results.extend([{'epoch':epoch,'r2':value,\"prop\":label} for epoch, value in log_df[['epoch',metric]].values ]  )\n",
    "prop_df = pd.DataFrame(results)\n",
    "sns.lineplot(x='epoch',y='r2', data=prop_df)\n",
    "plt.show()"
   ]
  },
  {
   "cell_type": "code",
   "execution_count": 22,
   "metadata": {
    "ExecuteTime": {
     "end_time": "2020-02-27T06:33:02.985767Z",
     "start_time": "2020-02-27T06:33:02.674269Z"
    }
   },
   "outputs": [
    {
     "name": "stdout",
     "output_type": "stream",
     "text": [
      "============================= R^2 scores and MAEs ==============================\n"
     ]
    },
    {
     "data": {
      "application/vnd.jupyter.widget-view+json": {
       "model_id": "8b113ccce14e4dd2a4828a437c5de31a",
       "version_major": 2,
       "version_minor": 0
      },
      "text/plain": [
       "HBox(children=(FloatProgress(value=0.0, description='Pred', max=1.0, style=ProgressStyle(description_width='in…"
      ]
     },
     "metadata": {},
     "output_type": "display_data"
    },
    {
     "name": "stdout",
     "output_type": "stream",
     "text": [
      "\n"
     ]
    },
    {
     "data": {
      "text/html": [
       "<div>\n",
       "<style scoped>\n",
       "    .dataframe tbody tr th:only-of-type {\n",
       "        vertical-align: middle;\n",
       "    }\n",
       "\n",
       "    .dataframe tbody tr th {\n",
       "        vertical-align: top;\n",
       "    }\n",
       "\n",
       "    .dataframe thead th {\n",
       "        text-align: right;\n",
       "    }\n",
       "</style>\n",
       "<table border=\"1\" class=\"dataframe\">\n",
       "  <thead>\n",
       "    <tr style=\"text-align: right;\">\n",
       "      <th></th>\n",
       "      <th>label</th>\n",
       "      <th>R2</th>\n",
       "      <th>MAE</th>\n",
       "      <th>RMSE</th>\n",
       "    </tr>\n",
       "  </thead>\n",
       "  <tbody>\n",
       "    <tr>\n",
       "      <th>0</th>\n",
       "      <td>lcd</td>\n",
       "      <td>0.646196</td>\n",
       "      <td>5.135036</td>\n",
       "      <td>7.166136</td>\n",
       "    </tr>\n",
       "    <tr>\n",
       "      <th>1</th>\n",
       "      <td>pld</td>\n",
       "      <td>0.637770</td>\n",
       "      <td>4.346162</td>\n",
       "      <td>6.164964</td>\n",
       "    </tr>\n",
       "    <tr>\n",
       "      <th>2</th>\n",
       "      <td>density</td>\n",
       "      <td>0.486565</td>\n",
       "      <td>0.102796</td>\n",
       "      <td>0.156396</td>\n",
       "    </tr>\n",
       "    <tr>\n",
       "      <th>3</th>\n",
       "      <td>avf</td>\n",
       "      <td>0.597773</td>\n",
       "      <td>0.085288</td>\n",
       "      <td>0.118077</td>\n",
       "    </tr>\n",
       "    <tr>\n",
       "      <th>4</th>\n",
       "      <td>avsa</td>\n",
       "      <td>0.612730</td>\n",
       "      <td>253.597464</td>\n",
       "      <td>323.952744</td>\n",
       "    </tr>\n",
       "    <tr>\n",
       "      <th>5</th>\n",
       "      <td>agsa</td>\n",
       "      <td>0.594079</td>\n",
       "      <td>806.956747</td>\n",
       "      <td>1060.158633</td>\n",
       "    </tr>\n",
       "    <tr>\n",
       "      <th>6</th>\n",
       "      <td>co2n2_co2_mol_kg</td>\n",
       "      <td>0.154526</td>\n",
       "      <td>0.057267</td>\n",
       "      <td>0.079879</td>\n",
       "    </tr>\n",
       "    <tr>\n",
       "      <th>7</th>\n",
       "      <td>co2n2_n2_mol_kg</td>\n",
       "      <td>0.742331</td>\n",
       "      <td>0.056945</td>\n",
       "      <td>0.073518</td>\n",
       "    </tr>\n",
       "    <tr>\n",
       "      <th>8</th>\n",
       "      <td>co2n2_selectivity</td>\n",
       "      <td>0.218714</td>\n",
       "      <td>1.542060</td>\n",
       "      <td>2.386112</td>\n",
       "    </tr>\n",
       "    <tr>\n",
       "      <th>9</th>\n",
       "      <td>co2n2_heat_avg</td>\n",
       "      <td>0.341665</td>\n",
       "      <td>2.509178</td>\n",
       "      <td>3.322402</td>\n",
       "    </tr>\n",
       "    <tr>\n",
       "      <th>10</th>\n",
       "      <td>co2n2_heat_co2</td>\n",
       "      <td>0.327267</td>\n",
       "      <td>2.932120</td>\n",
       "      <td>3.879327</td>\n",
       "    </tr>\n",
       "    <tr>\n",
       "      <th>11</th>\n",
       "      <td>co2n2_heat_n2</td>\n",
       "      <td>0.385584</td>\n",
       "      <td>1.294415</td>\n",
       "      <td>1.690014</td>\n",
       "    </tr>\n",
       "    <tr>\n",
       "      <th>12</th>\n",
       "      <td>co2n2_heat_molfrac</td>\n",
       "      <td>0.320758</td>\n",
       "      <td>2.581327</td>\n",
       "      <td>3.437274</td>\n",
       "    </tr>\n",
       "    <tr>\n",
       "      <th>13</th>\n",
       "      <td>co2ch4_co2_mol_kg</td>\n",
       "      <td>0.134349</td>\n",
       "      <td>0.149504</td>\n",
       "      <td>0.206638</td>\n",
       "    </tr>\n",
       "    <tr>\n",
       "      <th>14</th>\n",
       "      <td>co2ch4_ch4_mol_kg</td>\n",
       "      <td>0.579817</td>\n",
       "      <td>0.422526</td>\n",
       "      <td>0.542927</td>\n",
       "    </tr>\n",
       "    <tr>\n",
       "      <th>15</th>\n",
       "      <td>co2ch4_selectivity</td>\n",
       "      <td>0.307591</td>\n",
       "      <td>0.488448</td>\n",
       "      <td>0.637783</td>\n",
       "    </tr>\n",
       "    <tr>\n",
       "      <th>16</th>\n",
       "      <td>co2ch4_heat_avg</td>\n",
       "      <td>0.411019</td>\n",
       "      <td>1.785189</td>\n",
       "      <td>2.422811</td>\n",
       "    </tr>\n",
       "    <tr>\n",
       "      <th>17</th>\n",
       "      <td>co2ch4_heat_co2</td>\n",
       "      <td>0.374196</td>\n",
       "      <td>2.399518</td>\n",
       "      <td>3.205241</td>\n",
       "    </tr>\n",
       "    <tr>\n",
       "      <th>18</th>\n",
       "      <td>co2ch4_heat_ch4</td>\n",
       "      <td>0.425658</td>\n",
       "      <td>1.520563</td>\n",
       "      <td>2.049648</td>\n",
       "    </tr>\n",
       "    <tr>\n",
       "      <th>19</th>\n",
       "      <td>co2ch4_heat_molfrac</td>\n",
       "      <td>0.403282</td>\n",
       "      <td>1.810387</td>\n",
       "      <td>2.441250</td>\n",
       "    </tr>\n",
       "    <tr>\n",
       "      <th>20</th>\n",
       "      <td>scscore</td>\n",
       "      <td>0.661467</td>\n",
       "      <td>0.367372</td>\n",
       "      <td>0.449354</td>\n",
       "    </tr>\n",
       "  </tbody>\n",
       "</table>\n",
       "</div>"
      ],
      "text/plain": [
       "                  label        R2         MAE         RMSE\n",
       "0                   lcd  0.646196    5.135036     7.166136\n",
       "1                   pld  0.637770    4.346162     6.164964\n",
       "2               density  0.486565    0.102796     0.156396\n",
       "3                   avf  0.597773    0.085288     0.118077\n",
       "4                  avsa  0.612730  253.597464   323.952744\n",
       "5                  agsa  0.594079  806.956747  1060.158633\n",
       "6      co2n2_co2_mol_kg  0.154526    0.057267     0.079879\n",
       "7       co2n2_n2_mol_kg  0.742331    0.056945     0.073518\n",
       "8     co2n2_selectivity  0.218714    1.542060     2.386112\n",
       "9        co2n2_heat_avg  0.341665    2.509178     3.322402\n",
       "10       co2n2_heat_co2  0.327267    2.932120     3.879327\n",
       "11        co2n2_heat_n2  0.385584    1.294415     1.690014\n",
       "12   co2n2_heat_molfrac  0.320758    2.581327     3.437274\n",
       "13    co2ch4_co2_mol_kg  0.134349    0.149504     0.206638\n",
       "14    co2ch4_ch4_mol_kg  0.579817    0.422526     0.542927\n",
       "15   co2ch4_selectivity  0.307591    0.488448     0.637783\n",
       "16      co2ch4_heat_avg  0.411019    1.785189     2.422811\n",
       "17      co2ch4_heat_co2  0.374196    2.399518     3.205241\n",
       "18      co2ch4_heat_ch4  0.425658    1.520563     2.049648\n",
       "19  co2ch4_heat_molfrac  0.403282    1.810387     2.441250\n",
       "20              scscore  0.661467    0.367372     0.449354"
      ]
     },
     "execution_count": 22,
     "metadata": {},
     "output_type": "execute_result"
    }
   ],
   "source": [
    "print(header_str('R^2 scores and MAEs'))\n",
    "src_data = test_data\n",
    "batch_size = 256\n",
    "n_loops = int(np.ceil(len(src_data) / batch_size))\n",
    "y_pred, y_true = [], []\n",
    "for chunk in  tqdm(chunked(src_data,batch_size),total=n_loops, desc='Pred'):\n",
    "    batch = model.tuples_to_tensors(chunk)\n",
    "    z = model.inputs_to_z(batch['x'],batch['mof'])\n",
    "    outs = model.z_to_outputs(z)\n",
    "    y_true.extend(model.vocab_y.inverse_transform(batch['y']))\n",
    "    y_pred.extend(outs['y'])\n",
    "    \n",
    "y_pred = np.stack(y_pred)\n",
    "y_true = np.stack(y_true)\n",
    "experiments.regression_statistics(y_true, y_pred, hparams['y_labels'])"
   ]
  },
  {
   "cell_type": "code",
   "execution_count": null,
   "metadata": {},
   "outputs": [],
   "source": []
  }
 ],
 "metadata": {
  "kernelspec": {
   "display_name": "Python 3",
   "language": "python",
   "name": "python3"
  },
  "language_info": {
   "codemirror_mode": {
    "name": "ipython",
    "version": 3
   },
   "file_extension": ".py",
   "mimetype": "text/x-python",
   "name": "python",
   "nbconvert_exporter": "python",
   "pygments_lexer": "ipython3",
   "version": "3.7.6"
  },
  "toc": {
   "base_numbering": 1,
   "nav_menu": {},
   "number_sections": true,
   "sideBar": true,
   "skip_h1_title": false,
   "title_cell": "Table of Contents",
   "title_sidebar": "Contents",
   "toc_cell": false,
   "toc_position": {},
   "toc_section_display": true,
   "toc_window_display": false
  }
 },
 "nbformat": 4,
 "nbformat_minor": 2
}
